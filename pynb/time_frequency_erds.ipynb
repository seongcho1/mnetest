{
  "cells": [
    {
      "cell_type": "markdown",
      "metadata": {
        "id": "view-in-github",
        "colab_type": "text"
      },
      "source": [
        "<a href=\"https://colab.research.google.com/github/seongcho1/mnetest/blob/main/time_frequency_erds.ipynb\" target=\"_parent\"><img src=\"https://colab.research.google.com/assets/colab-badge.svg\" alt=\"Open In Colab\"/></a>"
      ]
    },
    {
      "cell_type": "code",
      "execution_count": 1,
      "metadata": {
        "id": "HYEGAYQOd6fC"
      },
      "outputs": [],
      "source": [
        "%matplotlib inline"
      ]
    },
    {
      "cell_type": "code",
      "source": [
        "!pip install mne"
      ],
      "metadata": {
        "colab": {
          "base_uri": "https://localhost:8080/"
        },
        "id": "dtu8aA6FeInv",
        "outputId": "44e634ae-6302-4ae5-ec4c-77b8b6b4ea42"
      },
      "execution_count": 6,
      "outputs": [
        {
          "output_type": "stream",
          "name": "stdout",
          "text": [
            "Looking in indexes: https://pypi.org/simple, https://us-python.pkg.dev/colab-wheels/public/simple/\n",
            "Collecting mne\n",
            "  Downloading mne-1.3.0-py3-none-any.whl (7.6 MB)\n",
            "\u001b[2K     \u001b[90m━━━━━━━━━━━━━━━━━━━━━━━━━━━━━━━━━━━━━━━━\u001b[0m \u001b[32m7.6/7.6 MB\u001b[0m \u001b[31m51.1 MB/s\u001b[0m eta \u001b[36m0:00:00\u001b[0m\n",
            "\u001b[?25hRequirement already satisfied: numpy>=1.15.4 in /usr/local/lib/python3.8/dist-packages (from mne) (1.21.6)\n",
            "Requirement already satisfied: packaging in /usr/local/lib/python3.8/dist-packages (from mne) (21.3)\n",
            "Requirement already satisfied: jinja2 in /usr/local/lib/python3.8/dist-packages (from mne) (2.11.3)\n",
            "Requirement already satisfied: tqdm in /usr/local/lib/python3.8/dist-packages (from mne) (4.64.1)\n",
            "Requirement already satisfied: pooch>=1.5 in /usr/local/lib/python3.8/dist-packages (from mne) (1.6.0)\n",
            "Requirement already satisfied: matplotlib in /usr/local/lib/python3.8/dist-packages (from mne) (3.2.2)\n",
            "Requirement already satisfied: scipy>=1.1.0 in /usr/local/lib/python3.8/dist-packages (from mne) (1.7.3)\n",
            "Requirement already satisfied: decorator in /usr/local/lib/python3.8/dist-packages (from mne) (4.4.2)\n",
            "Requirement already satisfied: requests>=2.19.0 in /usr/local/lib/python3.8/dist-packages (from pooch>=1.5->mne) (2.25.1)\n",
            "Requirement already satisfied: appdirs>=1.3.0 in /usr/local/lib/python3.8/dist-packages (from pooch>=1.5->mne) (1.4.4)\n",
            "Requirement already satisfied: pyparsing!=3.0.5,>=2.0.2 in /usr/local/lib/python3.8/dist-packages (from packaging->mne) (3.0.9)\n",
            "Requirement already satisfied: MarkupSafe>=0.23 in /usr/local/lib/python3.8/dist-packages (from jinja2->mne) (2.0.1)\n",
            "Requirement already satisfied: python-dateutil>=2.1 in /usr/local/lib/python3.8/dist-packages (from matplotlib->mne) (2.8.2)\n",
            "Requirement already satisfied: cycler>=0.10 in /usr/local/lib/python3.8/dist-packages (from matplotlib->mne) (0.11.0)\n",
            "Requirement already satisfied: kiwisolver>=1.0.1 in /usr/local/lib/python3.8/dist-packages (from matplotlib->mne) (1.4.4)\n",
            "Requirement already satisfied: six>=1.5 in /usr/local/lib/python3.8/dist-packages (from python-dateutil>=2.1->matplotlib->mne) (1.15.0)\n",
            "Requirement already satisfied: urllib3<1.27,>=1.21.1 in /usr/local/lib/python3.8/dist-packages (from requests>=2.19.0->pooch>=1.5->mne) (1.24.3)\n",
            "Requirement already satisfied: certifi>=2017.4.17 in /usr/local/lib/python3.8/dist-packages (from requests>=2.19.0->pooch>=1.5->mne) (2022.12.7)\n",
            "Requirement already satisfied: chardet<5,>=3.0.2 in /usr/local/lib/python3.8/dist-packages (from requests>=2.19.0->pooch>=1.5->mne) (4.0.0)\n",
            "Requirement already satisfied: idna<3,>=2.5 in /usr/local/lib/python3.8/dist-packages (from requests>=2.19.0->pooch>=1.5->mne) (2.10)\n",
            "Installing collected packages: mne\n",
            "Successfully installed mne-1.3.0\n"
          ]
        }
      ]
    },
    {
      "cell_type": "markdown",
      "metadata": {
        "id": "cVNdddH7d6fE"
      },
      "source": [
        "\n",
        "\n",
        "# Compute and visualize ERDS maps\n",
        "\n",
        "This example calculates and displays ERDS maps of event-related EEG data. ERDS\n",
        "(sometimes also written as ERD/ERS) is short for event-related\n",
        "desynchronization (ERD) and event-related synchronization (ERS)\n",
        ":footcite:`PfurtschellerLopesdaSilva1999`. Conceptually, ERD corresponds to a\n",
        "decrease in power in a specific frequency band relative to a baseline.\n",
        "Similarly, ERS corresponds to an increase in power. An ERDS map is a\n",
        "time/frequency representation of ERD/ERS over a range of frequencies\n",
        ":footcite:`GraimannEtAl2002`. ERDS maps are also known as ERSP (event-related\n",
        "spectral perturbation) :footcite:`Makeig1993`.\n",
        "\n",
        "In this example, we use an EEG BCI data set containing two different motor\n",
        "imagery tasks (imagined hand and feet movement). Our goal is to generate ERDS\n",
        "maps for each of the two tasks.\n",
        "\n",
        "First, we load the data and create epochs of 5s length. The data set contains\n",
        "multiple channels, but we will only consider C3, Cz, and C4. We compute maps\n",
        "containing frequencies ranging from 2 to 35Hz. We map ERD to red color and ERS\n",
        "to blue color, which is customary in many ERDS publications. Finally, we\n",
        "perform cluster-based permutation tests to estimate significant ERDS values\n",
        "(corrected for multiple comparisons within channels).\n"
      ]
    },
    {
      "cell_type": "code",
      "execution_count": 7,
      "metadata": {
        "id": "wSECXhVld6fF"
      },
      "outputs": [],
      "source": [
        "# Authors: Clemens Brunner <clemens.brunner@gmail.com>\n",
        "#          Felix Klotzsche <klotzsche@cbs.mpg.de>\n",
        "#\n",
        "# License: BSD-3-Clause"
      ]
    },
    {
      "cell_type": "markdown",
      "metadata": {
        "id": "pxoHhoAAd6fF"
      },
      "source": [
        "As usual, we import everything we need.\n",
        "\n"
      ]
    },
    {
      "cell_type": "code",
      "execution_count": 8,
      "metadata": {
        "id": "7LVefU1xd6fG"
      },
      "outputs": [],
      "source": [
        "import numpy as np\n",
        "import matplotlib.pyplot as plt\n",
        "from matplotlib.colors import TwoSlopeNorm\n",
        "import pandas as pd\n",
        "import seaborn as sns\n",
        "import mne\n",
        "from mne.datasets import eegbci\n",
        "from mne.io import concatenate_raws, read_raw_edf\n",
        "from mne.time_frequency import tfr_multitaper\n",
        "from mne.stats import permutation_cluster_1samp_test as pcluster_test"
      ]
    },
    {
      "cell_type": "markdown",
      "metadata": {
        "id": "mSkL6Gyfd6fG"
      },
      "source": [
        "First, we load and preprocess the data. We use runs 6, 10, and 14 from\n",
        "subject 1 (these runs contains hand and feet motor imagery).\n",
        "\n"
      ]
    },
    {
      "cell_type": "code",
      "execution_count": 9,
      "metadata": {
        "colab": {
          "base_uri": "https://localhost:8080/"
        },
        "id": "-AbZxCyed6fG",
        "outputId": "da1cfbf6-33ba-4513-988e-b1dbbf09f77e"
      },
      "outputs": [
        {
          "output_type": "stream",
          "name": "stdout",
          "text": [
            "Using default location ~/mne_data for EEGBCI...\n",
            "Creating ~/mne_data\n"
          ]
        },
        {
          "output_type": "stream",
          "name": "stderr",
          "text": [
            "Downloading file 'S001/S001R06.edf' from 'https://physionet.org/files/eegmmidb/1.0.0/S001/S001R06.edf' to '/root/mne_data/MNE-eegbci-data/files/eegmmidb/1.0.0'.\n"
          ]
        },
        {
          "output_type": "stream",
          "name": "stdout",
          "text": [
            "Do you want to set the path:\n",
            "    /root/mne_data\n",
            "as the default EEGBCI dataset path in the mne-python config [y]/n? y\n",
            "Attempting to create new mne-python configuration file:\n",
            "/root/.mne/mne-python.json\n"
          ]
        },
        {
          "output_type": "stream",
          "name": "stderr",
          "text": [
            "Downloading file 'S001/S001R10.edf' from 'https://physionet.org/files/eegmmidb/1.0.0/S001/S001R10.edf' to '/root/mne_data/MNE-eegbci-data/files/eegmmidb/1.0.0'.\n",
            "Downloading file 'S001/S001R14.edf' from 'https://physionet.org/files/eegmmidb/1.0.0/S001/S001R14.edf' to '/root/mne_data/MNE-eegbci-data/files/eegmmidb/1.0.0'.\n"
          ]
        },
        {
          "output_type": "stream",
          "name": "stdout",
          "text": [
            "Extracting EDF parameters from /root/mne_data/MNE-eegbci-data/files/eegmmidb/1.0.0/S001/S001R06.edf...\n",
            "EDF file detected\n",
            "Setting channel info structure...\n",
            "Creating raw.info structure...\n",
            "Reading 0 ... 19999  =      0.000 ...   124.994 secs...\n",
            "Extracting EDF parameters from /root/mne_data/MNE-eegbci-data/files/eegmmidb/1.0.0/S001/S001R10.edf...\n",
            "EDF file detected\n",
            "Setting channel info structure...\n",
            "Creating raw.info structure...\n",
            "Reading 0 ... 19999  =      0.000 ...   124.994 secs...\n",
            "Extracting EDF parameters from /root/mne_data/MNE-eegbci-data/files/eegmmidb/1.0.0/S001/S001R14.edf...\n",
            "EDF file detected\n",
            "Setting channel info structure...\n",
            "Creating raw.info structure...\n",
            "Reading 0 ... 19999  =      0.000 ...   124.994 secs...\n",
            "Used Annotations descriptions: ['T1', 'T2']\n"
          ]
        }
      ],
      "source": [
        "fnames = eegbci.load_data(subject=1, runs=(6, 10, 14))\n",
        "raw = concatenate_raws([read_raw_edf(f, preload=True) for f in fnames])\n",
        "\n",
        "raw.rename_channels(lambda x: x.strip('.'))  # remove dots from channel names\n",
        "\n",
        "events, _ = mne.events_from_annotations(raw, event_id=dict(T1=2, T2=3))"
      ]
    },
    {
      "cell_type": "markdown",
      "metadata": {
        "id": "p8rsE1rTd6fH"
      },
      "source": [
        "Now we can create 5s epochs around events of interest.\n",
        "\n"
      ]
    },
    {
      "cell_type": "code",
      "execution_count": 11,
      "metadata": {
        "colab": {
          "base_uri": "https://localhost:8080/"
        },
        "id": "6IX4tH05d6fH",
        "outputId": "1cdb9230-ec23-4526-9c96-e69f6e352e88"
      },
      "outputs": [
        {
          "output_type": "stream",
          "name": "stdout",
          "text": [
            "Not setting metadata\n",
            "45 matching events found\n",
            "No baseline correction applied\n",
            "0 projection items activated\n",
            "Using data from preloaded Raw for 45 events and 961 original time points ...\n",
            "0 bad epochs dropped\n"
          ]
        }
      ],
      "source": [
        "tmin, tmax = -1, 4\n",
        "event_ids = dict(hands=2, feet=3)  # map event IDs to tasks\n",
        "\n",
        "epochs = mne.Epochs(raw, events, event_ids, tmin - 0.5, tmax + 0.5,\n",
        "                    picks=('C3', 'Cz', 'C4'), baseline=None, preload=True)"
      ]
    },
    {
      "cell_type": "markdown",
      "metadata": {
        "id": "xDrgWPoBd6fH"
      },
      "source": [
        "Here we set suitable values for computing ERDS maps.\n",
        "\n"
      ]
    },
    {
      "cell_type": "code",
      "execution_count": 12,
      "metadata": {
        "id": "QzJz43Zyd6fH"
      },
      "outputs": [],
      "source": [
        "freqs = np.arange(2, 36)  # frequencies from 2-35Hz\n",
        "vmin, vmax = -1, 1.5  # set min and max ERDS values in plot\n",
        "baseline = [-1, 0]  # baseline interval (in s)\n",
        "cnorm = TwoSlopeNorm(vmin=vmin, vcenter=0, vmax=vmax)  # min, center & max ERDS\n",
        "\n",
        "kwargs = dict(n_permutations=100, step_down_p=0.05, seed=1,\n",
        "              buffer_size=None, out_type='mask')  # for cluster test"
      ]
    },
    {
      "cell_type": "markdown",
      "metadata": {
        "id": "piADFhJOd6fI"
      },
      "source": [
        "Finally, we perform time/frequency decomposition over all epochs.\n",
        "\n"
      ]
    },
    {
      "cell_type": "code",
      "execution_count": 14,
      "metadata": {
        "colab": {
          "base_uri": "https://localhost:8080/",
          "height": 547
        },
        "id": "d-Xm70d-d6fI",
        "outputId": "44f4e7c9-ec38-4ddf-d2ed-5a9bb5dd75b7"
      },
      "outputs": [
        {
          "output_type": "stream",
          "name": "stderr",
          "text": [
            "[Parallel(n_jobs=1)]: Using backend SequentialBackend with 1 concurrent workers.\n",
            "[Parallel(n_jobs=1)]: Done   1 out of   1 | elapsed:    0.2s remaining:    0.0s\n",
            "[Parallel(n_jobs=1)]: Done   2 out of   2 | elapsed:    0.4s remaining:    0.0s\n"
          ]
        },
        {
          "output_type": "stream",
          "name": "stdout",
          "text": [
            "Not setting metadata\n"
          ]
        },
        {
          "output_type": "stream",
          "name": "stderr",
          "text": [
            "[Parallel(n_jobs=1)]: Done   3 out of   3 | elapsed:    0.6s remaining:    0.0s\n",
            "[Parallel(n_jobs=1)]: Done   3 out of   3 | elapsed:    0.6s finished\n"
          ]
        },
        {
          "output_type": "error",
          "ename": "ValueError",
          "evalue": "ignored",
          "traceback": [
            "\u001b[0;31m---------------------------------------------------------------------------\u001b[0m",
            "\u001b[0;31mValueError\u001b[0m                                Traceback (most recent call last)",
            "\u001b[0;32m<ipython-input-14-ac17d67ce008>\u001b[0m in \u001b[0;36m<module>\u001b[0;34m\u001b[0m\n\u001b[1;32m      1\u001b[0m tfr = tfr_multitaper(epochs, freqs=freqs, n_cycles=freqs, use_fft=True,\n\u001b[1;32m      2\u001b[0m                      return_itc=False, average=False, decim=2)\n\u001b[0;32m----> 3\u001b[0;31m \u001b[0mtfr\u001b[0m\u001b[0;34m.\u001b[0m\u001b[0mcrop\u001b[0m\u001b[0;34m(\u001b[0m\u001b[0mtmin\u001b[0m\u001b[0;34m,\u001b[0m \u001b[0mtmax\u001b[0m\u001b[0;34m)\u001b[0m\u001b[0;34m.\u001b[0m\u001b[0mapply_baseline\u001b[0m\u001b[0;34m(\u001b[0m\u001b[0mbaseline\u001b[0m\u001b[0;34m,\u001b[0m \u001b[0mmode\u001b[0m\u001b[0;34m=\u001b[0m\u001b[0;34m\"percent\"\u001b[0m\u001b[0;34m)\u001b[0m\u001b[0;34m\u001b[0m\u001b[0;34m\u001b[0m\u001b[0m\n\u001b[0m\u001b[1;32m      4\u001b[0m \u001b[0;34m\u001b[0m\u001b[0m\n\u001b[1;32m      5\u001b[0m \u001b[0;32mfor\u001b[0m \u001b[0mevent\u001b[0m \u001b[0;32min\u001b[0m \u001b[0mevent_ids\u001b[0m\u001b[0;34m:\u001b[0m\u001b[0;34m\u001b[0m\u001b[0;34m\u001b[0m\u001b[0m\n",
            "\u001b[0;32m<decorator-gen-310>\u001b[0m in \u001b[0;36mapply_baseline\u001b[0;34m(self, baseline, mode, verbose)\u001b[0m\n",
            "\u001b[0;32m/usr/local/lib/python3.8/dist-packages/mne/time_frequency/tfr.py\u001b[0m in \u001b[0;36mapply_baseline\u001b[0;34m(self, baseline, mode, verbose)\u001b[0m\n\u001b[1;32m   1102\u001b[0m             \u001b[0mThe\u001b[0m \u001b[0mmodified\u001b[0m \u001b[0minstance\u001b[0m\u001b[0;34m.\u001b[0m\u001b[0;34m\u001b[0m\u001b[0;34m\u001b[0m\u001b[0m\n\u001b[1;32m   1103\u001b[0m         \"\"\"  # noqa: E501\n\u001b[0;32m-> 1104\u001b[0;31m         self.baseline = _check_baseline(baseline, times=self.times,\n\u001b[0m\u001b[1;32m   1105\u001b[0m                                         sfreq=self.info['sfreq'])\n\u001b[1;32m   1106\u001b[0m         \u001b[0mrescale\u001b[0m\u001b[0;34m(\u001b[0m\u001b[0mself\u001b[0m\u001b[0;34m.\u001b[0m\u001b[0mdata\u001b[0m\u001b[0;34m,\u001b[0m \u001b[0mself\u001b[0m\u001b[0;34m.\u001b[0m\u001b[0mtimes\u001b[0m\u001b[0;34m,\u001b[0m \u001b[0mself\u001b[0m\u001b[0;34m.\u001b[0m\u001b[0mbaseline\u001b[0m\u001b[0;34m,\u001b[0m \u001b[0mmode\u001b[0m\u001b[0;34m,\u001b[0m \u001b[0mcopy\u001b[0m\u001b[0;34m=\u001b[0m\u001b[0;32mFalse\u001b[0m\u001b[0;34m)\u001b[0m\u001b[0;34m\u001b[0m\u001b[0;34m\u001b[0m\u001b[0m\n",
            "\u001b[0;32m/usr/local/lib/python3.8/dist-packages/mne/baseline.py\u001b[0m in \u001b[0;36m_check_baseline\u001b[0;34m(baseline, times, sfreq, on_baseline_outside_data)\u001b[0m\n\u001b[1;32m    159\u001b[0m \u001b[0;34m\u001b[0m\u001b[0m\n\u001b[1;32m    160\u001b[0m     \u001b[0;32mif\u001b[0m \u001b[0;32mnot\u001b[0m \u001b[0misinstance\u001b[0m\u001b[0;34m(\u001b[0m\u001b[0mbaseline\u001b[0m\u001b[0;34m,\u001b[0m \u001b[0mtuple\u001b[0m\u001b[0;34m)\u001b[0m \u001b[0;32mor\u001b[0m \u001b[0mlen\u001b[0m\u001b[0;34m(\u001b[0m\u001b[0mbaseline\u001b[0m\u001b[0;34m)\u001b[0m \u001b[0;34m!=\u001b[0m \u001b[0;36m2\u001b[0m\u001b[0;34m:\u001b[0m\u001b[0;34m\u001b[0m\u001b[0;34m\u001b[0m\u001b[0m\n\u001b[0;32m--> 161\u001b[0;31m         raise ValueError(f'`baseline={baseline}` is an invalid argument, must '\n\u001b[0m\u001b[1;32m    162\u001b[0m                          f'be a tuple of length 2 or None')\n\u001b[1;32m    163\u001b[0m \u001b[0;34m\u001b[0m\u001b[0m\n",
            "\u001b[0;31mValueError\u001b[0m: `baseline=[-1, 0]` is an invalid argument, must be a tuple of length 2 or None"
          ]
        }
      ],
      "source": [
        "tfr = tfr_multitaper(epochs, freqs=freqs, n_cycles=freqs, use_fft=True,\n",
        "                     return_itc=False, average=False, decim=2)\n",
        "tfr.crop(tmin, tmax).apply_baseline(baseline, mode=\"percent\")\n",
        "\n",
        "for event in event_ids:\n",
        "    # select desired epochs for visualization\n",
        "    tfr_ev = tfr[event]\n",
        "    fig, axes = plt.subplots(1, 4, figsize=(12, 4),\n",
        "                             gridspec_kw={\"width_ratios\": [10, 10, 10, 1]})\n",
        "    for ch, ax in enumerate(axes[:-1]):  # for each channel\n",
        "        # positive clusters\n",
        "        _, c1, p1, _ = pcluster_test(tfr_ev.data[:, ch], tail=1, **kwargs)\n",
        "        # negative clusters\n",
        "        _, c2, p2, _ = pcluster_test(tfr_ev.data[:, ch], tail=-1, **kwargs)\n",
        "\n",
        "        # note that we keep clusters with p <= 0.05 from the combined clusters\n",
        "        # of two independent tests; in this example, we do not correct for\n",
        "        # these two comparisons\n",
        "        c = np.stack(c1 + c2, axis=2)  # combined clusters\n",
        "        p = np.concatenate((p1, p2))  # combined p-values\n",
        "        mask = c[..., p <= 0.05].any(axis=-1)\n",
        "\n",
        "        # plot TFR (ERDS map with masking)\n",
        "        tfr_ev.average().plot([ch], cmap=\"RdBu\", cnorm=cnorm, axes=ax,\n",
        "                              colorbar=False, show=False, mask=mask,\n",
        "                              mask_style=\"mask\")\n",
        "\n",
        "        ax.set_title(epochs.ch_names[ch], fontsize=10)\n",
        "        ax.axvline(0, linewidth=1, color=\"black\", linestyle=\":\")  # event\n",
        "        if ch != 0:\n",
        "            ax.set_ylabel(\"\")\n",
        "            ax.set_yticklabels(\"\")\n",
        "    fig.colorbar(axes[0].images[-1], cax=axes[-1]).ax.set_yscale(\"linear\")\n",
        "    fig.suptitle(f\"ERDS ({event})\")\n",
        "    plt.show()"
      ]
    },
    {
      "cell_type": "markdown",
      "metadata": {
        "id": "IHwmgu4gd6fI"
      },
      "source": [
        "Similar to `~mne.Epochs` objects, we can also export data from\n",
        "`~mne.time_frequency.EpochsTFR` and `~mne.time_frequency.AverageTFR` objects\n",
        "to a :class:`Pandas DataFrame <pandas.DataFrame>`. By default, the `time`\n",
        "column of the exported data frame is in milliseconds. Here, to be consistent\n",
        "with the time-frequency plots, we want to keep it in seconds, which we can\n",
        "achieve by setting ``time_format=None``:\n",
        "\n"
      ]
    },
    {
      "cell_type": "code",
      "execution_count": 15,
      "metadata": {
        "colab": {
          "base_uri": "https://localhost:8080/",
          "height": 206
        },
        "id": "6yUC9Nw4d6fI",
        "outputId": "b7c20f5f-8368-484f-ee2e-a066067b1fa1"
      },
      "outputs": [
        {
          "output_type": "execute_result",
          "data": {
            "text/plain": [
              "     time  freq  epoch condition            C3            Cz            C4\n",
              "0 -1.0000   2.0      0      feet  1.868006e-08  2.416446e-08  9.245538e-09\n",
              "1 -0.9875   2.0      0      feet  1.802184e-08  2.391070e-08  9.307263e-09\n",
              "2 -0.9750   2.0      0      feet  1.769524e-08  2.440337e-08  9.817562e-09\n",
              "3 -0.9625   2.0      0      feet  1.770470e-08  2.532329e-08  1.062991e-08\n",
              "4 -0.9500   2.0      0      feet  1.716206e-08  2.559621e-08  1.098840e-08"
            ],
            "text/html": [
              "\n",
              "  <div id=\"df-e3547858-0a93-4a77-b182-de0cde61924b\">\n",
              "    <div class=\"colab-df-container\">\n",
              "      <div>\n",
              "<style scoped>\n",
              "    .dataframe tbody tr th:only-of-type {\n",
              "        vertical-align: middle;\n",
              "    }\n",
              "\n",
              "    .dataframe tbody tr th {\n",
              "        vertical-align: top;\n",
              "    }\n",
              "\n",
              "    .dataframe thead th {\n",
              "        text-align: right;\n",
              "    }\n",
              "</style>\n",
              "<table border=\"1\" class=\"dataframe\">\n",
              "  <thead>\n",
              "    <tr style=\"text-align: right;\">\n",
              "      <th></th>\n",
              "      <th>time</th>\n",
              "      <th>freq</th>\n",
              "      <th>epoch</th>\n",
              "      <th>condition</th>\n",
              "      <th>C3</th>\n",
              "      <th>Cz</th>\n",
              "      <th>C4</th>\n",
              "    </tr>\n",
              "  </thead>\n",
              "  <tbody>\n",
              "    <tr>\n",
              "      <th>0</th>\n",
              "      <td>-1.0000</td>\n",
              "      <td>2.0</td>\n",
              "      <td>0</td>\n",
              "      <td>feet</td>\n",
              "      <td>1.868006e-08</td>\n",
              "      <td>2.416446e-08</td>\n",
              "      <td>9.245538e-09</td>\n",
              "    </tr>\n",
              "    <tr>\n",
              "      <th>1</th>\n",
              "      <td>-0.9875</td>\n",
              "      <td>2.0</td>\n",
              "      <td>0</td>\n",
              "      <td>feet</td>\n",
              "      <td>1.802184e-08</td>\n",
              "      <td>2.391070e-08</td>\n",
              "      <td>9.307263e-09</td>\n",
              "    </tr>\n",
              "    <tr>\n",
              "      <th>2</th>\n",
              "      <td>-0.9750</td>\n",
              "      <td>2.0</td>\n",
              "      <td>0</td>\n",
              "      <td>feet</td>\n",
              "      <td>1.769524e-08</td>\n",
              "      <td>2.440337e-08</td>\n",
              "      <td>9.817562e-09</td>\n",
              "    </tr>\n",
              "    <tr>\n",
              "      <th>3</th>\n",
              "      <td>-0.9625</td>\n",
              "      <td>2.0</td>\n",
              "      <td>0</td>\n",
              "      <td>feet</td>\n",
              "      <td>1.770470e-08</td>\n",
              "      <td>2.532329e-08</td>\n",
              "      <td>1.062991e-08</td>\n",
              "    </tr>\n",
              "    <tr>\n",
              "      <th>4</th>\n",
              "      <td>-0.9500</td>\n",
              "      <td>2.0</td>\n",
              "      <td>0</td>\n",
              "      <td>feet</td>\n",
              "      <td>1.716206e-08</td>\n",
              "      <td>2.559621e-08</td>\n",
              "      <td>1.098840e-08</td>\n",
              "    </tr>\n",
              "  </tbody>\n",
              "</table>\n",
              "</div>\n",
              "      <button class=\"colab-df-convert\" onclick=\"convertToInteractive('df-e3547858-0a93-4a77-b182-de0cde61924b')\"\n",
              "              title=\"Convert this dataframe to an interactive table.\"\n",
              "              style=\"display:none;\">\n",
              "        \n",
              "  <svg xmlns=\"http://www.w3.org/2000/svg\" height=\"24px\"viewBox=\"0 0 24 24\"\n",
              "       width=\"24px\">\n",
              "    <path d=\"M0 0h24v24H0V0z\" fill=\"none\"/>\n",
              "    <path d=\"M18.56 5.44l.94 2.06.94-2.06 2.06-.94-2.06-.94-.94-2.06-.94 2.06-2.06.94zm-11 1L8.5 8.5l.94-2.06 2.06-.94-2.06-.94L8.5 2.5l-.94 2.06-2.06.94zm10 10l.94 2.06.94-2.06 2.06-.94-2.06-.94-.94-2.06-.94 2.06-2.06.94z\"/><path d=\"M17.41 7.96l-1.37-1.37c-.4-.4-.92-.59-1.43-.59-.52 0-1.04.2-1.43.59L10.3 9.45l-7.72 7.72c-.78.78-.78 2.05 0 2.83L4 21.41c.39.39.9.59 1.41.59.51 0 1.02-.2 1.41-.59l7.78-7.78 2.81-2.81c.8-.78.8-2.07 0-2.86zM5.41 20L4 18.59l7.72-7.72 1.47 1.35L5.41 20z\"/>\n",
              "  </svg>\n",
              "      </button>\n",
              "      \n",
              "  <style>\n",
              "    .colab-df-container {\n",
              "      display:flex;\n",
              "      flex-wrap:wrap;\n",
              "      gap: 12px;\n",
              "    }\n",
              "\n",
              "    .colab-df-convert {\n",
              "      background-color: #E8F0FE;\n",
              "      border: none;\n",
              "      border-radius: 50%;\n",
              "      cursor: pointer;\n",
              "      display: none;\n",
              "      fill: #1967D2;\n",
              "      height: 32px;\n",
              "      padding: 0 0 0 0;\n",
              "      width: 32px;\n",
              "    }\n",
              "\n",
              "    .colab-df-convert:hover {\n",
              "      background-color: #E2EBFA;\n",
              "      box-shadow: 0px 1px 2px rgba(60, 64, 67, 0.3), 0px 1px 3px 1px rgba(60, 64, 67, 0.15);\n",
              "      fill: #174EA6;\n",
              "    }\n",
              "\n",
              "    [theme=dark] .colab-df-convert {\n",
              "      background-color: #3B4455;\n",
              "      fill: #D2E3FC;\n",
              "    }\n",
              "\n",
              "    [theme=dark] .colab-df-convert:hover {\n",
              "      background-color: #434B5C;\n",
              "      box-shadow: 0px 1px 3px 1px rgba(0, 0, 0, 0.15);\n",
              "      filter: drop-shadow(0px 1px 2px rgba(0, 0, 0, 0.3));\n",
              "      fill: #FFFFFF;\n",
              "    }\n",
              "  </style>\n",
              "\n",
              "      <script>\n",
              "        const buttonEl =\n",
              "          document.querySelector('#df-e3547858-0a93-4a77-b182-de0cde61924b button.colab-df-convert');\n",
              "        buttonEl.style.display =\n",
              "          google.colab.kernel.accessAllowed ? 'block' : 'none';\n",
              "\n",
              "        async function convertToInteractive(key) {\n",
              "          const element = document.querySelector('#df-e3547858-0a93-4a77-b182-de0cde61924b');\n",
              "          const dataTable =\n",
              "            await google.colab.kernel.invokeFunction('convertToInteractive',\n",
              "                                                     [key], {});\n",
              "          if (!dataTable) return;\n",
              "\n",
              "          const docLinkHtml = 'Like what you see? Visit the ' +\n",
              "            '<a target=\"_blank\" href=https://colab.research.google.com/notebooks/data_table.ipynb>data table notebook</a>'\n",
              "            + ' to learn more about interactive tables.';\n",
              "          element.innerHTML = '';\n",
              "          dataTable['output_type'] = 'display_data';\n",
              "          await google.colab.output.renderOutput(dataTable, element);\n",
              "          const docLink = document.createElement('div');\n",
              "          docLink.innerHTML = docLinkHtml;\n",
              "          element.appendChild(docLink);\n",
              "        }\n",
              "      </script>\n",
              "    </div>\n",
              "  </div>\n",
              "  "
            ]
          },
          "metadata": {},
          "execution_count": 15
        }
      ],
      "source": [
        "df = tfr.to_data_frame(time_format=None)\n",
        "df.head()"
      ]
    },
    {
      "cell_type": "markdown",
      "metadata": {
        "id": "-yoSSoCed6fI"
      },
      "source": [
        "This allows us to use additional plotting functions like\n",
        ":func:`seaborn.lineplot` to plot confidence bands:\n",
        "\n"
      ]
    },
    {
      "cell_type": "code",
      "execution_count": 16,
      "metadata": {
        "colab": {
          "base_uri": "https://localhost:8080/",
          "height": 888
        },
        "id": "_ef1eEjbd6fJ",
        "outputId": "1e411a9e-37d5-4d01-ac48-d80f180d7d8c"
      },
      "outputs": [
        {
          "output_type": "stream",
          "name": "stdout",
          "text": [
            "Converting \"condition\" to \"category\"...\n",
            "Converting \"epoch\" to \"category\"...\n",
            "Converting \"channel\" to \"category\"...\n",
            "Converting \"ch_type\" to \"category\"...\n"
          ]
        },
        {
          "output_type": "display_data",
          "data": {
            "text/plain": [
              "<Figure size 782.25x864 with 12 Axes>"
            ],
            "image/png": "[encoded data removed]"
          },
          "metadata": {
            "needs_background": "light"
          }
        }
      ],
      "source": [
        "df = tfr.to_data_frame(time_format=None, long_format=True)\n",
        "\n",
        "# Map to frequency bands:\n",
        "freq_bounds = {'_': 0,\n",
        "               'delta': 3,\n",
        "               'theta': 7,\n",
        "               'alpha': 13,\n",
        "               'beta': 35,\n",
        "               'gamma': 140}\n",
        "df['band'] = pd.cut(df['freq'], list(freq_bounds.values()),\n",
        "                    labels=list(freq_bounds)[1:])\n",
        "\n",
        "# Filter to retain only relevant frequency bands:\n",
        "freq_bands_of_interest = ['delta', 'theta', 'alpha', 'beta']\n",
        "df = df[df.band.isin(freq_bands_of_interest)]\n",
        "df['band'] = df['band'].cat.remove_unused_categories()\n",
        "\n",
        "# Order channels for plotting:\n",
        "df['channel'] = df['channel'].cat.reorder_categories(('C3', 'Cz', 'C4'),\n",
        "                                                     ordered=True)\n",
        "\n",
        "g = sns.FacetGrid(df, row='band', col='channel', margin_titles=True)\n",
        "g.map(sns.lineplot, 'time', 'value', 'condition', n_boot=10)\n",
        "axline_kw = dict(color='black', linestyle='dashed', linewidth=0.5, alpha=0.5)\n",
        "g.map(plt.axhline, y=0, **axline_kw)\n",
        "g.map(plt.axvline, x=0, **axline_kw)\n",
        "g.set(ylim=(None, 1.5))\n",
        "g.set_axis_labels(\"Time (s)\", \"ERDS (%)\")\n",
        "g.set_titles(col_template=\"{col_name}\", row_template=\"{row_name}\")\n",
        "g.add_legend(ncol=2, loc='lower center')\n",
        "g.fig.subplots_adjust(left=0.1, right=0.9, top=0.9, bottom=0.08)"
      ]
    },
    {
      "cell_type": "markdown",
      "metadata": {
        "id": "mWeaPb0qd6fJ"
      },
      "source": [
        "Having the data as a DataFrame also facilitates subsetting,\n",
        "grouping, and other transforms.\n",
        "Here, we use seaborn to plot the average ERDS in the motor imagery interval\n",
        "as a function of frequency band and imagery condition:\n",
        "\n"
      ]
    },
    {
      "cell_type": "code",
      "execution_count": 17,
      "metadata": {
        "colab": {
          "base_uri": "https://localhost:8080/",
          "height": 234
        },
        "id": "647m5mkRd6fJ",
        "outputId": "0304c61c-200e-45d3-e1f3-980f74dea4df"
      },
      "outputs": [
        {
          "output_type": "display_data",
          "data": {
            "text/plain": [
              "<Figure size 713.875x216 with 2 Axes>"
            ],
            "image/png": "[encoded data removed]"
          },
          "metadata": {
            "needs_background": "light"
          }
        }
      ],
      "source": [
        "df_mean = (df.query('time > 1')\n",
        "             .groupby(['condition', 'epoch', 'band', 'channel'])[['value']]\n",
        "             .mean()\n",
        "             .reset_index())\n",
        "\n",
        "g = sns.FacetGrid(df_mean, col='condition', col_order=['hands', 'feet'],\n",
        "                  margin_titles=True)\n",
        "g = (g.map(sns.violinplot, 'channel', 'value', 'band', n_boot=10,\n",
        "           palette='deep', order=['C3', 'Cz', 'C4'],\n",
        "           hue_order=freq_bands_of_interest,\n",
        "           linewidth=0.5).add_legend(ncol=4, loc='lower center'))\n",
        "\n",
        "g.map(plt.axhline, **axline_kw)\n",
        "g.set_axis_labels(\"\", \"ERDS (%)\")\n",
        "g.set_titles(col_template=\"{col_name}\", row_template=\"{row_name}\")\n",
        "g.fig.subplots_adjust(left=0.1, right=0.9, top=0.9, bottom=0.3)"
      ]
    },
    {
      "cell_type": "markdown",
      "metadata": {
        "id": "yc40NNTRd6fJ"
      },
      "source": [
        "## References\n",
        ".. footbibliography::\n",
        "\n"
      ]
    }
  ],
  "metadata": {
    "kernelspec": {
      "display_name": "Python 3",
      "language": "python",
      "name": "python3"
    },
    "language_info": {
      "codemirror_mode": {
        "name": "ipython",
        "version": 3
      },
      "file_extension": ".py",
      "mimetype": "text/x-python",
      "name": "python",
      "nbconvert_exporter": "python",
      "pygments_lexer": "ipython3",
      "version": "3.8.0"
    },
    "colab": {
      "provenance": [],
      "include_colab_link": true
    }
  },
  "nbformat": 4,
  "nbformat_minor": 0
}