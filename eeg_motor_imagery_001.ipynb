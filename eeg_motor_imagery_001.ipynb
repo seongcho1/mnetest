{
  "nbformat": 4,
  "nbformat_minor": 0,
  "metadata": {
    "colab": {
      "provenance": [],
      "authorship_tag": "ABX9TyPJkmkZ4KNca8bhixJhEWMx",
      "include_colab_link": true
    },
    "kernelspec": {
      "name": "python3",
      "display_name": "Python 3"
    },
    "language_info": {
      "name": "python"
    }
  },
  "cells": [
    {
      "cell_type": "markdown",
      "metadata": {
        "id": "view-in-github",
        "colab_type": "text"
      },
      "source": [
        "<a href=\"https://colab.research.google.com/github/seongcho1/mnetest/blob/main/eeg_motor_imagery_001.ipynb\" target=\"_parent\"><img src=\"https://colab.research.google.com/assets/colab-badge.svg\" alt=\"Open In Colab\"/></a>"
      ]
    },
    {
      "cell_type": "markdown",
      "source": [
        "https://github.com/mne-tools/mne-torch/blob/master/demo_eeg_csp.py"
      ],
      "metadata": {
        "id": "-hiyg4PD3Pqz"
      }
    },
    {
      "cell_type": "code",
      "execution_count": 1,
      "metadata": {
        "id": "D73tCDO0uB74"
      },
      "outputs": [],
      "source": [
        "import sklearn.model_selection\n",
        "import sklearn.ensemble\n",
        "import scipy.stats\n",
        "import numpy as np"
      ]
    },
    {
      "cell_type": "code",
      "source": [
        "!pip install mne"
      ],
      "metadata": {
        "colab": {
          "base_uri": "https://localhost:8080/"
        },
        "id": "R0RTai3nulCP",
        "outputId": "2a2845bd-2ea9-419e-c450-84842178ad7b"
      },
      "execution_count": 3,
      "outputs": [
        {
          "output_type": "stream",
          "name": "stdout",
          "text": [
            "Looking in indexes: https://pypi.org/simple, https://us-python.pkg.dev/colab-wheels/public/simple/\n",
            "Collecting mne\n",
            "  Downloading mne-1.3.0-py3-none-any.whl (7.6 MB)\n",
            "\u001b[2K     \u001b[90m━━━━━━━━━━━━━━━━━━━━━━━━━━━━━━━━━━━━━━━━\u001b[0m \u001b[32m7.6/7.6 MB\u001b[0m \u001b[31m33.2 MB/s\u001b[0m eta \u001b[36m0:00:00\u001b[0m\n",
            "\u001b[?25hRequirement already satisfied: pooch>=1.5 in /usr/local/lib/python3.8/dist-packages (from mne) (1.6.0)\n",
            "Requirement already satisfied: decorator in /usr/local/lib/python3.8/dist-packages (from mne) (4.4.2)\n",
            "Requirement already satisfied: numpy>=1.15.4 in /usr/local/lib/python3.8/dist-packages (from mne) (1.21.6)\n",
            "Requirement already satisfied: tqdm in /usr/local/lib/python3.8/dist-packages (from mne) (4.64.1)\n",
            "Requirement already satisfied: packaging in /usr/local/lib/python3.8/dist-packages (from mne) (21.3)\n",
            "Requirement already satisfied: matplotlib in /usr/local/lib/python3.8/dist-packages (from mne) (3.2.2)\n",
            "Requirement already satisfied: jinja2 in /usr/local/lib/python3.8/dist-packages (from mne) (2.11.3)\n",
            "Requirement already satisfied: scipy>=1.1.0 in /usr/local/lib/python3.8/dist-packages (from mne) (1.7.3)\n",
            "Requirement already satisfied: requests>=2.19.0 in /usr/local/lib/python3.8/dist-packages (from pooch>=1.5->mne) (2.25.1)\n",
            "Requirement already satisfied: appdirs>=1.3.0 in /usr/local/lib/python3.8/dist-packages (from pooch>=1.5->mne) (1.4.4)\n",
            "Requirement already satisfied: pyparsing!=3.0.5,>=2.0.2 in /usr/local/lib/python3.8/dist-packages (from packaging->mne) (3.0.9)\n",
            "Requirement already satisfied: MarkupSafe>=0.23 in /usr/local/lib/python3.8/dist-packages (from jinja2->mne) (2.0.1)\n",
            "Requirement already satisfied: kiwisolver>=1.0.1 in /usr/local/lib/python3.8/dist-packages (from matplotlib->mne) (1.4.4)\n",
            "Requirement already satisfied: python-dateutil>=2.1 in /usr/local/lib/python3.8/dist-packages (from matplotlib->mne) (2.8.2)\n",
            "Requirement already satisfied: cycler>=0.10 in /usr/local/lib/python3.8/dist-packages (from matplotlib->mne) (0.11.0)\n",
            "Requirement already satisfied: six>=1.5 in /usr/local/lib/python3.8/dist-packages (from python-dateutil>=2.1->matplotlib->mne) (1.15.0)\n",
            "Requirement already satisfied: urllib3<1.27,>=1.21.1 in /usr/local/lib/python3.8/dist-packages (from requests>=2.19.0->pooch>=1.5->mne) (1.24.3)\n",
            "Requirement already satisfied: chardet<5,>=3.0.2 in /usr/local/lib/python3.8/dist-packages (from requests>=2.19.0->pooch>=1.5->mne) (4.0.0)\n",
            "Requirement already satisfied: idna<3,>=2.5 in /usr/local/lib/python3.8/dist-packages (from requests>=2.19.0->pooch>=1.5->mne) (2.10)\n",
            "Requirement already satisfied: certifi>=2017.4.17 in /usr/local/lib/python3.8/dist-packages (from requests>=2.19.0->pooch>=1.5->mne) (2022.12.7)\n",
            "Installing collected packages: mne\n",
            "Successfully installed mne-1.3.0\n"
          ]
        }
      ]
    },
    {
      "cell_type": "code",
      "source": [
        "from sklearn.model_selection import ShuffleSplit\n",
        "from mne import Epochs, pick_types, events_from_annotations\n",
        "from mne.io import concatenate_raws, read_raw_edf\n",
        "from mne.datasets import eegbci"
      ],
      "metadata": {
        "id": "jAtiD8Ezudwa"
      },
      "execution_count": 4,
      "outputs": []
    },
    {
      "cell_type": "code",
      "source": [
        "def get_data():\n",
        "    tmin, tmax = -1., 4.\n",
        "    event_id = dict(hands=2, feet=3)\n",
        "    subject = 1\n",
        "    runs = [6, 10, 14]  # motor imagery: hands vs feet\n",
        "\n",
        "    raw_fnames = eegbci.load_data(subject, runs)\n",
        "    raw = concatenate_raws([read_raw_edf(f, preload=True) for f in raw_fnames])\n",
        "\n",
        "    # strip channel names of \".\" characters\n",
        "    raw.rename_channels(lambda x: x.strip('.'))\n",
        "\n",
        "    # Apply band-pass filter\n",
        "    raw.filter(7., 30., fir_design='firwin', skip_by_annotation='edge')\n",
        "\n",
        "    events, _ = events_from_annotations(raw)\n",
        "\n",
        "    picks = pick_types(raw.info, meg=False, eeg=True, stim=False, eog=False,\n",
        "                       exclude='bads')\n",
        "\n",
        "    # Read epochs (train will be done only between 1 and 2s)\n",
        "    # Testing will be done with a running classifier\n",
        "    epochs = Epochs(raw, events, event_id, tmin, tmax, proj=True, picks=picks,\n",
        "                    baseline=None, preload=True)\n",
        "    epochs.crop(tmin=1., tmax=None)\n",
        "    labels = epochs.events[:, 2] - 2\n",
        "    return epochs.get_data()[:, :, :256], labels\n",
        "\n",
        "\n",
        "epochs_data, labels = get_data()\n",
        "print(epochs_data.shape, labels.shape)"
      ],
      "metadata": {
        "colab": {
          "base_uri": "https://localhost:8080/"
        },
        "id": "OFbpZqL6uJ4A",
        "outputId": "48f0ceae-008d-435f-883a-f9c33c38c113"
      },
      "execution_count": 9,
      "outputs": [
        {
          "output_type": "stream",
          "name": "stdout",
          "text": [
            "Extracting EDF parameters from /root/mne_data/MNE-eegbci-data/files/eegmmidb/1.0.0/S001/S001R06.edf...\n",
            "EDF file detected\n",
            "Setting channel info structure...\n",
            "Creating raw.info structure...\n",
            "Reading 0 ... 19999  =      0.000 ...   124.994 secs...\n",
            "Extracting EDF parameters from /root/mne_data/MNE-eegbci-data/files/eegmmidb/1.0.0/S001/S001R10.edf...\n",
            "EDF file detected\n",
            "Setting channel info structure...\n",
            "Creating raw.info structure...\n",
            "Reading 0 ... 19999  =      0.000 ...   124.994 secs...\n",
            "Extracting EDF parameters from /root/mne_data/MNE-eegbci-data/files/eegmmidb/1.0.0/S001/S001R14.edf...\n",
            "EDF file detected\n",
            "Setting channel info structure...\n",
            "Creating raw.info structure...\n",
            "Reading 0 ... 19999  =      0.000 ...   124.994 secs...\n",
            "Filtering raw data in 3 contiguous segments\n",
            "Setting up band-pass filter from 7 - 30 Hz\n",
            "\n",
            "FIR filter parameters\n",
            "---------------------\n",
            "Designing a one-pass, zero-phase, non-causal bandpass filter:\n",
            "- Windowed time-domain design (firwin) method\n",
            "- Hamming window with 0.0194 passband ripple and 53 dB stopband attenuation\n",
            "- Lower passband edge: 7.00\n",
            "- Lower transition bandwidth: 2.00 Hz (-6 dB cutoff frequency: 6.00 Hz)\n",
            "- Upper passband edge: 30.00 Hz\n",
            "- Upper transition bandwidth: 7.50 Hz (-6 dB cutoff frequency: 33.75 Hz)\n",
            "- Filter length: 265 samples (1.656 sec)\n",
            "\n"
          ]
        },
        {
          "output_type": "stream",
          "name": "stderr",
          "text": [
            "[Parallel(n_jobs=1)]: Using backend SequentialBackend with 1 concurrent workers.\n",
            "[Parallel(n_jobs=1)]: Done   1 out of   1 | elapsed:    0.0s remaining:    0.0s\n",
            "[Parallel(n_jobs=1)]: Done   2 out of   2 | elapsed:    0.0s remaining:    0.0s\n",
            "[Parallel(n_jobs=1)]: Done   3 out of   3 | elapsed:    0.0s remaining:    0.0s\n",
            "[Parallel(n_jobs=1)]: Done   4 out of   4 | elapsed:    0.0s remaining:    0.0s\n",
            "[Parallel(n_jobs=1)]: Done  64 out of  64 | elapsed:    0.2s finished\n"
          ]
        },
        {
          "output_type": "stream",
          "name": "stdout",
          "text": [
            "Used Annotations descriptions: ['T0', 'T1', 'T2']\n",
            "Not setting metadata\n",
            "45 matching events found\n",
            "No baseline correction applied\n",
            "0 projection items activated\n",
            "Using data from preloaded Raw for 45 events and 801 original time points ...\n",
            "0 bad epochs dropped\n",
            "(45, 64, 256) (45,)\n"
          ]
        }
      ]
    },
    {
      "cell_type": "code",
      "source": [
        "import copy\n",
        "\n",
        "import numpy as np\n",
        "\n",
        "from tqdm import tqdm\n",
        "\n",
        "import torch\n",
        "import torch.nn.functional as F\n",
        "from torch.utils.data import Dataset\n",
        "from torch.utils.data.dataset import ConcatDataset as _ConcatDataset  # noqa\n",
        "\n",
        "\n",
        "class ConcatDataset(_ConcatDataset):\n",
        "    \"\"\"\n",
        "    Same as torch.utils.data.dataset.ConcatDataset, but exposes an extra\n",
        "    method for querying the group structure (index if dataset\n",
        "    each sample comes from)\n",
        "    \"\"\"\n",
        "    def get_groups(self):\n",
        "        \"\"\"Return the group index of each sample\n",
        "        Returns\n",
        "        -------\n",
        "        groups : array of int, shape (n_samples,)\n",
        "            The group indices.\n",
        "        \"\"\"\n",
        "        groups = [k * np.ones(len(d)) for k, d in enumerate(self.datasets)]\n",
        "        return np.concatenate(groups)\n",
        "\n",
        "\n",
        "class EpochsDataset(Dataset):\n",
        "    \"\"\"Class to expose an MNE Epochs object as PyTorch dataset\n",
        "    Parameters\n",
        "    ----------\n",
        "    epochs_data : 3d array, shape (n_epochs, n_channels, n_times)\n",
        "        The epochs data.\n",
        "    epochs_labels : array of int, shape (n_epochs,)\n",
        "        The epochs labels.\n",
        "    transform : callable | None\n",
        "        The function to eventually apply to each epoch\n",
        "        for preprocessing (e.g. scaling). Defaults to None.\n",
        "    \"\"\"\n",
        "    def __init__(self, epochs_data, epochs_labels, transform=None):\n",
        "        assert len(epochs_data) == len(epochs_labels)\n",
        "        self.epochs_data = epochs_data\n",
        "        self.epochs_labels = epochs_labels\n",
        "        self.transform = transform\n",
        "\n",
        "    def __len__(self):\n",
        "        return len(self.epochs_labels)\n",
        "\n",
        "    def __getitem__(self, idx):\n",
        "        X, y = self.epochs_data[idx], self.epochs_labels[idx]\n",
        "        if self.transform is not None:\n",
        "            X = self.transform(X)\n",
        "        X = torch.as_tensor(X[None, ...])\n",
        "        return X, y\n",
        "\n",
        "\n",
        "def _do_train(model, loader, optimizer, criterion, device):\n",
        "    # training loop\n",
        "    model.train()\n",
        "    pbar = tqdm(loader)\n",
        "    train_loss = np.zeros(len(loader))\n",
        "    for idx_batch, (batch_x, batch_y) in enumerate(pbar):\n",
        "        optimizer.zero_grad()\n",
        "        batch_x = batch_x.to(device=device, dtype=torch.float32)\n",
        "        batch_y = batch_y.to(device=device, dtype=torch.int64)\n",
        "\n",
        "        output = model(batch_x)\n",
        "        loss = criterion(output, batch_y)\n",
        "\n",
        "        loss.backward()\n",
        "        optimizer.step()\n",
        "\n",
        "        train_loss[idx_batch] = loss.item()\n",
        "        pbar.set_description(\n",
        "            desc=\"avg train loss: {:.4f}\".format(\n",
        "                np.mean(train_loss[:idx_batch + 1])))\n",
        "\n",
        "\n",
        "def _validate(model, loader, criterion, device):\n",
        "    # validation loop\n",
        "    pbar = tqdm(loader)\n",
        "    val_loss = np.zeros(len(loader))\n",
        "    accuracy = 0.\n",
        "    with torch.no_grad():\n",
        "        model.eval()\n",
        "\n",
        "        for idx_batch, (batch_x, batch_y) in enumerate(pbar):\n",
        "            batch_x = batch_x.to(device=device, dtype=torch.float32)\n",
        "            batch_y = batch_y.to(device=device, dtype=torch.int64)\n",
        "            output = model.forward(batch_x)\n",
        "\n",
        "            loss = criterion(output, batch_y)\n",
        "            val_loss[idx_batch] = loss.item()\n",
        "\n",
        "            _, top_class = output.topk(1, dim=1)\n",
        "            top_class = top_class.flatten()\n",
        "            # print(top_class.shape, batch_y.shape)\n",
        "            accuracy += \\\n",
        "                torch.sum((batch_y == top_class).to(torch.float32))\n",
        "\n",
        "            pbar.set_description(\n",
        "                desc=\"avg val loss: {:.4f}\".format(\n",
        "                    np.mean(val_loss[:idx_batch + 1])))\n",
        "\n",
        "    accuracy = accuracy / len(loader.dataset)\n",
        "    print(\"---  Accuracy : %s\" % accuracy.item(), \"\\n\")\n",
        "    return np.mean(val_loss)\n",
        "\n",
        "\n",
        "def train(model, loader_train, loader_valid, optimizer, n_epochs, patience,\n",
        "          device):\n",
        "    \"\"\"Training function\n",
        "    Parameters\n",
        "    ----------\n",
        "    model : instance of nn.Module\n",
        "        The model.\n",
        "    loader_train : instance of Sampler\n",
        "        The generator of EEG samples the model has to train on.\n",
        "        It contains n_train samples\n",
        "    loader_valid : instance of Sampler\n",
        "        The generator of EEG samples the model has to validate on.\n",
        "        It contains n_val samples. The validation samples are used to\n",
        "        monitor the training process and to perform early stopping\n",
        "    optimizer : instance of optimizer\n",
        "        The optimizer to use for training.\n",
        "    n_epochs : int\n",
        "        The maximum of epochs to run.\n",
        "    patience : int\n",
        "        The patience parameter, i.e. how long to wait for the\n",
        "        validation error to go down.\n",
        "    device : str | instance of torch.device\n",
        "        The device to train the model on.\n",
        "    Returns\n",
        "    -------\n",
        "    best_model : instance of nn.Module\n",
        "        The model that lead to the best prediction on the validation\n",
        "        dataset.\n",
        "    \"\"\"\n",
        "    # put model on cuda if not already\n",
        "    device = torch.device(device)\n",
        "    # model.to(device)\n",
        "\n",
        "    # define criterion\n",
        "    criterion = F.nll_loss\n",
        "\n",
        "    best_val_loss = + np.infty\n",
        "    best_model = copy.deepcopy(model)\n",
        "    waiting = 0\n",
        "\n",
        "    for epoch in range(n_epochs):\n",
        "        print(\"\\nStarting epoch {} / {}\".format(epoch + 1, n_epochs))\n",
        "        _do_train(model, loader_train, optimizer, criterion, device)\n",
        "        val_loss = _validate(model, loader_valid, criterion, device)\n",
        "\n",
        "        # model saving\n",
        "        if np.mean(val_loss) < best_val_loss:\n",
        "            print(\"\\nbest val loss {:.4f} -> {:.4f}\".format(\n",
        "                best_val_loss, np.mean(val_loss)))\n",
        "            best_val_loss = np.mean(val_loss)\n",
        "            best_model = copy.deepcopy(model)\n",
        "            waiting = 0\n",
        "        else:\n",
        "            print(\"Waiting += 1\")\n",
        "            waiting += 1\n",
        "\n",
        "        # model early stopping\n",
        "        if waiting >= patience:\n",
        "            print(\"Stop training at epoch {}\".format(epoch + 1))\n",
        "            print(\"Best val loss : {:.4f}\".format(best_val_loss))\n",
        "            break\n",
        "\n",
        "    return best_model"
      ],
      "metadata": {
        "id": "W_kS4Tf32TGK"
      },
      "execution_count": 14,
      "outputs": []
    },
    {
      "cell_type": "code",
      "source": [
        "# Classification with PyTorch CSP like model\n",
        "\n",
        "import torch   # noqa\n",
        "import torch.optim as optim  # noqa\n",
        "from torch.utils.data import Dataset, DataLoader  # noqa\n",
        "from torch.utils.data import Subset  # noqa\n",
        "from torch import nn  # noqa\n",
        "import torch.nn.functional as F  # noqa\n",
        "from torch.utils.data import RandomSampler  # noqa\n",
        "from torch.utils.data import SequentialSampler  # noqa\n",
        "\n",
        "#from common import EpochsDataset  # noqa\n",
        "\n",
        "cv = ShuffleSplit(10, test_size=0.2, random_state=42)\n",
        "cv_split = cv.split(epochs_data)\n",
        "train_idx, test_idx = next(cv_split)\n",
        "\n",
        "\n",
        "def scale(X):\n",
        "    \"\"\"Standard scaling of data along the last dimention.\n",
        "    Parameters\n",
        "    ----------\n",
        "    X : array, shape (n_channels, n_times)\n",
        "        The input signals.\n",
        "    Returns\n",
        "    -------\n",
        "    X_t : array, shape (n_channels, n_times)\n",
        "        The scaled signals.\n",
        "    \"\"\"\n",
        "    return X / 2e-5\n",
        "\n",
        "dataset = EpochsDataset(epochs_data, labels, transform=scale)\n",
        "\n",
        "ds_train, ds_valid = Subset(dataset, train_idx), Subset(dataset, test_idx)\n",
        "\n",
        "batch_size_train = len(ds_train)\n",
        "batch_size_valid = len(ds_valid)\n",
        "sampler_train = RandomSampler(ds_train)\n",
        "sampler_valid = SequentialSampler(ds_valid)\n",
        "\n",
        "# create loaders\n",
        "num_workers = 0\n",
        "loader_train = \\\n",
        "    DataLoader(ds_train, batch_size=batch_size_train,\n",
        "               num_workers=num_workers, sampler=sampler_train)\n",
        "loader_valid = \\\n",
        "    DataLoader(ds_valid, batch_size=batch_size_valid,\n",
        "               num_workers=num_workers, sampler=sampler_valid)"
      ],
      "metadata": {
        "id": "LZV2pF6oylxg"
      },
      "execution_count": 17,
      "outputs": []
    },
    {
      "cell_type": "code",
      "source": [
        "# Define the model\n",
        "\n",
        "\n",
        "class CommonSpatialFilterModel(nn.Module):\n",
        "    \"\"\"The model implements a CSP-like network for BCI applications\n",
        "    Parameters\n",
        "    ----------\n",
        "    spatial_dim : int\n",
        "        Number of channels\n",
        "    n_components : int\n",
        "        The number of spatial filters.\n",
        "    \"\"\"\n",
        "    def __init__(self, spatial_dim, n_components=5):\n",
        "        super().__init__()\n",
        "        self.spatial_dim = spatial_dim\n",
        "        self.n_components = n_components\n",
        "\n",
        "        # define model architecture\n",
        "        self.spatial_filtering = nn.Conv2d(\n",
        "            1, self.n_components, (self.spatial_dim, 1), bias=False)\n",
        "\n",
        "        self.classifier = nn.Sequential(\n",
        "            nn.Linear(n_components, 2),\n",
        "        )\n",
        "\n",
        "    def forward(self, x):\n",
        "        x = self.spatial_filtering(x)\n",
        "        x = torch.sum(x ** 2, dim=3)\n",
        "        x = torch.log(x)\n",
        "        x = x.view(x.size(0), -1)\n",
        "        x = self.classifier(x)\n",
        "        x = F.log_softmax(x, dim=1)\n",
        "        return x\n",
        "\n",
        "# device = 'cuda'\n",
        "device = 'cpu'\n",
        "n_components = 30\n",
        "model = CommonSpatialFilterModel(spatial_dim=epochs_data.shape[1],\n",
        "                                 n_components=n_components)\n",
        "\n",
        "# Test model works:\n",
        "n_samples_test = 10\n",
        "y_test = torch.randint(0, 2, (n_samples_test,))\n",
        "y_pred = model.forward(torch.randn(n_samples_test, 1, *epochs_data.shape[1:]))\n",
        "output = F.nll_loss(y_pred, y_test)\n",
        "_, top_class = y_pred.topk(1, dim=1)\n"
      ],
      "metadata": {
        "id": "HX6dnrTu26qJ"
      },
      "execution_count": 18,
      "outputs": []
    },
    {
      "cell_type": "code",
      "source": [
        "\n",
        "lr = 1e-3\n",
        "n_epochs = 300\n",
        "patience = 100\n",
        "\n",
        "model.to(device=device)  # move to device before creating the optimizer\n",
        "optimizer = optim.SGD(model.parameters(), lr=lr, momentum=0.9,\n",
        "                      weight_decay=1e-4)\n",
        "\n",
        "train(model, loader_train, loader_valid, optimizer, n_epochs, patience, device)"
      ],
      "metadata": {
        "colab": {
          "base_uri": "https://localhost:8080/"
        },
        "id": "7r56Cqyw28cH",
        "outputId": "3c672c12-ead6-4694-f7a6-5d2f97e8ccd6"
      },
      "execution_count": 19,
      "outputs": [
        {
          "output_type": "stream",
          "name": "stdout",
          "text": [
            "\n",
            "Starting epoch 1 / 300\n"
          ]
        },
        {
          "output_type": "stream",
          "name": "stderr",
          "text": [
            "avg train loss: 1.8085: 100%|██████████| 1/1 [00:00<00:00,  4.75it/s]\n",
            "avg val loss: 2.4237: 100%|██████████| 1/1 [00:00<00:00, 97.12it/s]\n"
          ]
        },
        {
          "output_type": "stream",
          "name": "stdout",
          "text": [
            "---  Accuracy : 0.3333333432674408 \n",
            "\n",
            "\n",
            "best val loss inf -> 2.4237\n",
            "\n",
            "Starting epoch 2 / 300\n"
          ]
        },
        {
          "output_type": "stream",
          "name": "stderr",
          "text": [
            "avg train loss: 1.5866: 100%|██████████| 1/1 [00:00<00:00, 27.51it/s]\n",
            "avg val loss: 1.7573: 100%|██████████| 1/1 [00:00<00:00, 132.49it/s]\n"
          ]
        },
        {
          "output_type": "stream",
          "name": "stdout",
          "text": [
            "---  Accuracy : 0.3333333432674408 \n",
            "\n",
            "\n",
            "best val loss 2.4237 -> 1.7573\n",
            "\n",
            "Starting epoch 3 / 300\n"
          ]
        },
        {
          "output_type": "stream",
          "name": "stderr",
          "text": [
            "avg train loss: 1.1969: 100%|██████████| 1/1 [00:00<00:00, 30.63it/s]\n",
            "avg val loss: 0.9919: 100%|██████████| 1/1 [00:00<00:00, 119.60it/s]\n"
          ]
        },
        {
          "output_type": "stream",
          "name": "stdout",
          "text": [
            "---  Accuracy : 0.3333333432674408 \n",
            "\n",
            "\n",
            "best val loss 1.7573 -> 0.9919\n",
            "\n",
            "Starting epoch 4 / 300\n"
          ]
        },
        {
          "output_type": "stream",
          "name": "stderr",
          "text": [
            "avg train loss: 0.7999: 100%|██████████| 1/1 [00:00<00:00, 24.39it/s]\n",
            "avg val loss: 0.5936: 100%|██████████| 1/1 [00:00<00:00, 110.86it/s]\n"
          ]
        },
        {
          "output_type": "stream",
          "name": "stdout",
          "text": [
            "---  Accuracy : 0.6666666865348816 \n",
            "\n",
            "\n",
            "best val loss 0.9919 -> 0.5936\n",
            "\n",
            "Starting epoch 5 / 300\n"
          ]
        },
        {
          "output_type": "stream",
          "name": "stderr",
          "text": [
            "avg train loss: 0.7693: 100%|██████████| 1/1 [00:00<00:00, 26.75it/s]\n",
            "avg val loss: 0.6587: 100%|██████████| 1/1 [00:00<00:00, 94.19it/s]\n"
          ]
        },
        {
          "output_type": "stream",
          "name": "stdout",
          "text": [
            "---  Accuracy : 0.6666666865348816 \n",
            "\n",
            "Waiting += 1\n",
            "\n",
            "Starting epoch 6 / 300\n"
          ]
        },
        {
          "output_type": "stream",
          "name": "stderr",
          "text": [
            "avg train loss: 1.0971: 100%|██████████| 1/1 [00:00<00:00, 25.16it/s]\n",
            "avg val loss: 0.7543: 100%|██████████| 1/1 [00:00<00:00, 68.53it/s]\n"
          ]
        },
        {
          "output_type": "stream",
          "name": "stdout",
          "text": [
            "---  Accuracy : 0.6666666865348816 \n",
            "\n",
            "Waiting += 1\n",
            "\n",
            "Starting epoch 7 / 300\n"
          ]
        },
        {
          "output_type": "stream",
          "name": "stderr",
          "text": [
            "avg train loss: 1.3041: 100%|██████████| 1/1 [00:00<00:00, 26.05it/s]\n",
            "avg val loss: 0.7153: 100%|██████████| 1/1 [00:00<00:00, 118.20it/s]\n"
          ]
        },
        {
          "output_type": "stream",
          "name": "stdout",
          "text": [
            "---  Accuracy : 0.6666666865348816 \n",
            "\n",
            "Waiting += 1\n",
            "\n",
            "Starting epoch 8 / 300\n"
          ]
        },
        {
          "output_type": "stream",
          "name": "stderr",
          "text": [
            "avg train loss: 1.2188: 100%|██████████| 1/1 [00:00<00:00, 23.34it/s]\n",
            "avg val loss: 0.6030: 100%|██████████| 1/1 [00:00<00:00, 91.26it/s]\n"
          ]
        },
        {
          "output_type": "stream",
          "name": "stdout",
          "text": [
            "---  Accuracy : 0.6666666865348816 \n",
            "\n",
            "Waiting += 1\n",
            "\n",
            "Starting epoch 9 / 300\n"
          ]
        },
        {
          "output_type": "stream",
          "name": "stderr",
          "text": [
            "avg train loss: 0.9275: 100%|██████████| 1/1 [00:00<00:00, 29.32it/s]\n",
            "avg val loss: 0.6480: 100%|██████████| 1/1 [00:00<00:00, 71.56it/s]\n"
          ]
        },
        {
          "output_type": "stream",
          "name": "stdout",
          "text": [
            "---  Accuracy : 0.6666666865348816 \n",
            "\n",
            "Waiting += 1\n",
            "\n",
            "Starting epoch 10 / 300\n"
          ]
        },
        {
          "output_type": "stream",
          "name": "stderr",
          "text": [
            "avg train loss: 0.7125: 100%|██████████| 1/1 [00:00<00:00, 25.10it/s]\n",
            "avg val loss: 0.9845: 100%|██████████| 1/1 [00:00<00:00, 120.83it/s]\n"
          ]
        },
        {
          "output_type": "stream",
          "name": "stdout",
          "text": [
            "---  Accuracy : 0.3333333432674408 \n",
            "\n",
            "Waiting += 1\n",
            "\n",
            "Starting epoch 11 / 300\n"
          ]
        },
        {
          "output_type": "stream",
          "name": "stderr",
          "text": [
            "avg train loss: 0.7834: 100%|██████████| 1/1 [00:00<00:00, 26.01it/s]\n",
            "avg val loss: 1.3426: 100%|██████████| 1/1 [00:00<00:00, 83.21it/s]\n"
          ]
        },
        {
          "output_type": "stream",
          "name": "stdout",
          "text": [
            "---  Accuracy : 0.3333333432674408 \n",
            "\n",
            "Waiting += 1\n",
            "\n",
            "Starting epoch 12 / 300\n"
          ]
        },
        {
          "output_type": "stream",
          "name": "stderr",
          "text": [
            "avg train loss: 0.9533: 100%|██████████| 1/1 [00:00<00:00, 20.61it/s]\n",
            "avg val loss: 1.4904: 100%|██████████| 1/1 [00:00<00:00, 114.52it/s]\n"
          ]
        },
        {
          "output_type": "stream",
          "name": "stdout",
          "text": [
            "---  Accuracy : 0.3333333432674408 \n",
            "\n",
            "Waiting += 1\n",
            "\n",
            "Starting epoch 13 / 300\n"
          ]
        },
        {
          "output_type": "stream",
          "name": "stderr",
          "text": [
            "avg train loss: 1.0306: 100%|██████████| 1/1 [00:00<00:00, 25.40it/s]\n",
            "avg val loss: 1.3845: 100%|██████████| 1/1 [00:00<00:00, 156.60it/s]\n"
          ]
        },
        {
          "output_type": "stream",
          "name": "stdout",
          "text": [
            "---  Accuracy : 0.3333333432674408 \n",
            "\n",
            "Waiting += 1\n",
            "\n",
            "Starting epoch 14 / 300\n"
          ]
        },
        {
          "output_type": "stream",
          "name": "stderr",
          "text": [
            "avg train loss: 0.9724: 100%|██████████| 1/1 [00:00<00:00, 23.63it/s]\n",
            "avg val loss: 1.0913: 100%|██████████| 1/1 [00:00<00:00, 97.58it/s]\n"
          ]
        },
        {
          "output_type": "stream",
          "name": "stdout",
          "text": [
            "---  Accuracy : 0.3333333432674408 \n",
            "\n",
            "Waiting += 1\n",
            "\n",
            "Starting epoch 15 / 300\n"
          ]
        },
        {
          "output_type": "stream",
          "name": "stderr",
          "text": [
            "avg train loss: 0.8240: 100%|██████████| 1/1 [00:00<00:00, 28.13it/s]\n",
            "avg val loss: 0.7720: 100%|██████████| 1/1 [00:00<00:00, 76.36it/s]\n"
          ]
        },
        {
          "output_type": "stream",
          "name": "stdout",
          "text": [
            "---  Accuracy : 0.3333333432674408 \n",
            "\n",
            "Waiting += 1\n",
            "\n",
            "Starting epoch 16 / 300\n"
          ]
        },
        {
          "output_type": "stream",
          "name": "stderr",
          "text": [
            "avg train loss: 0.7031: 100%|██████████| 1/1 [00:00<00:00, 23.98it/s]\n",
            "avg val loss: 0.6065: 100%|██████████| 1/1 [00:00<00:00, 119.33it/s]\n"
          ]
        },
        {
          "output_type": "stream",
          "name": "stdout",
          "text": [
            "---  Accuracy : 0.6666666865348816 \n",
            "\n",
            "Waiting += 1\n",
            "\n",
            "Starting epoch 17 / 300\n"
          ]
        },
        {
          "output_type": "stream",
          "name": "stderr",
          "text": [
            "avg train loss: 0.7259: 100%|██████████| 1/1 [00:00<00:00, 25.16it/s]\n",
            "avg val loss: 0.5889: 100%|██████████| 1/1 [00:00<00:00, 113.67it/s]\n"
          ]
        },
        {
          "output_type": "stream",
          "name": "stdout",
          "text": [
            "---  Accuracy : 0.6666666865348816 \n",
            "\n",
            "\n",
            "best val loss 0.5936 -> 0.5889\n",
            "\n",
            "Starting epoch 18 / 300\n"
          ]
        },
        {
          "output_type": "stream",
          "name": "stderr",
          "text": [
            "avg train loss: 0.8320: 100%|██████████| 1/1 [00:00<00:00, 29.05it/s]\n",
            "avg val loss: 0.5963: 100%|██████████| 1/1 [00:00<00:00, 120.16it/s]\n"
          ]
        },
        {
          "output_type": "stream",
          "name": "stdout",
          "text": [
            "---  Accuracy : 0.6666666865348816 \n",
            "\n",
            "Waiting += 1\n",
            "\n",
            "Starting epoch 19 / 300\n"
          ]
        },
        {
          "output_type": "stream",
          "name": "stderr",
          "text": [
            "avg train loss: 0.8712: 100%|██████████| 1/1 [00:00<00:00, 23.18it/s]\n",
            "avg val loss: 0.5866: 100%|██████████| 1/1 [00:00<00:00, 115.32it/s]\n"
          ]
        },
        {
          "output_type": "stream",
          "name": "stdout",
          "text": [
            "---  Accuracy : 0.6666666865348816 \n",
            "\n",
            "\n",
            "best val loss 0.5889 -> 0.5866\n",
            "\n",
            "Starting epoch 20 / 300\n"
          ]
        },
        {
          "output_type": "stream",
          "name": "stderr",
          "text": [
            "avg train loss: 0.8023: 100%|██████████| 1/1 [00:00<00:00, 21.90it/s]\n",
            "avg val loss: 0.6155: 100%|██████████| 1/1 [00:00<00:00, 118.52it/s]\n"
          ]
        },
        {
          "output_type": "stream",
          "name": "stdout",
          "text": [
            "---  Accuracy : 0.6666666865348816 \n",
            "\n",
            "Waiting += 1\n",
            "\n",
            "Starting epoch 21 / 300\n"
          ]
        },
        {
          "output_type": "stream",
          "name": "stderr",
          "text": [
            "avg train loss: 0.7066: 100%|██████████| 1/1 [00:00<00:00, 26.58it/s]\n",
            "avg val loss: 0.7423: 100%|██████████| 1/1 [00:00<00:00, 114.59it/s]\n"
          ]
        },
        {
          "output_type": "stream",
          "name": "stdout",
          "text": [
            "---  Accuracy : 0.3333333432674408 \n",
            "\n",
            "Waiting += 1\n",
            "\n",
            "Starting epoch 22 / 300\n"
          ]
        },
        {
          "output_type": "stream",
          "name": "stderr",
          "text": [
            "avg train loss: 0.6860: 100%|██████████| 1/1 [00:00<00:00, 26.43it/s]\n",
            "avg val loss: 0.9144: 100%|██████████| 1/1 [00:00<00:00, 122.58it/s]\n"
          ]
        },
        {
          "output_type": "stream",
          "name": "stdout",
          "text": [
            "---  Accuracy : 0.3333333432674408 \n",
            "\n",
            "Waiting += 1\n",
            "\n",
            "Starting epoch 23 / 300\n"
          ]
        },
        {
          "output_type": "stream",
          "name": "stderr",
          "text": [
            "avg train loss: 0.7355: 100%|██████████| 1/1 [00:00<00:00, 23.86it/s]\n",
            "avg val loss: 1.0189: 100%|██████████| 1/1 [00:00<00:00, 85.59it/s]\n"
          ]
        },
        {
          "output_type": "stream",
          "name": "stdout",
          "text": [
            "---  Accuracy : 0.3333333432674408 \n",
            "\n",
            "Waiting += 1\n",
            "\n",
            "Starting epoch 24 / 300\n"
          ]
        },
        {
          "output_type": "stream",
          "name": "stderr",
          "text": [
            "avg train loss: 0.7776: 100%|██████████| 1/1 [00:00<00:00, 24.73it/s]\n",
            "avg val loss: 0.9993: 100%|██████████| 1/1 [00:00<00:00, 115.07it/s]\n"
          ]
        },
        {
          "output_type": "stream",
          "name": "stdout",
          "text": [
            "---  Accuracy : 0.3333333432674408 \n",
            "\n",
            "Waiting += 1\n",
            "\n",
            "Starting epoch 25 / 300\n"
          ]
        },
        {
          "output_type": "stream",
          "name": "stderr",
          "text": [
            "avg train loss: 0.7675: 100%|██████████| 1/1 [00:00<00:00, 27.05it/s]\n",
            "avg val loss: 0.8781: 100%|██████████| 1/1 [00:00<00:00, 104.25it/s]\n"
          ]
        },
        {
          "output_type": "stream",
          "name": "stdout",
          "text": [
            "---  Accuracy : 0.3333333432674408 \n",
            "\n",
            "Waiting += 1\n",
            "\n",
            "Starting epoch 26 / 300\n"
          ]
        },
        {
          "output_type": "stream",
          "name": "stderr",
          "text": [
            "avg train loss: 0.7171: 100%|██████████| 1/1 [00:00<00:00, 25.65it/s]\n",
            "avg val loss: 0.7309: 100%|██████████| 1/1 [00:00<00:00, 101.59it/s]\n"
          ]
        },
        {
          "output_type": "stream",
          "name": "stdout",
          "text": [
            "---  Accuracy : 0.3333333432674408 \n",
            "\n",
            "Waiting += 1\n",
            "\n",
            "Starting epoch 27 / 300\n"
          ]
        },
        {
          "output_type": "stream",
          "name": "stderr",
          "text": [
            "avg train loss: 0.6748: 100%|██████████| 1/1 [00:00<00:00, 24.01it/s]\n",
            "avg val loss: 0.6324: 100%|██████████| 1/1 [00:00<00:00, 112.20it/s]\n"
          ]
        },
        {
          "output_type": "stream",
          "name": "stdout",
          "text": [
            "---  Accuracy : 0.7777777910232544 \n",
            "\n",
            "Waiting += 1\n",
            "\n",
            "Starting epoch 28 / 300\n"
          ]
        },
        {
          "output_type": "stream",
          "name": "stderr",
          "text": [
            "avg train loss: 0.6790: 100%|██████████| 1/1 [00:00<00:00, 23.22it/s]\n",
            "avg val loss: 0.5955: 100%|██████████| 1/1 [00:00<00:00, 75.98it/s]\n"
          ]
        },
        {
          "output_type": "stream",
          "name": "stdout",
          "text": [
            "---  Accuracy : 0.6666666865348816 \n",
            "\n",
            "Waiting += 1\n",
            "\n",
            "Starting epoch 29 / 300\n"
          ]
        },
        {
          "output_type": "stream",
          "name": "stderr",
          "text": [
            "avg train loss: 0.7114: 100%|██████████| 1/1 [00:00<00:00, 29.55it/s]\n",
            "avg val loss: 0.5894: 100%|██████████| 1/1 [00:00<00:00, 93.35it/s]\n"
          ]
        },
        {
          "output_type": "stream",
          "name": "stdout",
          "text": [
            "---  Accuracy : 0.6666666865348816 \n",
            "\n",
            "Waiting += 1\n",
            "\n",
            "Starting epoch 30 / 300\n"
          ]
        },
        {
          "output_type": "stream",
          "name": "stderr",
          "text": [
            "avg train loss: 0.7238: 100%|██████████| 1/1 [00:00<00:00, 23.35it/s]\n",
            "avg val loss: 0.5987: 100%|██████████| 1/1 [00:00<00:00, 99.45it/s]\n"
          ]
        },
        {
          "output_type": "stream",
          "name": "stdout",
          "text": [
            "---  Accuracy : 0.6666666865348816 \n",
            "\n",
            "Waiting += 1\n",
            "\n",
            "Starting epoch 31 / 300\n"
          ]
        },
        {
          "output_type": "stream",
          "name": "stderr",
          "text": [
            "avg train loss: 0.7001: 100%|██████████| 1/1 [00:00<00:00, 23.33it/s]\n",
            "avg val loss: 0.6363: 100%|██████████| 1/1 [00:00<00:00, 94.05it/s]\n"
          ]
        },
        {
          "output_type": "stream",
          "name": "stdout",
          "text": [
            "---  Accuracy : 0.7777777910232544 \n",
            "\n",
            "Waiting += 1\n",
            "\n",
            "Starting epoch 32 / 300\n"
          ]
        },
        {
          "output_type": "stream",
          "name": "stderr",
          "text": [
            "avg train loss: 0.6685: 100%|██████████| 1/1 [00:00<00:00, 32.64it/s]\n",
            "avg val loss: 0.7096: 100%|██████████| 1/1 [00:00<00:00, 96.87it/s]\n"
          ]
        },
        {
          "output_type": "stream",
          "name": "stdout",
          "text": [
            "---  Accuracy : 0.4444444477558136 \n",
            "\n",
            "Waiting += 1\n",
            "\n",
            "Starting epoch 33 / 300\n"
          ]
        },
        {
          "output_type": "stream",
          "name": "stderr",
          "text": [
            "avg train loss: 0.6611: 100%|██████████| 1/1 [00:00<00:00, 18.21it/s]\n",
            "avg val loss: 0.7905: 100%|██████████| 1/1 [00:00<00:00, 106.79it/s]\n"
          ]
        },
        {
          "output_type": "stream",
          "name": "stdout",
          "text": [
            "---  Accuracy : 0.3333333432674408 \n",
            "\n",
            "Waiting += 1\n",
            "\n",
            "Starting epoch 34 / 300\n"
          ]
        },
        {
          "output_type": "stream",
          "name": "stderr",
          "text": [
            "avg train loss: 0.6761: 100%|██████████| 1/1 [00:00<00:00, 19.65it/s]\n",
            "avg val loss: 0.8348: 100%|██████████| 1/1 [00:00<00:00, 115.80it/s]\n"
          ]
        },
        {
          "output_type": "stream",
          "name": "stdout",
          "text": [
            "---  Accuracy : 0.3333333432674408 \n",
            "\n",
            "Waiting += 1\n",
            "\n",
            "Starting epoch 35 / 300\n"
          ]
        },
        {
          "output_type": "stream",
          "name": "stderr",
          "text": [
            "avg train loss: 0.6883: 100%|██████████| 1/1 [00:00<00:00, 19.39it/s]\n",
            "avg val loss: 0.8203: 100%|██████████| 1/1 [00:00<00:00, 93.93it/s]\n"
          ]
        },
        {
          "output_type": "stream",
          "name": "stdout",
          "text": [
            "---  Accuracy : 0.3333333432674408 \n",
            "\n",
            "Waiting += 1\n",
            "\n",
            "Starting epoch 36 / 300\n"
          ]
        },
        {
          "output_type": "stream",
          "name": "stderr",
          "text": [
            "avg train loss: 0.6821: 100%|██████████| 1/1 [00:00<00:00, 20.68it/s]\n",
            "avg val loss: 0.7602: 100%|██████████| 1/1 [00:00<00:00, 76.50it/s]\n"
          ]
        },
        {
          "output_type": "stream",
          "name": "stdout",
          "text": [
            "---  Accuracy : 0.3333333432674408 \n",
            "\n",
            "Waiting += 1\n",
            "\n",
            "Starting epoch 37 / 300\n"
          ]
        },
        {
          "output_type": "stream",
          "name": "stderr",
          "text": [
            "avg train loss: 0.6635: 100%|██████████| 1/1 [00:00<00:00, 28.47it/s]\n",
            "avg val loss: 0.6895: 100%|██████████| 1/1 [00:00<00:00, 158.21it/s]\n"
          ]
        },
        {
          "output_type": "stream",
          "name": "stdout",
          "text": [
            "---  Accuracy : 0.4444444477558136 \n",
            "\n",
            "Waiting += 1\n",
            "\n",
            "Starting epoch 38 / 300\n"
          ]
        },
        {
          "output_type": "stream",
          "name": "stderr",
          "text": [
            "avg train loss: 0.6508: 100%|██████████| 1/1 [00:00<00:00, 23.79it/s]\n",
            "avg val loss: 0.6380: 100%|██████████| 1/1 [00:00<00:00, 129.22it/s]\n"
          ]
        },
        {
          "output_type": "stream",
          "name": "stdout",
          "text": [
            "---  Accuracy : 0.6666666865348816 \n",
            "\n",
            "Waiting += 1\n",
            "\n",
            "Starting epoch 39 / 300\n"
          ]
        },
        {
          "output_type": "stream",
          "name": "stderr",
          "text": [
            "avg train loss: 0.6536: 100%|██████████| 1/1 [00:00<00:00, 23.64it/s]\n",
            "avg val loss: 0.6133: 100%|██████████| 1/1 [00:00<00:00, 132.99it/s]\n"
          ]
        },
        {
          "output_type": "stream",
          "name": "stdout",
          "text": [
            "---  Accuracy : 0.8888888955116272 \n",
            "\n",
            "Waiting += 1\n",
            "\n",
            "Starting epoch 40 / 300\n"
          ]
        },
        {
          "output_type": "stream",
          "name": "stderr",
          "text": [
            "avg train loss: 0.6628: 100%|██████████| 1/1 [00:00<00:00, 24.38it/s]\n",
            "avg val loss: 0.6092: 100%|██████████| 1/1 [00:00<00:00, 119.17it/s]\n"
          ]
        },
        {
          "output_type": "stream",
          "name": "stdout",
          "text": [
            "---  Accuracy : 0.7777777910232544 \n",
            "\n",
            "Waiting += 1\n",
            "\n",
            "Starting epoch 41 / 300\n"
          ]
        },
        {
          "output_type": "stream",
          "name": "stderr",
          "text": [
            "avg train loss: 0.6636: 100%|██████████| 1/1 [00:00<00:00, 20.19it/s]\n",
            "avg val loss: 0.6220: 100%|██████████| 1/1 [00:00<00:00, 82.83it/s]\n"
          ]
        },
        {
          "output_type": "stream",
          "name": "stdout",
          "text": [
            "---  Accuracy : 0.7777777910232544 \n",
            "\n",
            "Waiting += 1\n",
            "\n",
            "Starting epoch 42 / 300\n"
          ]
        },
        {
          "output_type": "stream",
          "name": "stderr",
          "text": [
            "avg train loss: 0.6536: 100%|██████████| 1/1 [00:00<00:00, 28.58it/s]\n",
            "avg val loss: 0.6525: 100%|██████████| 1/1 [00:00<00:00, 102.57it/s]\n"
          ]
        },
        {
          "output_type": "stream",
          "name": "stdout",
          "text": [
            "---  Accuracy : 0.5555555820465088 \n",
            "\n",
            "Waiting += 1\n",
            "\n",
            "Starting epoch 43 / 300\n"
          ]
        },
        {
          "output_type": "stream",
          "name": "stderr",
          "text": [
            "avg train loss: 0.6433: 100%|██████████| 1/1 [00:00<00:00, 22.84it/s]\n",
            "avg val loss: 0.6950: 100%|██████████| 1/1 [00:00<00:00, 84.84it/s]\n"
          ]
        },
        {
          "output_type": "stream",
          "name": "stdout",
          "text": [
            "---  Accuracy : 0.4444444477558136 \n",
            "\n",
            "Waiting += 1\n",
            "\n",
            "Starting epoch 44 / 300\n"
          ]
        },
        {
          "output_type": "stream",
          "name": "stderr",
          "text": [
            "avg train loss: 0.6415: 100%|██████████| 1/1 [00:00<00:00, 27.92it/s]\n",
            "avg val loss: 0.7328: 100%|██████████| 1/1 [00:00<00:00, 101.93it/s]\n"
          ]
        },
        {
          "output_type": "stream",
          "name": "stdout",
          "text": [
            "---  Accuracy : 0.4444444477558136 \n",
            "\n",
            "Waiting += 1\n",
            "\n",
            "Starting epoch 45 / 300\n"
          ]
        },
        {
          "output_type": "stream",
          "name": "stderr",
          "text": [
            "avg train loss: 0.6459: 100%|██████████| 1/1 [00:00<00:00, 24.76it/s]\n",
            "avg val loss: 0.7482: 100%|██████████| 1/1 [00:00<00:00, 95.07it/s]\n"
          ]
        },
        {
          "output_type": "stream",
          "name": "stdout",
          "text": [
            "---  Accuracy : 0.3333333432674408 \n",
            "\n",
            "Waiting += 1\n",
            "\n",
            "Starting epoch 46 / 300\n"
          ]
        },
        {
          "output_type": "stream",
          "name": "stderr",
          "text": [
            "avg train loss: 0.6480: 100%|██████████| 1/1 [00:00<00:00, 25.57it/s]\n",
            "avg val loss: 0.7350: 100%|██████████| 1/1 [00:00<00:00, 86.38it/s]\n"
          ]
        },
        {
          "output_type": "stream",
          "name": "stdout",
          "text": [
            "---  Accuracy : 0.4444444477558136 \n",
            "\n",
            "Waiting += 1\n",
            "\n",
            "Starting epoch 47 / 300\n"
          ]
        },
        {
          "output_type": "stream",
          "name": "stderr",
          "text": [
            "avg train loss: 0.6437: 100%|██████████| 1/1 [00:00<00:00, 27.05it/s]\n",
            "avg val loss: 0.7021: 100%|██████████| 1/1 [00:00<00:00, 80.10it/s]\n"
          ]
        },
        {
          "output_type": "stream",
          "name": "stdout",
          "text": [
            "---  Accuracy : 0.4444444477558136 \n",
            "\n",
            "Waiting += 1\n",
            "\n",
            "Starting epoch 48 / 300\n"
          ]
        },
        {
          "output_type": "stream",
          "name": "stderr",
          "text": [
            "avg train loss: 0.6366: 100%|██████████| 1/1 [00:00<00:00, 19.85it/s]\n",
            "avg val loss: 0.6657: 100%|██████████| 1/1 [00:00<00:00, 99.37it/s]\n"
          ]
        },
        {
          "output_type": "stream",
          "name": "stdout",
          "text": [
            "---  Accuracy : 0.5555555820465088 \n",
            "\n",
            "Waiting += 1\n",
            "\n",
            "Starting epoch 49 / 300\n"
          ]
        },
        {
          "output_type": "stream",
          "name": "stderr",
          "text": [
            "avg train loss: 0.6327: 100%|██████████| 1/1 [00:00<00:00, 23.64it/s]\n",
            "avg val loss: 0.6385: 100%|██████████| 1/1 [00:00<00:00, 131.01it/s]\n"
          ]
        },
        {
          "output_type": "stream",
          "name": "stdout",
          "text": [
            "---  Accuracy : 0.6666666865348816 \n",
            "\n",
            "Waiting += 1\n",
            "\n",
            "Starting epoch 50 / 300\n"
          ]
        },
        {
          "output_type": "stream",
          "name": "stderr",
          "text": [
            "avg train loss: 0.6336: 100%|██████████| 1/1 [00:00<00:00, 18.76it/s]\n",
            "avg val loss: 0.6249: 100%|██████████| 1/1 [00:00<00:00, 85.87it/s]\n"
          ]
        },
        {
          "output_type": "stream",
          "name": "stdout",
          "text": [
            "---  Accuracy : 0.6666666865348816 \n",
            "\n",
            "Waiting += 1\n",
            "\n",
            "Starting epoch 51 / 300\n"
          ]
        },
        {
          "output_type": "stream",
          "name": "stderr",
          "text": [
            "avg train loss: 0.6354: 100%|██████████| 1/1 [00:00<00:00, 27.84it/s]\n",
            "avg val loss: 0.6246: 100%|██████████| 1/1 [00:00<00:00, 110.57it/s]\n"
          ]
        },
        {
          "output_type": "stream",
          "name": "stdout",
          "text": [
            "---  Accuracy : 0.6666666865348816 \n",
            "\n",
            "Waiting += 1\n",
            "\n",
            "Starting epoch 52 / 300\n"
          ]
        },
        {
          "output_type": "stream",
          "name": "stderr",
          "text": [
            "avg train loss: 0.6337: 100%|██████████| 1/1 [00:00<00:00, 21.45it/s]\n",
            "avg val loss: 0.6358: 100%|██████████| 1/1 [00:00<00:00, 126.72it/s]\n"
          ]
        },
        {
          "output_type": "stream",
          "name": "stdout",
          "text": [
            "---  Accuracy : 0.6666666865348816 \n",
            "\n",
            "Waiting += 1\n",
            "\n",
            "Starting epoch 53 / 300\n"
          ]
        },
        {
          "output_type": "stream",
          "name": "stderr",
          "text": [
            "avg train loss: 0.6292: 100%|██████████| 1/1 [00:00<00:00, 23.55it/s]\n",
            "avg val loss: 0.6559: 100%|██████████| 1/1 [00:00<00:00, 100.21it/s]\n"
          ]
        },
        {
          "output_type": "stream",
          "name": "stdout",
          "text": [
            "---  Accuracy : 0.5555555820465088 \n",
            "\n",
            "Waiting += 1\n",
            "\n",
            "Starting epoch 54 / 300\n"
          ]
        },
        {
          "output_type": "stream",
          "name": "stderr",
          "text": [
            "avg train loss: 0.6255: 100%|██████████| 1/1 [00:00<00:00, 27.43it/s]\n",
            "avg val loss: 0.6788: 100%|██████████| 1/1 [00:00<00:00, 107.75it/s]\n"
          ]
        },
        {
          "output_type": "stream",
          "name": "stdout",
          "text": [
            "---  Accuracy : 0.4444444477558136 \n",
            "\n",
            "Waiting += 1\n",
            "\n",
            "Starting epoch 55 / 300\n"
          ]
        },
        {
          "output_type": "stream",
          "name": "stderr",
          "text": [
            "avg train loss: 0.6247: 100%|██████████| 1/1 [00:00<00:00, 18.81it/s]\n",
            "avg val loss: 0.6954: 100%|██████████| 1/1 [00:00<00:00, 119.70it/s]\n"
          ]
        },
        {
          "output_type": "stream",
          "name": "stdout",
          "text": [
            "---  Accuracy : 0.4444444477558136 \n",
            "\n",
            "Waiting += 1\n",
            "\n",
            "Starting epoch 56 / 300\n"
          ]
        },
        {
          "output_type": "stream",
          "name": "stderr",
          "text": [
            "avg train loss: 0.6253: 100%|██████████| 1/1 [00:00<00:00, 25.18it/s]\n",
            "avg val loss: 0.6989: 100%|██████████| 1/1 [00:00<00:00, 123.84it/s]\n"
          ]
        },
        {
          "output_type": "stream",
          "name": "stdout",
          "text": [
            "---  Accuracy : 0.4444444477558136 \n",
            "\n",
            "Waiting += 1\n",
            "\n",
            "Starting epoch 57 / 300\n"
          ]
        },
        {
          "output_type": "stream",
          "name": "stderr",
          "text": [
            "avg train loss: 0.6245: 100%|██████████| 1/1 [00:00<00:00, 24.74it/s]\n",
            "avg val loss: 0.6884: 100%|██████████| 1/1 [00:00<00:00, 110.61it/s]\n"
          ]
        },
        {
          "output_type": "stream",
          "name": "stdout",
          "text": [
            "---  Accuracy : 0.4444444477558136 \n",
            "\n",
            "Waiting += 1\n",
            "\n",
            "Starting epoch 58 / 300\n"
          ]
        },
        {
          "output_type": "stream",
          "name": "stderr",
          "text": [
            "avg train loss: 0.6218: 100%|██████████| 1/1 [00:00<00:00, 23.18it/s]\n",
            "avg val loss: 0.6694: 100%|██████████| 1/1 [00:00<00:00, 87.63it/s]\n"
          ]
        },
        {
          "output_type": "stream",
          "name": "stdout",
          "text": [
            "---  Accuracy : 0.5555555820465088 \n",
            "\n",
            "Waiting += 1\n",
            "\n",
            "Starting epoch 59 / 300\n"
          ]
        },
        {
          "output_type": "stream",
          "name": "stderr",
          "text": [
            "avg train loss: 0.6187: 100%|██████████| 1/1 [00:00<00:00, 23.23it/s]\n",
            "avg val loss: 0.6497: 100%|██████████| 1/1 [00:00<00:00, 97.35it/s]\n"
          ]
        },
        {
          "output_type": "stream",
          "name": "stdout",
          "text": [
            "---  Accuracy : 0.5555555820465088 \n",
            "\n",
            "Waiting += 1\n",
            "\n",
            "Starting epoch 60 / 300\n"
          ]
        },
        {
          "output_type": "stream",
          "name": "stderr",
          "text": [
            "avg train loss: 0.6170: 100%|██████████| 1/1 [00:00<00:00, 27.59it/s]\n",
            "avg val loss: 0.6353: 100%|██████████| 1/1 [00:00<00:00, 98.15it/s]\n"
          ]
        },
        {
          "output_type": "stream",
          "name": "stdout",
          "text": [
            "---  Accuracy : 0.6666666865348816 \n",
            "\n",
            "Waiting += 1\n",
            "\n",
            "Starting epoch 61 / 300\n"
          ]
        },
        {
          "output_type": "stream",
          "name": "stderr",
          "text": [
            "avg train loss: 0.6167: 100%|██████████| 1/1 [00:00<00:00, 22.76it/s]\n",
            "avg val loss: 0.6287: 100%|██████████| 1/1 [00:00<00:00, 152.27it/s]\n"
          ]
        },
        {
          "output_type": "stream",
          "name": "stdout",
          "text": [
            "---  Accuracy : 0.6666666865348816 \n",
            "\n",
            "Waiting += 1\n",
            "\n",
            "Starting epoch 62 / 300\n"
          ]
        },
        {
          "output_type": "stream",
          "name": "stderr",
          "text": [
            "avg train loss: 0.6161: 100%|██████████| 1/1 [00:00<00:00, 18.67it/s]\n",
            "avg val loss: 0.6300: 100%|██████████| 1/1 [00:00<00:00, 133.12it/s]\n"
          ]
        },
        {
          "output_type": "stream",
          "name": "stdout",
          "text": [
            "---  Accuracy : 0.6666666865348816 \n",
            "\n",
            "Waiting += 1\n",
            "\n",
            "Starting epoch 63 / 300\n"
          ]
        },
        {
          "output_type": "stream",
          "name": "stderr",
          "text": [
            "avg train loss: 0.6144: 100%|██████████| 1/1 [00:00<00:00, 21.93it/s]\n",
            "avg val loss: 0.6380: 100%|██████████| 1/1 [00:00<00:00, 114.23it/s]\n"
          ]
        },
        {
          "output_type": "stream",
          "name": "stdout",
          "text": [
            "---  Accuracy : 0.5555555820465088 \n",
            "\n",
            "Waiting += 1\n",
            "\n",
            "Starting epoch 64 / 300\n"
          ]
        },
        {
          "output_type": "stream",
          "name": "stderr",
          "text": [
            "avg train loss: 0.6120: 100%|██████████| 1/1 [00:00<00:00, 23.03it/s]\n",
            "avg val loss: 0.6498: 100%|██████████| 1/1 [00:00<00:00, 111.40it/s]\n"
          ]
        },
        {
          "output_type": "stream",
          "name": "stdout",
          "text": [
            "---  Accuracy : 0.5555555820465088 \n",
            "\n",
            "Waiting += 1\n",
            "\n",
            "Starting epoch 65 / 300\n"
          ]
        },
        {
          "output_type": "stream",
          "name": "stderr",
          "text": [
            "avg train loss: 0.6101: 100%|██████████| 1/1 [00:00<00:00, 23.26it/s]\n",
            "avg val loss: 0.6611: 100%|██████████| 1/1 [00:00<00:00, 129.27it/s]\n"
          ]
        },
        {
          "output_type": "stream",
          "name": "stdout",
          "text": [
            "---  Accuracy : 0.5555555820465088 \n",
            "\n",
            "Waiting += 1\n",
            "\n",
            "Starting epoch 66 / 300\n"
          ]
        },
        {
          "output_type": "stream",
          "name": "stderr",
          "text": [
            "avg train loss: 0.6091: 100%|██████████| 1/1 [00:00<00:00, 25.74it/s]\n",
            "avg val loss: 0.6676: 100%|██████████| 1/1 [00:00<00:00, 98.25it/s]\n"
          ]
        },
        {
          "output_type": "stream",
          "name": "stdout",
          "text": [
            "---  Accuracy : 0.5555555820465088 \n",
            "\n",
            "Waiting += 1\n",
            "\n",
            "Starting epoch 67 / 300\n"
          ]
        },
        {
          "output_type": "stream",
          "name": "stderr",
          "text": [
            "avg train loss: 0.6084: 100%|██████████| 1/1 [00:00<00:00, 24.56it/s]\n",
            "avg val loss: 0.6666: 100%|██████████| 1/1 [00:00<00:00, 103.13it/s]\n"
          ]
        },
        {
          "output_type": "stream",
          "name": "stdout",
          "text": [
            "---  Accuracy : 0.5555555820465088 \n",
            "\n",
            "Waiting += 1\n",
            "\n",
            "Starting epoch 68 / 300\n"
          ]
        },
        {
          "output_type": "stream",
          "name": "stderr",
          "text": [
            "avg train loss: 0.6071: 100%|██████████| 1/1 [00:00<00:00, 23.82it/s]\n",
            "avg val loss: 0.6588: 100%|██████████| 1/1 [00:00<00:00, 93.02it/s]\n"
          ]
        },
        {
          "output_type": "stream",
          "name": "stdout",
          "text": [
            "---  Accuracy : 0.5555555820465088 \n",
            "\n",
            "Waiting += 1\n",
            "\n",
            "Starting epoch 69 / 300\n"
          ]
        },
        {
          "output_type": "stream",
          "name": "stderr",
          "text": [
            "avg train loss: 0.6052: 100%|██████████| 1/1 [00:00<00:00, 18.27it/s]\n",
            "avg val loss: 0.6476: 100%|██████████| 1/1 [00:00<00:00, 74.12it/s]\n"
          ]
        },
        {
          "output_type": "stream",
          "name": "stdout",
          "text": [
            "---  Accuracy : 0.5555555820465088 \n",
            "\n",
            "Waiting += 1\n",
            "\n",
            "Starting epoch 70 / 300\n"
          ]
        },
        {
          "output_type": "stream",
          "name": "stderr",
          "text": [
            "avg train loss: 0.6033: 100%|██████████| 1/1 [00:00<00:00, 23.01it/s]\n",
            "avg val loss: 0.6367: 100%|██████████| 1/1 [00:00<00:00, 153.54it/s]\n"
          ]
        },
        {
          "output_type": "stream",
          "name": "stdout",
          "text": [
            "---  Accuracy : 0.5555555820465088 \n",
            "\n",
            "Waiting += 1\n",
            "\n",
            "Starting epoch 71 / 300\n"
          ]
        },
        {
          "output_type": "stream",
          "name": "stderr",
          "text": [
            "avg train loss: 0.6021: 100%|██████████| 1/1 [00:00<00:00, 23.16it/s]\n",
            "avg val loss: 0.6292: 100%|██████████| 1/1 [00:00<00:00, 138.19it/s]\n"
          ]
        },
        {
          "output_type": "stream",
          "name": "stdout",
          "text": [
            "---  Accuracy : 0.6666666865348816 \n",
            "\n",
            "Waiting += 1\n",
            "\n",
            "Starting epoch 72 / 300\n"
          ]
        },
        {
          "output_type": "stream",
          "name": "stderr",
          "text": [
            "avg train loss: 0.6011: 100%|██████████| 1/1 [00:00<00:00, 25.97it/s]\n",
            "avg val loss: 0.6262: 100%|██████████| 1/1 [00:00<00:00, 94.39it/s]\n"
          ]
        },
        {
          "output_type": "stream",
          "name": "stdout",
          "text": [
            "---  Accuracy : 0.6666666865348816 \n",
            "\n",
            "Waiting += 1\n",
            "\n",
            "Starting epoch 73 / 300\n"
          ]
        },
        {
          "output_type": "stream",
          "name": "stderr",
          "text": [
            "avg train loss: 0.5999: 100%|██████████| 1/1 [00:00<00:00, 25.16it/s]\n",
            "avg val loss: 0.6278: 100%|██████████| 1/1 [00:00<00:00, 115.51it/s]\n"
          ]
        },
        {
          "output_type": "stream",
          "name": "stdout",
          "text": [
            "---  Accuracy : 0.6666666865348816 \n",
            "\n",
            "Waiting += 1\n",
            "\n",
            "Starting epoch 74 / 300\n"
          ]
        },
        {
          "output_type": "stream",
          "name": "stderr",
          "text": [
            "avg train loss: 0.5983: 100%|██████████| 1/1 [00:00<00:00, 24.02it/s]\n",
            "avg val loss: 0.6328: 100%|██████████| 1/1 [00:00<00:00, 132.10it/s]\n"
          ]
        },
        {
          "output_type": "stream",
          "name": "stdout",
          "text": [
            "---  Accuracy : 0.5555555820465088 \n",
            "\n",
            "Waiting += 1\n",
            "\n",
            "Starting epoch 75 / 300\n"
          ]
        },
        {
          "output_type": "stream",
          "name": "stderr",
          "text": [
            "avg train loss: 0.5966: 100%|██████████| 1/1 [00:00<00:00, 23.05it/s]\n",
            "avg val loss: 0.6391: 100%|██████████| 1/1 [00:00<00:00, 130.54it/s]\n"
          ]
        },
        {
          "output_type": "stream",
          "name": "stdout",
          "text": [
            "---  Accuracy : 0.5555555820465088 \n",
            "\n",
            "Waiting += 1\n",
            "\n",
            "Starting epoch 76 / 300\n"
          ]
        },
        {
          "output_type": "stream",
          "name": "stderr",
          "text": [
            "avg train loss: 0.5952: 100%|██████████| 1/1 [00:00<00:00, 23.94it/s]\n",
            "avg val loss: 0.6442: 100%|██████████| 1/1 [00:00<00:00, 107.89it/s]\n"
          ]
        },
        {
          "output_type": "stream",
          "name": "stdout",
          "text": [
            "---  Accuracy : 0.5555555820465088 \n",
            "\n",
            "Waiting += 1\n",
            "\n",
            "Starting epoch 77 / 300\n"
          ]
        },
        {
          "output_type": "stream",
          "name": "stderr",
          "text": [
            "avg train loss: 0.5940: 100%|██████████| 1/1 [00:00<00:00, 21.84it/s]\n",
            "avg val loss: 0.6460: 100%|██████████| 1/1 [00:00<00:00, 121.63it/s]\n"
          ]
        },
        {
          "output_type": "stream",
          "name": "stdout",
          "text": [
            "---  Accuracy : 0.5555555820465088 \n",
            "\n",
            "Waiting += 1\n",
            "\n",
            "Starting epoch 78 / 300\n"
          ]
        },
        {
          "output_type": "stream",
          "name": "stderr",
          "text": [
            "avg train loss: 0.5928: 100%|██████████| 1/1 [00:00<00:00, 24.58it/s]\n",
            "avg val loss: 0.6438: 100%|██████████| 1/1 [00:00<00:00, 132.88it/s]\n"
          ]
        },
        {
          "output_type": "stream",
          "name": "stdout",
          "text": [
            "---  Accuracy : 0.5555555820465088 \n",
            "\n",
            "Waiting += 1\n",
            "\n",
            "Starting epoch 79 / 300\n"
          ]
        },
        {
          "output_type": "stream",
          "name": "stderr",
          "text": [
            "avg train loss: 0.5914: 100%|██████████| 1/1 [00:00<00:00, 24.90it/s]\n",
            "avg val loss: 0.6384: 100%|██████████| 1/1 [00:00<00:00, 144.88it/s]\n"
          ]
        },
        {
          "output_type": "stream",
          "name": "stdout",
          "text": [
            "---  Accuracy : 0.5555555820465088 \n",
            "\n",
            "Waiting += 1\n",
            "\n",
            "Starting epoch 80 / 300\n"
          ]
        },
        {
          "output_type": "stream",
          "name": "stderr",
          "text": [
            "avg train loss: 0.5899: 100%|██████████| 1/1 [00:00<00:00, 27.99it/s]\n",
            "avg val loss: 0.6317: 100%|██████████| 1/1 [00:00<00:00, 118.58it/s]\n"
          ]
        },
        {
          "output_type": "stream",
          "name": "stdout",
          "text": [
            "---  Accuracy : 0.5555555820465088 \n",
            "\n",
            "Waiting += 1\n",
            "\n",
            "Starting epoch 81 / 300\n"
          ]
        },
        {
          "output_type": "stream",
          "name": "stderr",
          "text": [
            "avg train loss: 0.5884: 100%|██████████| 1/1 [00:00<00:00, 24.75it/s]\n",
            "avg val loss: 0.6257: 100%|██████████| 1/1 [00:00<00:00, 115.83it/s]\n"
          ]
        },
        {
          "output_type": "stream",
          "name": "stdout",
          "text": [
            "---  Accuracy : 0.6666666865348816 \n",
            "\n",
            "Waiting += 1\n",
            "\n",
            "Starting epoch 82 / 300\n"
          ]
        },
        {
          "output_type": "stream",
          "name": "stderr",
          "text": [
            "avg train loss: 0.5871: 100%|██████████| 1/1 [00:00<00:00, 25.48it/s]\n",
            "avg val loss: 0.6218: 100%|██████████| 1/1 [00:00<00:00, 109.29it/s]\n"
          ]
        },
        {
          "output_type": "stream",
          "name": "stdout",
          "text": [
            "---  Accuracy : 0.6666666865348816 \n",
            "\n",
            "Waiting += 1\n",
            "\n",
            "Starting epoch 83 / 300\n"
          ]
        },
        {
          "output_type": "stream",
          "name": "stderr",
          "text": [
            "avg train loss: 0.5859: 100%|██████████| 1/1 [00:00<00:00, 25.66it/s]\n",
            "avg val loss: 0.6206: 100%|██████████| 1/1 [00:00<00:00, 103.87it/s]\n"
          ]
        },
        {
          "output_type": "stream",
          "name": "stdout",
          "text": [
            "---  Accuracy : 0.6666666865348816 \n",
            "\n",
            "Waiting += 1\n",
            "\n",
            "Starting epoch 84 / 300\n"
          ]
        },
        {
          "output_type": "stream",
          "name": "stderr",
          "text": [
            "avg train loss: 0.5846: 100%|██████████| 1/1 [00:00<00:00, 24.68it/s]\n",
            "avg val loss: 0.6219: 100%|██████████| 1/1 [00:00<00:00, 134.77it/s]\n"
          ]
        },
        {
          "output_type": "stream",
          "name": "stdout",
          "text": [
            "---  Accuracy : 0.6666666865348816 \n",
            "\n",
            "Waiting += 1\n",
            "\n",
            "Starting epoch 85 / 300\n"
          ]
        },
        {
          "output_type": "stream",
          "name": "stderr",
          "text": [
            "avg train loss: 0.5831: 100%|██████████| 1/1 [00:00<00:00, 19.78it/s]\n",
            "avg val loss: 0.6248: 100%|██████████| 1/1 [00:00<00:00, 101.85it/s]\n"
          ]
        },
        {
          "output_type": "stream",
          "name": "stdout",
          "text": [
            "---  Accuracy : 0.6666666865348816 \n",
            "\n",
            "Waiting += 1\n",
            "\n",
            "Starting epoch 86 / 300\n"
          ]
        },
        {
          "output_type": "stream",
          "name": "stderr",
          "text": [
            "avg train loss: 0.5817: 100%|██████████| 1/1 [00:00<00:00, 24.00it/s]\n",
            "avg val loss: 0.6278: 100%|██████████| 1/1 [00:00<00:00, 123.64it/s]\n"
          ]
        },
        {
          "output_type": "stream",
          "name": "stdout",
          "text": [
            "---  Accuracy : 0.6666666865348816 \n",
            "\n",
            "Waiting += 1\n",
            "\n",
            "Starting epoch 87 / 300\n"
          ]
        },
        {
          "output_type": "stream",
          "name": "stderr",
          "text": [
            "avg train loss: 0.5804: 100%|██████████| 1/1 [00:00<00:00, 23.95it/s]\n",
            "avg val loss: 0.6297: 100%|██████████| 1/1 [00:00<00:00, 137.31it/s]\n"
          ]
        },
        {
          "output_type": "stream",
          "name": "stdout",
          "text": [
            "---  Accuracy : 0.5555555820465088 \n",
            "\n",
            "Waiting += 1\n",
            "\n",
            "Starting epoch 88 / 300\n"
          ]
        },
        {
          "output_type": "stream",
          "name": "stderr",
          "text": [
            "avg train loss: 0.5791: 100%|██████████| 1/1 [00:00<00:00, 22.09it/s]\n",
            "avg val loss: 0.6296: 100%|██████████| 1/1 [00:00<00:00, 127.69it/s]\n"
          ]
        },
        {
          "output_type": "stream",
          "name": "stdout",
          "text": [
            "---  Accuracy : 0.5555555820465088 \n",
            "\n",
            "Waiting += 1\n",
            "\n",
            "Starting epoch 89 / 300\n"
          ]
        },
        {
          "output_type": "stream",
          "name": "stderr",
          "text": [
            "avg train loss: 0.5779: 100%|██████████| 1/1 [00:00<00:00, 25.69it/s]\n",
            "avg val loss: 0.6274: 100%|██████████| 1/1 [00:00<00:00, 108.44it/s]\n"
          ]
        },
        {
          "output_type": "stream",
          "name": "stdout",
          "text": [
            "---  Accuracy : 0.5555555820465088 \n",
            "\n",
            "Waiting += 1\n",
            "\n",
            "Starting epoch 90 / 300\n"
          ]
        },
        {
          "output_type": "stream",
          "name": "stderr",
          "text": [
            "avg train loss: 0.5765: 100%|██████████| 1/1 [00:00<00:00, 27.57it/s]\n",
            "avg val loss: 0.6237: 100%|██████████| 1/1 [00:00<00:00, 109.88it/s]\n"
          ]
        },
        {
          "output_type": "stream",
          "name": "stdout",
          "text": [
            "---  Accuracy : 0.6666666865348816 \n",
            "\n",
            "Waiting += 1\n",
            "\n",
            "Starting epoch 91 / 300\n"
          ]
        },
        {
          "output_type": "stream",
          "name": "stderr",
          "text": [
            "avg train loss: 0.5751: 100%|██████████| 1/1 [00:00<00:00, 24.27it/s]\n",
            "avg val loss: 0.6196: 100%|██████████| 1/1 [00:00<00:00, 143.44it/s]\n"
          ]
        },
        {
          "output_type": "stream",
          "name": "stdout",
          "text": [
            "---  Accuracy : 0.6666666865348816 \n",
            "\n",
            "Waiting += 1\n",
            "\n",
            "Starting epoch 92 / 300\n"
          ]
        },
        {
          "output_type": "stream",
          "name": "stderr",
          "text": [
            "avg train loss: 0.5738: 100%|██████████| 1/1 [00:00<00:00, 25.80it/s]\n",
            "avg val loss: 0.6163: 100%|██████████| 1/1 [00:00<00:00, 133.90it/s]\n"
          ]
        },
        {
          "output_type": "stream",
          "name": "stdout",
          "text": [
            "---  Accuracy : 0.6666666865348816 \n",
            "\n",
            "Waiting += 1\n",
            "\n",
            "Starting epoch 93 / 300\n"
          ]
        },
        {
          "output_type": "stream",
          "name": "stderr",
          "text": [
            "avg train loss: 0.5726: 100%|██████████| 1/1 [00:00<00:00, 25.26it/s]\n",
            "avg val loss: 0.6143: 100%|██████████| 1/1 [00:00<00:00, 139.82it/s]\n"
          ]
        },
        {
          "output_type": "stream",
          "name": "stdout",
          "text": [
            "---  Accuracy : 0.6666666865348816 \n",
            "\n",
            "Waiting += 1\n",
            "\n",
            "Starting epoch 94 / 300\n"
          ]
        },
        {
          "output_type": "stream",
          "name": "stderr",
          "text": [
            "avg train loss: 0.5713: 100%|██████████| 1/1 [00:00<00:00, 22.53it/s]\n",
            "avg val loss: 0.6138: 100%|██████████| 1/1 [00:00<00:00, 143.59it/s]\n"
          ]
        },
        {
          "output_type": "stream",
          "name": "stdout",
          "text": [
            "---  Accuracy : 0.6666666865348816 \n",
            "\n",
            "Waiting += 1\n",
            "\n",
            "Starting epoch 95 / 300\n"
          ]
        },
        {
          "output_type": "stream",
          "name": "stderr",
          "text": [
            "avg train loss: 0.5700: 100%|██████████| 1/1 [00:00<00:00, 24.18it/s]\n",
            "avg val loss: 0.6146: 100%|██████████| 1/1 [00:00<00:00, 139.16it/s]\n"
          ]
        },
        {
          "output_type": "stream",
          "name": "stdout",
          "text": [
            "---  Accuracy : 0.6666666865348816 \n",
            "\n",
            "Waiting += 1\n",
            "\n",
            "Starting epoch 96 / 300\n"
          ]
        },
        {
          "output_type": "stream",
          "name": "stderr",
          "text": [
            "avg train loss: 0.5687: 100%|██████████| 1/1 [00:00<00:00, 26.29it/s]\n",
            "avg val loss: 0.6159: 100%|██████████| 1/1 [00:00<00:00, 115.73it/s]\n"
          ]
        },
        {
          "output_type": "stream",
          "name": "stdout",
          "text": [
            "---  Accuracy : 0.6666666865348816 \n",
            "\n",
            "Waiting += 1\n",
            "\n",
            "Starting epoch 97 / 300\n"
          ]
        },
        {
          "output_type": "stream",
          "name": "stderr",
          "text": [
            "avg train loss: 0.5674: 100%|██████████| 1/1 [00:00<00:00, 25.26it/s]\n",
            "avg val loss: 0.6170: 100%|██████████| 1/1 [00:00<00:00, 139.70it/s]\n"
          ]
        },
        {
          "output_type": "stream",
          "name": "stdout",
          "text": [
            "---  Accuracy : 0.6666666865348816 \n",
            "\n",
            "Waiting += 1\n",
            "\n",
            "Starting epoch 98 / 300\n"
          ]
        },
        {
          "output_type": "stream",
          "name": "stderr",
          "text": [
            "avg train loss: 0.5662: 100%|██████████| 1/1 [00:00<00:00, 25.14it/s]\n",
            "avg val loss: 0.6173: 100%|██████████| 1/1 [00:00<00:00, 136.59it/s]\n"
          ]
        },
        {
          "output_type": "stream",
          "name": "stdout",
          "text": [
            "---  Accuracy : 0.6666666865348816 \n",
            "\n",
            "Waiting += 1\n",
            "\n",
            "Starting epoch 99 / 300\n"
          ]
        },
        {
          "output_type": "stream",
          "name": "stderr",
          "text": [
            "avg train loss: 0.5649: 100%|██████████| 1/1 [00:00<00:00, 25.96it/s]\n",
            "avg val loss: 0.6163: 100%|██████████| 1/1 [00:00<00:00, 101.81it/s]\n"
          ]
        },
        {
          "output_type": "stream",
          "name": "stdout",
          "text": [
            "---  Accuracy : 0.6666666865348816 \n",
            "\n",
            "Waiting += 1\n",
            "\n",
            "Starting epoch 100 / 300\n"
          ]
        },
        {
          "output_type": "stream",
          "name": "stderr",
          "text": [
            "avg train loss: 0.5637: 100%|██████████| 1/1 [00:00<00:00, 22.48it/s]\n",
            "avg val loss: 0.6143: 100%|██████████| 1/1 [00:00<00:00, 122.59it/s]\n"
          ]
        },
        {
          "output_type": "stream",
          "name": "stdout",
          "text": [
            "---  Accuracy : 0.6666666865348816 \n",
            "\n",
            "Waiting += 1\n",
            "\n",
            "Starting epoch 101 / 300\n"
          ]
        },
        {
          "output_type": "stream",
          "name": "stderr",
          "text": [
            "avg train loss: 0.5624: 100%|██████████| 1/1 [00:00<00:00, 23.36it/s]\n",
            "avg val loss: 0.6117: 100%|██████████| 1/1 [00:00<00:00, 113.16it/s]\n"
          ]
        },
        {
          "output_type": "stream",
          "name": "stdout",
          "text": [
            "---  Accuracy : 0.6666666865348816 \n",
            "\n",
            "Waiting += 1\n",
            "\n",
            "Starting epoch 102 / 300\n"
          ]
        },
        {
          "output_type": "stream",
          "name": "stderr",
          "text": [
            "avg train loss: 0.5611: 100%|██████████| 1/1 [00:00<00:00, 23.98it/s]\n",
            "avg val loss: 0.6091: 100%|██████████| 1/1 [00:00<00:00, 111.64it/s]\n"
          ]
        },
        {
          "output_type": "stream",
          "name": "stdout",
          "text": [
            "---  Accuracy : 0.6666666865348816 \n",
            "\n",
            "Waiting += 1\n",
            "\n",
            "Starting epoch 103 / 300\n"
          ]
        },
        {
          "output_type": "stream",
          "name": "stderr",
          "text": [
            "avg train loss: 0.5599: 100%|██████████| 1/1 [00:00<00:00, 27.27it/s]\n",
            "avg val loss: 0.6071: 100%|██████████| 1/1 [00:00<00:00, 128.53it/s]\n"
          ]
        },
        {
          "output_type": "stream",
          "name": "stdout",
          "text": [
            "---  Accuracy : 0.6666666865348816 \n",
            "\n",
            "Waiting += 1\n",
            "\n",
            "Starting epoch 104 / 300\n"
          ]
        },
        {
          "output_type": "stream",
          "name": "stderr",
          "text": [
            "avg train loss: 0.5587: 100%|██████████| 1/1 [00:00<00:00, 23.89it/s]\n",
            "avg val loss: 0.6059: 100%|██████████| 1/1 [00:00<00:00, 100.83it/s]\n"
          ]
        },
        {
          "output_type": "stream",
          "name": "stdout",
          "text": [
            "---  Accuracy : 0.6666666865348816 \n",
            "\n",
            "Waiting += 1\n",
            "\n",
            "Starting epoch 105 / 300\n"
          ]
        },
        {
          "output_type": "stream",
          "name": "stderr",
          "text": [
            "avg train loss: 0.5575: 100%|██████████| 1/1 [00:00<00:00, 21.49it/s]\n",
            "avg val loss: 0.6055: 100%|██████████| 1/1 [00:00<00:00, 98.19it/s]\n"
          ]
        },
        {
          "output_type": "stream",
          "name": "stdout",
          "text": [
            "---  Accuracy : 0.6666666865348816 \n",
            "\n",
            "Waiting += 1\n",
            "\n",
            "Starting epoch 106 / 300\n"
          ]
        },
        {
          "output_type": "stream",
          "name": "stderr",
          "text": [
            "avg train loss: 0.5562: 100%|██████████| 1/1 [00:00<00:00, 21.77it/s]\n",
            "avg val loss: 0.6056: 100%|██████████| 1/1 [00:00<00:00, 136.94it/s]\n"
          ]
        },
        {
          "output_type": "stream",
          "name": "stdout",
          "text": [
            "---  Accuracy : 0.6666666865348816 \n",
            "\n",
            "Waiting += 1\n",
            "\n",
            "Starting epoch 107 / 300\n"
          ]
        },
        {
          "output_type": "stream",
          "name": "stderr",
          "text": [
            "avg train loss: 0.5550: 100%|██████████| 1/1 [00:00<00:00, 24.87it/s]\n",
            "avg val loss: 0.6059: 100%|██████████| 1/1 [00:00<00:00, 139.94it/s]\n"
          ]
        },
        {
          "output_type": "stream",
          "name": "stdout",
          "text": [
            "---  Accuracy : 0.6666666865348816 \n",
            "\n",
            "Waiting += 1\n",
            "\n",
            "Starting epoch 108 / 300\n"
          ]
        },
        {
          "output_type": "stream",
          "name": "stderr",
          "text": [
            "avg train loss: 0.5538: 100%|██████████| 1/1 [00:00<00:00, 24.91it/s]\n",
            "avg val loss: 0.6060: 100%|██████████| 1/1 [00:00<00:00, 106.90it/s]\n"
          ]
        },
        {
          "output_type": "stream",
          "name": "stdout",
          "text": [
            "---  Accuracy : 0.6666666865348816 \n",
            "\n",
            "Waiting += 1\n",
            "\n",
            "Starting epoch 109 / 300\n"
          ]
        },
        {
          "output_type": "stream",
          "name": "stderr",
          "text": [
            "avg train loss: 0.5525: 100%|██████████| 1/1 [00:00<00:00, 21.98it/s]\n",
            "avg val loss: 0.6054: 100%|██████████| 1/1 [00:00<00:00, 134.84it/s]\n"
          ]
        },
        {
          "output_type": "stream",
          "name": "stdout",
          "text": [
            "---  Accuracy : 0.6666666865348816 \n",
            "\n",
            "Waiting += 1\n",
            "\n",
            "Starting epoch 110 / 300\n"
          ]
        },
        {
          "output_type": "stream",
          "name": "stderr",
          "text": [
            "avg train loss: 0.5513: 100%|██████████| 1/1 [00:00<00:00, 24.31it/s]\n",
            "avg val loss: 0.6042: 100%|██████████| 1/1 [00:00<00:00, 136.30it/s]\n"
          ]
        },
        {
          "output_type": "stream",
          "name": "stdout",
          "text": [
            "---  Accuracy : 0.6666666865348816 \n",
            "\n",
            "Waiting += 1\n",
            "\n",
            "Starting epoch 111 / 300\n"
          ]
        },
        {
          "output_type": "stream",
          "name": "stderr",
          "text": [
            "avg train loss: 0.5501: 100%|██████████| 1/1 [00:00<00:00, 23.82it/s]\n",
            "avg val loss: 0.6025: 100%|██████████| 1/1 [00:00<00:00, 106.88it/s]\n"
          ]
        },
        {
          "output_type": "stream",
          "name": "stdout",
          "text": [
            "---  Accuracy : 0.6666666865348816 \n",
            "\n",
            "Waiting += 1\n",
            "\n",
            "Starting epoch 112 / 300\n"
          ]
        },
        {
          "output_type": "stream",
          "name": "stderr",
          "text": [
            "avg train loss: 0.5489: 100%|██████████| 1/1 [00:00<00:00, 24.76it/s]\n",
            "avg val loss: 0.6005: 100%|██████████| 1/1 [00:00<00:00, 116.25it/s]\n"
          ]
        },
        {
          "output_type": "stream",
          "name": "stdout",
          "text": [
            "---  Accuracy : 0.6666666865348816 \n",
            "\n",
            "Waiting += 1\n",
            "\n",
            "Starting epoch 113 / 300\n"
          ]
        },
        {
          "output_type": "stream",
          "name": "stderr",
          "text": [
            "avg train loss: 0.5477: 100%|██████████| 1/1 [00:00<00:00, 24.82it/s]\n",
            "avg val loss: 0.5987: 100%|██████████| 1/1 [00:00<00:00, 84.14it/s]\n"
          ]
        },
        {
          "output_type": "stream",
          "name": "stdout",
          "text": [
            "---  Accuracy : 0.7777777910232544 \n",
            "\n",
            "Waiting += 1\n",
            "\n",
            "Starting epoch 114 / 300\n"
          ]
        },
        {
          "output_type": "stream",
          "name": "stderr",
          "text": [
            "avg train loss: 0.5465: 100%|██████████| 1/1 [00:00<00:00, 26.19it/s]\n",
            "avg val loss: 0.5973: 100%|██████████| 1/1 [00:00<00:00, 97.52it/s]\n"
          ]
        },
        {
          "output_type": "stream",
          "name": "stdout",
          "text": [
            "---  Accuracy : 0.7777777910232544 \n",
            "\n",
            "Waiting += 1\n",
            "\n",
            "Starting epoch 115 / 300\n"
          ]
        },
        {
          "output_type": "stream",
          "name": "stderr",
          "text": [
            "avg train loss: 0.5453: 100%|██████████| 1/1 [00:00<00:00, 20.87it/s]\n",
            "avg val loss: 0.5963: 100%|██████████| 1/1 [00:00<00:00, 131.53it/s]\n"
          ]
        },
        {
          "output_type": "stream",
          "name": "stdout",
          "text": [
            "---  Accuracy : 0.7777777910232544 \n",
            "\n",
            "Waiting += 1\n",
            "\n",
            "Starting epoch 116 / 300\n"
          ]
        },
        {
          "output_type": "stream",
          "name": "stderr",
          "text": [
            "avg train loss: 0.5441: 100%|██████████| 1/1 [00:00<00:00, 22.47it/s]\n",
            "avg val loss: 0.5958: 100%|██████████| 1/1 [00:00<00:00, 117.86it/s]\n"
          ]
        },
        {
          "output_type": "stream",
          "name": "stdout",
          "text": [
            "---  Accuracy : 0.7777777910232544 \n",
            "\n",
            "Waiting += 1\n",
            "\n",
            "Starting epoch 117 / 300\n"
          ]
        },
        {
          "output_type": "stream",
          "name": "stderr",
          "text": [
            "avg train loss: 0.5429: 100%|██████████| 1/1 [00:00<00:00, 23.92it/s]\n",
            "avg val loss: 0.5955: 100%|██████████| 1/1 [00:00<00:00, 108.76it/s]\n"
          ]
        },
        {
          "output_type": "stream",
          "name": "stdout",
          "text": [
            "---  Accuracy : 0.7777777910232544 \n",
            "\n",
            "Waiting += 1\n",
            "\n",
            "Starting epoch 118 / 300\n"
          ]
        },
        {
          "output_type": "stream",
          "name": "stderr",
          "text": [
            "avg train loss: 0.5417: 100%|██████████| 1/1 [00:00<00:00, 24.34it/s]\n",
            "avg val loss: 0.5952: 100%|██████████| 1/1 [00:00<00:00, 123.32it/s]\n"
          ]
        },
        {
          "output_type": "stream",
          "name": "stdout",
          "text": [
            "---  Accuracy : 0.7777777910232544 \n",
            "\n",
            "Waiting += 1\n",
            "\n",
            "Starting epoch 119 / 300\n"
          ]
        },
        {
          "output_type": "stream",
          "name": "stderr",
          "text": [
            "avg train loss: 0.5405: 100%|██████████| 1/1 [00:00<00:00, 22.24it/s]\n",
            "avg val loss: 0.5946: 100%|██████████| 1/1 [00:00<00:00, 112.10it/s]"
          ]
        },
        {
          "output_type": "stream",
          "name": "stdout",
          "text": [
            "---  Accuracy : 0.7777777910232544 \n",
            "\n",
            "Waiting += 1\n",
            "Stop training at epoch 119\n",
            "Best val loss : 0.5866\n"
          ]
        },
        {
          "output_type": "stream",
          "name": "stderr",
          "text": [
            "\n"
          ]
        },
        {
          "output_type": "execute_result",
          "data": {
            "text/plain": [
              "CommonSpatialFilterModel(\n",
              "  (spatial_filtering): Conv2d(1, 30, kernel_size=(64, 1), stride=(1, 1), bias=False)\n",
              "  (classifier): Sequential(\n",
              "    (0): Linear(in_features=30, out_features=2, bias=True)\n",
              "  )\n",
              ")"
            ]
          },
          "metadata": {},
          "execution_count": 19
        }
      ]
    }
  ]
}