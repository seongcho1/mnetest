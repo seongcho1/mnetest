{
  "nbformat": 4,
  "nbformat_minor": 0,
  "metadata": {
    "colab": {
      "provenance": [],
      "authorship_tag": "ABX9TyPJkmkZ4KNca8bhixJhEWMx",
      "include_colab_link": true
    },
    "kernelspec": {
      "name": "python3",
      "display_name": "Python 3"
    },
    "language_info": {
      "name": "python"
    }
  },
  "cells": [
    {
      "cell_type": "markdown",
      "metadata": {
        "id": "view-in-github",
        "colab_type": "text"
      },
      "source": [
        "<a href=\"https://colab.research.google.com/github/seongcho1/mnetest/blob/main/eeg_motor_imagery_001.ipynb\" target=\"_parent\"><img src=\"https://colab.research.google.com/assets/colab-badge.svg\" alt=\"Open In Colab\"/></a>"
      ]
    },
    {
      "cell_type": "markdown",
      "source": [
        "https://github.com/mne-tools/mne-torch/blob/master/demo_eeg_csp.py"
      ],
      "metadata": {
        "id": "-hiyg4PD3Pqz"
      }
    },
    {
      "cell_type": "code",
      "execution_count": 1,
      "metadata": {
        "id": "D73tCDO0uB74"
      },
      "outputs": [],
      "source": [
        "import sklearn.model_selection\n",
        "import sklearn.ensemble\n",
        "import scipy.stats\n",
        "import numpy as np"
      ]
    },
    {
      "cell_type": "code",
      "source": [
        "!pip install mne"
      ],
      "metadata": {
        "colab": {
          "base_uri": "https://localhost:8080/"
        },
        "id": "R0RTai3nulCP",
        "outputId": "2a2845bd-2ea9-419e-c450-84842178ad7b"
      },
      "execution_count": 3,
      "outputs": [
        {
          "output_type": "stream",
          "name": "stdout",
          "text": [
            "Looking in indexes: https://pypi.org/simple, https://us-python.pkg.dev/colab-wheels/public/simple/\n",
            "Collecting mne\n",
            "  Downloading mne-1.3.0-py3-none-any.whl (7.6 MB)\n",
            "\u001b[2K     \u001b[90m━━━━━━━━━━━━━━━━━━━━━━━━━━━━━━━━━━━━━━━━\u001b[0m \u001b[32m7.6/7.6 MB\u001b[0m \u001b[31m33.2 MB/s\u001b[0m eta \u001b[36m0:00:00\u001b[0m\n",
            "\u001b[?25hRequirement already satisfied: pooch>=1.5 in /usr/local/lib/python3.8/dist-packages (from mne) (1.6.0)\n",
            "Requirement already satisfied: decorator in /usr/local/lib/python3.8/dist-packages (from mne) (4.4.2)\n",
            "Requirement already satisfied: numpy>=1.15.4 in /usr/local/lib/python3.8/dist-packages (from mne) (1.21.6)\n",
            "Requirement already satisfied: tqdm in /usr/local/lib/python3.8/dist-packages (from mne) (4.64.1)\n",
            "Requirement already satisfied: packaging in /usr/local/lib/python3.8/dist-packages (from mne) (21.3)\n",
            "Requirement already satisfied: matplotlib in /usr/local/lib/python3.8/dist-packages (from mne) (3.2.2)\n",
            "Requirement already satisfied: jinja2 in /usr/local/lib/python3.8/dist-packages (from mne) (2.11.3)\n",
            "Requirement already satisfied: scipy>=1.1.0 in /usr/local/lib/python3.8/dist-packages (from mne) (1.7.3)\n",
            "Requirement already satisfied: requests>=2.19.0 in /usr/local/lib/python3.8/dist-packages (from pooch>=1.5->mne) (2.25.1)\n",
            "Requirement already satisfied: appdirs>=1.3.0 in /usr/local/lib/python3.8/dist-packages (from pooch>=1.5->mne) (1.4.4)\n",
            "Requirement already satisfied: pyparsing!=3.0.5,>=2.0.2 in /usr/local/lib/python3.8/dist-packages (from packaging->mne) (3.0.9)\n",
            "Requirement already satisfied: MarkupSafe>=0.23 in /usr/local/lib/python3.8/dist-packages (from jinja2->mne) (2.0.1)\n",
            "Requirement already satisfied: kiwisolver>=1.0.1 in /usr/local/lib/python3.8/dist-packages (from matplotlib->mne) (1.4.4)\n",
            "Requirement already satisfied: python-dateutil>=2.1 in /usr/local/lib/python3.8/dist-packages (from matplotlib->mne) (2.8.2)\n",
            "Requirement already satisfied: cycler>=0.10 in /usr/local/lib/python3.8/dist-packages (from matplotlib->mne) (0.11.0)\n",
            "Requirement already satisfied: six>=1.5 in /usr/local/lib/python3.8/dist-packages (from python-dateutil>=2.1->matplotlib->mne) (1.15.0)\n",
            "Requirement already satisfied: urllib3<1.27,>=1.21.1 in /usr/local/lib/python3.8/dist-packages (from requests>=2.19.0->pooch>=1.5->mne) (1.24.3)\n",
            "Requirement already satisfied: chardet<5,>=3.0.2 in /usr/local/lib/python3.8/dist-packages (from requests>=2.19.0->pooch>=1.5->mne) (4.0.0)\n",
            "Requirement already satisfied: idna<3,>=2.5 in /usr/local/lib/python3.8/dist-packages (from requests>=2.19.0->pooch>=1.5->mne) (2.10)\n",
            "Requirement already satisfied: certifi>=2017.4.17 in /usr/local/lib/python3.8/dist-packages (from requests>=2.19.0->pooch>=1.5->mne) (2022.12.7)\n",
            "Installing collected packages: mne\n",
            "Successfully installed mne-1.3.0\n"
          ]
        }
      ]
    },
    {
      "cell_type": "code",
      "source": [
        "from sklearn.model_selection import ShuffleSplit\n",
        "from mne import Epochs, pick_types, events_from_annotations\n",
        "from mne.io import concatenate_raws, read_raw_edf\n",
        "from mne.datasets import eegbci"
      ],
      "metadata": {
        "id": "jAtiD8Ezudwa"
      },
      "execution_count": 4,
      "outputs": []
    },
    {
      "cell_type": "code",
      "source": [
        "def get_data():\n",
        "    tmin, tmax = -1., 4.\n",
        "    event_id = dict(hands=2, feet=3)\n",
        "    subject = 1\n",
        "    runs = [6, 10, 14]  # motor imagery: hands vs feet\n",
        "\n",
        "    raw_fnames = eegbci.load_data(subject, runs)\n",
        "    raw = concatenate_raws([read_raw_edf(f, preload=True) for f in raw_fnames])\n",
        "\n",
        "    # strip channel names of \".\" characters\n",
        "    raw.rename_channels(lambda x: x.strip('.'))\n",
        "\n",
        "    # Apply band-pass filter\n",
        "    raw.filter(7., 30., fir_design='firwin', skip_by_annotation='edge')\n",
        "\n",
        "    events, _ = events_from_annotations(raw)\n",
        "\n",
        "    picks = pick_types(raw.info, meg=False, eeg=True, stim=False, eog=False,\n",
        "                       exclude='bads')\n",
        "\n",
        "    # Read epochs (train will be done only between 1 and 2s)\n",
        "    # Testing will be done with a running classifier\n",
        "    epochs = Epochs(raw, events, event_id, tmin, tmax, proj=True, picks=picks,\n",
        "                    baseline=None, preload=True)\n",
        "    epochs.crop(tmin=1., tmax=None)\n",
        "    labels = epochs.events[:, 2] - 2\n",
        "    return epochs.get_data()[:, :, :256], labels\n",
        "\n",
        "\n",
        "epochs_data, labels = get_data()\n",
        "print(epochs_data.shape, labels.shape)"
      ],
      "metadata": {
        "colab": {
          "base_uri": "https://localhost:8080/"
        },
        "id": "OFbpZqL6uJ4A",
        "outputId": "48f0ceae-008d-435f-883a-f9c33c38c113"
      },
      "execution_count": 9,
      "outputs": [
        {
          "output_type": "stream",
          "name": "stdout",
          "text": [
            "Extracting EDF parameters from /root/mne_data/MNE-eegbci-data/files/eegmmidb/1.0.0/S001/S001R06.edf...\n",
            "EDF file detected\n",
            "Setting channel info structure...\n",
            "Creating raw.info structure...\n",
            "Reading 0 ... 19999  =      0.000 ...   124.994 secs...\n",
            "Extracting EDF parameters from /root/mne_data/MNE-eegbci-data/files/eegmmidb/1.0.0/S001/S001R10.edf...\n",
            "EDF file detected\n",
            "Setting channel info structure...\n",
            "Creating raw.info structure...\n",
            "Reading 0 ... 19999  =      0.000 ...   124.994 secs...\n",
            "Extracting EDF parameters from /root/mne_data/MNE-eegbci-data/files/eegmmidb/1.0.0/S001/S001R14.edf...\n",
            "EDF file detected\n",
            "Setting channel info structure...\n",
            "Creating raw.info structure...\n",
            "Reading 0 ... 19999  =      0.000 ...   124.994 secs...\n",
            "Filtering raw data in 3 contiguous segments\n",
            "Setting up band-pass filter from 7 - 30 Hz\n",
            "\n",
            "FIR filter parameters\n",
            "---------------------\n",
            "Designing a one-pass, zero-phase, non-causal bandpass filter:\n",
            "- Windowed time-domain design (firwin) method\n",
            "- Hamming window with 0.0194 passband ripple and 53 dB stopband attenuation\n",
            "- Lower passband edge: 7.00\n",
            "- Lower transition bandwidth: 2.00 Hz (-6 dB cutoff frequency: 6.00 Hz)\n",
            "- Upper passband edge: 30.00 Hz\n",
            "- Upper transition bandwidth: 7.50 Hz (-6 dB cutoff frequency: 33.75 Hz)\n",
            "- Filter length: 265 samples (1.656 sec)\n",
            "\n"
          ]
        },
        {
          "output_type": "stream",
          "name": "stderr",
          "text": [
            "[Parallel(n_jobs=1)]: Using backend SequentialBackend with 1 concurrent workers.\n",
            "[Parallel(n_jobs=1)]: Done   1 out of   1 | elapsed:    0.0s remaining:    0.0s\n",
            "[Parallel(n_jobs=1)]: Done   2 out of   2 | elapsed:    0.0s remaining:    0.0s\n",
            "[Parallel(n_jobs=1)]: Done   3 out of   3 | elapsed:    0.0s remaining:    0.0s\n",
            "[Parallel(n_jobs=1)]: Done   4 out of   4 | elapsed:    0.0s remaining:    0.0s\n",
            "[Parallel(n_jobs=1)]: Done  64 out of  64 | elapsed:    0.2s finished\n"
          ]
        },
        {
          "output_type": "stream",
          "name": "stdout",
          "text": [
            "Used Annotations descriptions: ['T0', 'T1', 'T2']\n",
            "Not setting metadata\n",
            "45 matching events found\n",
            "No baseline correction applied\n",
            "0 projection items activated\n",
            "Using data from preloaded Raw for 45 events and 801 original time points ...\n",
            "0 bad epochs dropped\n",
            "(45, 64, 256) (45,)\n"
          ]
        }
      ]
    },
    {
      "cell_type": "code",
      "source": [
        "import copy\n",
        "\n",
        "import numpy as np\n",
        "\n",
        "from tqdm import tqdm\n",
        "\n",
        "import torch\n",
        "import torch.nn.functional as F\n",
        "from torch.utils.data import Dataset\n",
        "from torch.utils.data.dataset import ConcatDataset as _ConcatDataset  # noqa\n",
        "\n",
        "\n",
        "class ConcatDataset(_ConcatDataset):\n",
        "    \"\"\"\n",
        "    Same as torch.utils.data.dataset.ConcatDataset, but exposes an extra\n",
        "    method for querying the group structure (index if dataset\n",
        "    each sample comes from)\n",
        "    \"\"\"\n",
        "    def get_groups(self):\n",
        "        \"\"\"Return the group index of each sample\n",
        "        Returns\n",
        "        -------\n",
        "        groups : array of int, shape (n_samples,)\n",
        "            The group indices.\n",
        "        \"\"\"\n",
        "        groups = [k * np.ones(len(d)) for k, d in enumerate(self.datasets)]\n",
        "        return np.concatenate(groups)\n",
        "\n",
        "\n",
        "class EpochsDataset(Dataset):\n",
        "    \"\"\"Class to expose an MNE Epochs object as PyTorch dataset\n",
        "    Parameters\n",
        "    ----------\n",
        "    epochs_data : 3d array, shape (n_epochs, n_channels, n_times)\n",
        "        The epochs data.\n",
        "    epochs_labels : array of int, shape (n_epochs,)\n",
        "        The epochs labels.\n",
        "    transform : callable | None\n",
        "        The function to eventually apply to each epoch\n",
        "        for preprocessing (e.g. scaling). Defaults to None.\n",
        "    \"\"\"\n",
        "    def __init__(self, epochs_data, epochs_labels, transform=None):\n",
        "        assert len(epochs_data) == len(epochs_labels)\n",
        "        self.epochs_data = epochs_data\n",
        "        self.epochs_labels = epochs_labels\n",
        "        self.transform = transform\n",
        "\n",
        "    def __len__(self):\n",
        "        return len(self.epochs_labels)\n",
        "\n",
        "    def __getitem__(self, idx):\n",
        "        X, y = self.epochs_data[idx], self.epochs_labels[idx]\n",
        "        if self.transform is not None:\n",
        "            X = self.transform(X)\n",
        "        X = torch.as_tensor(X[None, ...])\n",
        "        return X, y\n",
        "\n",
        "\n",
        "def _do_train(model, loader, optimizer, criterion, device):\n",
        "    # training loop\n",
        "    model.train()\n",
        "    pbar = tqdm(loader)\n",
        "    train_loss = np.zeros(len(loader))\n",
        "    for idx_batch, (batch_x, batch_y) in enumerate(pbar):\n",
        "        optimizer.zero_grad()\n",
        "        batch_x = batch_x.to(device=device, dtype=torch.float32)\n",
        "        batch_y = batch_y.to(device=device, dtype=torch.int64)\n",
        "\n",
        "        output = model(batch_x)\n",
        "        loss = criterion(output, batch_y)\n",
        "\n",
        "        loss.backward()\n",
        "        optimizer.step()\n",
        "\n",
        "        train_loss[idx_batch] = loss.item()\n",
        "        pbar.set_description(\n",
        "            desc=\"avg train loss: {:.4f}\".format(\n",
        "                np.mean(train_loss[:idx_batch + 1])))\n",
        "\n",
        "\n",
        "def _validate(model, loader, criterion, device):\n",
        "    # validation loop\n",
        "    pbar = tqdm(loader)\n",
        "    val_loss = np.zeros(len(loader))\n",
        "    accuracy = 0.\n",
        "    with torch.no_grad():\n",
        "        model.eval()\n",
        "\n",
        "        for idx_batch, (batch_x, batch_y) in enumerate(pbar):\n",
        "            batch_x = batch_x.to(device=device, dtype=torch.float32)\n",
        "            batch_y = batch_y.to(device=device, dtype=torch.int64)\n",
        "            output = model.forward(batch_x)\n",
        "\n",
        "            loss = criterion(output, batch_y)\n",
        "            val_loss[idx_batch] = loss.item()\n",
        "\n",
        "            _, top_class = output.topk(1, dim=1)\n",
        "            top_class = top_class.flatten()\n",
        "            # print(top_class.shape, batch_y.shape)\n",
        "            accuracy += \\\n",
        "                torch.sum((batch_y == top_class).to(torch.float32))\n",
        "\n",
        "            pbar.set_description(\n",
        "                desc=\"avg val loss: {:.4f}\".format(\n",
        "                    np.mean(val_loss[:idx_batch + 1])))\n",
        "\n",
        "    accuracy = accuracy / len(loader.dataset)\n",
        "    print(\"---  Accuracy : %s\" % accuracy.item(), \"\\n\")\n",
        "    return np.mean(val_loss)\n",
        "\n",
        "\n",
        "def train(model, loader_train, loader_valid, optimizer, n_epochs, patience,\n",
        "          device):\n",
        "    \"\"\"Training function\n",
        "    Parameters\n",
        "    ----------\n",
        "    model : instance of nn.Module\n",
        "        The model.\n",
        "    loader_train : instance of Sampler\n",
        "        The generator of EEG samples the model has to train on.\n",
        "        It contains n_train samples\n",
        "    loader_valid : instance of Sampler\n",
        "        The generator of EEG samples the model has to validate on.\n",
        "        It contains n_val samples. The validation samples are used to\n",
        "        monitor the training process and to perform early stopping\n",
        "    optimizer : instance of optimizer\n",
        "        The optimizer to use for training.\n",
        "    n_epochs : int\n",
        "        The maximum of epochs to run.\n",
        "    patience : int\n",
        "        The patience parameter, i.e. how long to wait for the\n",
        "        validation error to go down.\n",
        "    device : str | instance of torch.device\n",
        "        The device to train the model on.\n",
        "    Returns\n",
        "    -------\n",
        "    best_model : instance of nn.Module\n",
        "        The model that lead to the best prediction on the validation\n",
        "        dataset.\n",
        "    \"\"\"\n",
        "    # put model on cuda if not already\n",
        "    device = torch.device(device)\n",
        "    # model.to(device)\n",
        "\n",
        "    # define criterion\n",
        "    criterion = F.nll_loss\n",
        "\n",
        "    best_val_loss = + np.infty\n",
        "    best_model = copy.deepcopy(model)\n",
        "    waiting = 0\n",
        "\n",
        "    for epoch in range(n_epochs):\n",
        "        print(\"\\nStarting epoch {} / {}\".format(epoch + 1, n_epochs))\n",
        "        _do_train(model, loader_train, optimizer, criterion, device)\n",
        "        val_loss = _validate(model, loader_valid, criterion, device)\n",
        "\n",
        "        # model saving\n",
        "        if np.mean(val_loss) < best_val_loss:\n",
        "            print(\"\\nbest val loss {:.4f} -> {:.4f}\".format(\n",
        "                best_val_loss, np.mean(val_loss)))\n",
        "            best_val_loss = np.mean(val_loss)\n",
        "            best_model = copy.deepcopy(model)\n",
        "            waiting = 0\n",
        "        else:\n",
        "            print(\"Waiting += 1\")\n",
        "            waiting += 1\n",
        "\n",
        "        # model early stopping\n",
        "        if waiting >= patience:\n",
        "            print(\"Stop training at epoch {}\".format(epoch + 1))\n",
        "            print(\"Best val loss : {:.4f}\".format(best_val_loss))\n",
        "            break\n",
        "\n",
        "    return best_model"
      ],
      "metadata": {
        "id": "W_kS4Tf32TGK"
      },
      "execution_count": 14,
      "outputs": []
    },
    {
      "cell_type": "code",
      "source": [
        "# Classification with PyTorch CSP like model\n",
        "\n",
        "import torch   # noqa\n",
        "import torch.optim as optim  # noqa\n",
        "from torch.utils.data import Dataset, DataLoader  # noqa\n",
        "from torch.utils.data import Subset  # noqa\n",
        "from torch import nn  # noqa\n",
        "import torch.nn.functional as F  # noqa\n",
        "from torch.utils.data import RandomSampler  # noqa\n",
        "from torch.utils.data import SequentialSampler  # noqa\n",
        "\n",
        "#from common import EpochsDataset  # noqa\n",
        "\n",
        "cv = ShuffleSplit(10, test_size=0.2, random_state=42)\n",
        "cv_split = cv.split(epochs_data)\n",
        "train_idx, test_idx = next(cv_split)\n",
        "\n",
        "\n",
        "def scale(X):\n",
        "    \"\"\"Standard scaling of data along the last dimention.\n",
        "    Parameters\n",
        "    ----------\n",
        "    X : array, shape (n_channels, n_times)\n",
        "        The input signals.\n",
        "    Returns\n",
        "    -------\n",
        "    X_t : array, shape (n_channels, n_times)\n",
        "        The scaled signals.\n",
        "    \"\"\"\n",
        "    return X / 2e-5\n",
        "\n",
        "dataset = EpochsDataset(epochs_data, labels, transform=scale)\n",
        "\n",
        "ds_train, ds_valid = Subset(dataset, train_idx), Subset(dataset, test_idx)\n",
        "\n",
        "batch_size_train = len(ds_train)\n",
        "batch_size_valid = len(ds_valid)\n",
        "sampler_train = RandomSampler(ds_train)\n",
        "sampler_valid = SequentialSampler(ds_valid)\n",
        "\n",
        "# create loaders\n",
        "num_workers = 0\n",
        "loader_train = \\\n",
        "    DataLoader(ds_train, batch_size=batch_size_train,\n",
        "               num_workers=num_workers, sampler=sampler_train)\n",
        "loader_valid = \\\n",
        "    DataLoader(ds_valid, batch_size=batch_size_valid,\n",
        "               num_workers=num_workers, sampler=sampler_valid)"
      ],
      "metadata": {
        "id": "LZV2pF6oylxg"
      },
      "execution_count": 17,
      "outputs": []
    },
    {
      "cell_type": "code",
      "source": [
        "# Define the model\n",
        "\n",
        "\n",
        "class CommonSpatialFilterModel(nn.Module):\n",
        "    \"\"\"The model implements a CSP-like network for BCI applications\n",
        "    Parameters\n",
        "    ----------\n",
        "    spatial_dim : int\n",
        "        Number of channels\n",
        "    n_components : int\n",
        "        The number of spatial filters.\n",
        "    \"\"\"\n",
        "    def __init__(self, spatial_dim, n_components=5):\n",
        "        super().__init__()\n",
        "        self.spatial_dim = spatial_dim\n",
        "        self.n_components = n_components\n",
        "\n",
        "        # define model architecture\n",
        "        self.spatial_filtering = nn.Conv2d(\n",
        "            1, self.n_components, (self.spatial_dim, 1), bias=False)\n",
        "\n",
        "        self.classifier = nn.Sequential(\n",
        "            nn.Linear(n_components, 2),\n",
        "        )\n",
        "\n",
        "    def forward(self, x):\n",
        "        x = self.spatial_filtering(x)\n",
        "        x = torch.sum(x ** 2, dim=3)\n",
        "        x = torch.log(x)\n",
        "        x = x.view(x.size(0), -1)\n",
        "        x = self.classifier(x)\n",
        "        x = F.log_softmax(x, dim=1)\n",
        "        return x\n",
        "\n",
        "# device = 'cuda'\n",
        "device = 'cpu'\n",
        "n_components = 30\n",
        "model = CommonSpatialFilterModel(spatial_dim=epochs_data.shape[1],\n",
        "                                 n_components=n_components)\n",
        "\n",
        "# Test model works:\n",
        "n_samples_test = 10\n",
        "y_test = torch.randint(0, 2, (n_samples_test,))\n",
        "y_pred = model.forward(torch.randn(n_samples_test, 1, *epochs_data.shape[1:]))\n",
        "output = F.nll_loss(y_pred, y_test)\n",
        "_, top_class = y_pred.topk(1, dim=1)\n"
      ],
      "metadata": {
        "id": "HX6dnrTu26qJ"
      },
      "execution_count": 18,
      "outputs": []
    },
    {
      "cell_type": "code",
      "source": [
        "\n",
        "lr = 1e-3\n",
        "n_epochs = 300\n",
        "patience = 100\n",
        "\n",
        "model.to(device=device)  # move to device before creating the optimizer\n",
        "optimizer = optim.SGD(model.parameters(), lr=lr, momentum=0.9,\n",
        "                      weight_decay=1e-4)\n",
        "\n",
        "train(model, loader_train, loader_valid, optimizer, n_epochs, patience, device)"
      ],
      "metadata": {
        "colab": {
          "base_uri": "https://localhost:8080/"
        },
        "id": "7r56Cqyw28cH",
        "outputId": "5f29f812-1124-448d-c7cf-9668258d35fb"
      },
      "execution_count": 20,
      "outputs": [
        {
          "output_type": "stream",
          "name": "stdout",
          "text": [
            "\n",
            "Starting epoch 1 / 300\n"
          ]
        },
        {
          "output_type": "stream",
          "name": "stderr",
          "text": [
            "avg train loss: 0.5393: 100%|██████████| 1/1 [00:00<00:00, 31.00it/s]\n",
            "avg val loss: 0.5942: 100%|██████████| 1/1 [00:00<00:00, 95.10it/s]\n"
          ]
        },
        {
          "output_type": "stream",
          "name": "stdout",
          "text": [
            "---  Accuracy : 0.7777777910232544 \n",
            "\n",
            "\n",
            "best val loss inf -> 0.5942\n",
            "\n",
            "Starting epoch 2 / 300\n"
          ]
        },
        {
          "output_type": "stream",
          "name": "stderr",
          "text": [
            "avg train loss: 0.5392: 100%|██████████| 1/1 [00:00<00:00, 29.84it/s]\n",
            "avg val loss: 0.5935: 100%|██████████| 1/1 [00:00<00:00, 80.84it/s]\n"
          ]
        },
        {
          "output_type": "stream",
          "name": "stdout",
          "text": [
            "---  Accuracy : 0.7777777910232544 \n",
            "\n",
            "\n",
            "best val loss 0.5942 -> 0.5935\n",
            "\n",
            "Starting epoch 3 / 300\n"
          ]
        },
        {
          "output_type": "stream",
          "name": "stderr",
          "text": [
            "avg train loss: 0.5389: 100%|██████████| 1/1 [00:00<00:00, 25.96it/s]\n",
            "avg val loss: 0.5928: 100%|██████████| 1/1 [00:00<00:00, 127.59it/s]\n"
          ]
        },
        {
          "output_type": "stream",
          "name": "stdout",
          "text": [
            "---  Accuracy : 0.7777777910232544 \n",
            "\n",
            "\n",
            "best val loss 0.5935 -> 0.5928\n",
            "\n",
            "Starting epoch 4 / 300\n"
          ]
        },
        {
          "output_type": "stream",
          "name": "stderr",
          "text": [
            "avg train loss: 0.5386: 100%|██████████| 1/1 [00:00<00:00, 23.31it/s]\n",
            "avg val loss: 0.5921: 100%|██████████| 1/1 [00:00<00:00, 73.74it/s]\n"
          ]
        },
        {
          "output_type": "stream",
          "name": "stdout",
          "text": [
            "---  Accuracy : 0.7777777910232544 \n",
            "\n",
            "\n",
            "best val loss 0.5928 -> 0.5921\n",
            "\n",
            "Starting epoch 5 / 300\n"
          ]
        },
        {
          "output_type": "stream",
          "name": "stderr",
          "text": [
            "avg train loss: 0.5382: 100%|██████████| 1/1 [00:00<00:00, 34.85it/s]\n",
            "avg val loss: 0.5916: 100%|██████████| 1/1 [00:00<00:00, 97.67it/s]\n"
          ]
        },
        {
          "output_type": "stream",
          "name": "stdout",
          "text": [
            "---  Accuracy : 0.7777777910232544 \n",
            "\n",
            "\n",
            "best val loss 0.5921 -> 0.5916\n",
            "\n",
            "Starting epoch 6 / 300\n"
          ]
        },
        {
          "output_type": "stream",
          "name": "stderr",
          "text": [
            "avg train loss: 0.5377: 100%|██████████| 1/1 [00:00<00:00, 17.28it/s]\n",
            "avg val loss: 0.5913: 100%|██████████| 1/1 [00:00<00:00, 96.96it/s]\n"
          ]
        },
        {
          "output_type": "stream",
          "name": "stdout",
          "text": [
            "---  Accuracy : 0.7777777910232544 \n",
            "\n",
            "\n",
            "best val loss 0.5916 -> 0.5913\n",
            "\n",
            "Starting epoch 7 / 300\n"
          ]
        },
        {
          "output_type": "stream",
          "name": "stderr",
          "text": [
            "avg train loss: 0.5371: 100%|██████████| 1/1 [00:00<00:00, 25.49it/s]\n",
            "avg val loss: 0.5911: 100%|██████████| 1/1 [00:00<00:00, 132.81it/s]\n"
          ]
        },
        {
          "output_type": "stream",
          "name": "stdout",
          "text": [
            "---  Accuracy : 0.7777777910232544 \n",
            "\n",
            "\n",
            "best val loss 0.5913 -> 0.5911\n",
            "\n",
            "Starting epoch 8 / 300\n"
          ]
        },
        {
          "output_type": "stream",
          "name": "stderr",
          "text": [
            "avg train loss: 0.5365: 100%|██████████| 1/1 [00:00<00:00, 22.09it/s]\n",
            "avg val loss: 0.5909: 100%|██████████| 1/1 [00:00<00:00, 124.82it/s]\n"
          ]
        },
        {
          "output_type": "stream",
          "name": "stdout",
          "text": [
            "---  Accuracy : 0.7777777910232544 \n",
            "\n",
            "\n",
            "best val loss 0.5911 -> 0.5909\n",
            "\n",
            "Starting epoch 9 / 300\n"
          ]
        },
        {
          "output_type": "stream",
          "name": "stderr",
          "text": [
            "avg train loss: 0.5358: 100%|██████████| 1/1 [00:00<00:00, 23.35it/s]\n",
            "avg val loss: 0.5906: 100%|██████████| 1/1 [00:00<00:00, 127.12it/s]\n"
          ]
        },
        {
          "output_type": "stream",
          "name": "stdout",
          "text": [
            "---  Accuracy : 0.7777777910232544 \n",
            "\n",
            "\n",
            "best val loss 0.5909 -> 0.5906\n",
            "\n",
            "Starting epoch 10 / 300\n"
          ]
        },
        {
          "output_type": "stream",
          "name": "stderr",
          "text": [
            "avg train loss: 0.5351: 100%|██████████| 1/1 [00:00<00:00, 24.38it/s]\n",
            "avg val loss: 0.5900: 100%|██████████| 1/1 [00:00<00:00, 99.82it/s]\n"
          ]
        },
        {
          "output_type": "stream",
          "name": "stdout",
          "text": [
            "---  Accuracy : 0.7777777910232544 \n",
            "\n",
            "\n",
            "best val loss 0.5906 -> 0.5900\n",
            "\n",
            "Starting epoch 11 / 300\n"
          ]
        },
        {
          "output_type": "stream",
          "name": "stderr",
          "text": [
            "avg train loss: 0.5343: 100%|██████████| 1/1 [00:00<00:00, 18.20it/s]\n",
            "avg val loss: 0.5893: 100%|██████████| 1/1 [00:00<00:00, 79.26it/s]\n"
          ]
        },
        {
          "output_type": "stream",
          "name": "stdout",
          "text": [
            "---  Accuracy : 0.7777777910232544 \n",
            "\n",
            "\n",
            "best val loss 0.5900 -> 0.5893\n",
            "\n",
            "Starting epoch 12 / 300\n"
          ]
        },
        {
          "output_type": "stream",
          "name": "stderr",
          "text": [
            "avg train loss: 0.5335: 100%|██████████| 1/1 [00:00<00:00, 29.88it/s]\n",
            "avg val loss: 0.5883: 100%|██████████| 1/1 [00:00<00:00, 122.25it/s]\n"
          ]
        },
        {
          "output_type": "stream",
          "name": "stdout",
          "text": [
            "---  Accuracy : 0.7777777910232544 \n",
            "\n",
            "\n",
            "best val loss 0.5893 -> 0.5883\n",
            "\n",
            "Starting epoch 13 / 300\n"
          ]
        },
        {
          "output_type": "stream",
          "name": "stderr",
          "text": [
            "avg train loss: 0.5327: 100%|██████████| 1/1 [00:00<00:00, 26.28it/s]\n",
            "avg val loss: 0.5873: 100%|██████████| 1/1 [00:00<00:00, 110.22it/s]\n"
          ]
        },
        {
          "output_type": "stream",
          "name": "stdout",
          "text": [
            "---  Accuracy : 0.7777777910232544 \n",
            "\n",
            "\n",
            "best val loss 0.5883 -> 0.5873\n",
            "\n",
            "Starting epoch 14 / 300\n"
          ]
        },
        {
          "output_type": "stream",
          "name": "stderr",
          "text": [
            "avg train loss: 0.5318: 100%|██████████| 1/1 [00:00<00:00, 25.05it/s]\n",
            "avg val loss: 0.5863: 100%|██████████| 1/1 [00:00<00:00, 91.38it/s]\n"
          ]
        },
        {
          "output_type": "stream",
          "name": "stdout",
          "text": [
            "---  Accuracy : 0.7777777910232544 \n",
            "\n",
            "\n",
            "best val loss 0.5873 -> 0.5863\n",
            "\n",
            "Starting epoch 15 / 300\n"
          ]
        },
        {
          "output_type": "stream",
          "name": "stderr",
          "text": [
            "avg train loss: 0.5308: 100%|██████████| 1/1 [00:00<00:00, 27.37it/s]\n",
            "avg val loss: 0.5853: 100%|██████████| 1/1 [00:00<00:00, 85.74it/s]\n"
          ]
        },
        {
          "output_type": "stream",
          "name": "stdout",
          "text": [
            "---  Accuracy : 0.7777777910232544 \n",
            "\n",
            "\n",
            "best val loss 0.5863 -> 0.5853\n",
            "\n",
            "Starting epoch 16 / 300\n"
          ]
        },
        {
          "output_type": "stream",
          "name": "stderr",
          "text": [
            "avg train loss: 0.5299: 100%|██████████| 1/1 [00:00<00:00, 28.72it/s]\n",
            "avg val loss: 0.5845: 100%|██████████| 1/1 [00:00<00:00, 102.37it/s]\n"
          ]
        },
        {
          "output_type": "stream",
          "name": "stdout",
          "text": [
            "---  Accuracy : 0.7777777910232544 \n",
            "\n",
            "\n",
            "best val loss 0.5853 -> 0.5845\n",
            "\n",
            "Starting epoch 17 / 300\n"
          ]
        },
        {
          "output_type": "stream",
          "name": "stderr",
          "text": [
            "avg train loss: 0.5289: 100%|██████████| 1/1 [00:00<00:00, 26.87it/s]\n",
            "avg val loss: 0.5838: 100%|██████████| 1/1 [00:00<00:00, 105.14it/s]\n"
          ]
        },
        {
          "output_type": "stream",
          "name": "stdout",
          "text": [
            "---  Accuracy : 0.7777777910232544 \n",
            "\n",
            "\n",
            "best val loss 0.5845 -> 0.5838\n",
            "\n",
            "Starting epoch 18 / 300\n"
          ]
        },
        {
          "output_type": "stream",
          "name": "stderr",
          "text": [
            "avg train loss: 0.5279: 100%|██████████| 1/1 [00:00<00:00, 29.26it/s]\n",
            "avg val loss: 0.5831: 100%|██████████| 1/1 [00:00<00:00, 157.38it/s]\n"
          ]
        },
        {
          "output_type": "stream",
          "name": "stdout",
          "text": [
            "---  Accuracy : 0.7777777910232544 \n",
            "\n",
            "\n",
            "best val loss 0.5838 -> 0.5831\n",
            "\n",
            "Starting epoch 19 / 300\n"
          ]
        },
        {
          "output_type": "stream",
          "name": "stderr",
          "text": [
            "avg train loss: 0.5269: 100%|██████████| 1/1 [00:00<00:00, 25.45it/s]\n",
            "avg val loss: 0.5825: 100%|██████████| 1/1 [00:00<00:00, 99.43it/s]\n"
          ]
        },
        {
          "output_type": "stream",
          "name": "stdout",
          "text": [
            "---  Accuracy : 0.7777777910232544 \n",
            "\n",
            "\n",
            "best val loss 0.5831 -> 0.5825\n",
            "\n",
            "Starting epoch 20 / 300\n"
          ]
        },
        {
          "output_type": "stream",
          "name": "stderr",
          "text": [
            "avg train loss: 0.5259: 100%|██████████| 1/1 [00:00<00:00, 27.53it/s]\n",
            "avg val loss: 0.5817: 100%|██████████| 1/1 [00:00<00:00, 104.32it/s]\n"
          ]
        },
        {
          "output_type": "stream",
          "name": "stdout",
          "text": [
            "---  Accuracy : 0.7777777910232544 \n",
            "\n",
            "\n",
            "best val loss 0.5825 -> 0.5817\n",
            "\n",
            "Starting epoch 21 / 300\n"
          ]
        },
        {
          "output_type": "stream",
          "name": "stderr",
          "text": [
            "avg train loss: 0.5248: 100%|██████████| 1/1 [00:00<00:00, 17.52it/s]\n",
            "avg val loss: 0.5808: 100%|██████████| 1/1 [00:00<00:00, 103.97it/s]\n"
          ]
        },
        {
          "output_type": "stream",
          "name": "stdout",
          "text": [
            "---  Accuracy : 0.7777777910232544 \n",
            "\n",
            "\n",
            "best val loss 0.5817 -> 0.5808\n",
            "\n",
            "Starting epoch 22 / 300\n"
          ]
        },
        {
          "output_type": "stream",
          "name": "stderr",
          "text": [
            "avg train loss: 0.5238: 100%|██████████| 1/1 [00:00<00:00, 33.48it/s]\n",
            "avg val loss: 0.5798: 100%|██████████| 1/1 [00:00<00:00, 128.89it/s]\n"
          ]
        },
        {
          "output_type": "stream",
          "name": "stdout",
          "text": [
            "---  Accuracy : 0.7777777910232544 \n",
            "\n",
            "\n",
            "best val loss 0.5808 -> 0.5798\n",
            "\n",
            "Starting epoch 23 / 300\n"
          ]
        },
        {
          "output_type": "stream",
          "name": "stderr",
          "text": [
            "avg train loss: 0.5227: 100%|██████████| 1/1 [00:00<00:00, 27.00it/s]\n",
            "avg val loss: 0.5788: 100%|██████████| 1/1 [00:00<00:00, 133.08it/s]\n"
          ]
        },
        {
          "output_type": "stream",
          "name": "stdout",
          "text": [
            "---  Accuracy : 0.7777777910232544 \n",
            "\n",
            "\n",
            "best val loss 0.5798 -> 0.5788\n",
            "\n",
            "Starting epoch 24 / 300\n"
          ]
        },
        {
          "output_type": "stream",
          "name": "stderr",
          "text": [
            "avg train loss: 0.5216: 100%|██████████| 1/1 [00:00<00:00, 29.15it/s]\n",
            "avg val loss: 0.5777: 100%|██████████| 1/1 [00:00<00:00, 109.83it/s]\n"
          ]
        },
        {
          "output_type": "stream",
          "name": "stdout",
          "text": [
            "---  Accuracy : 0.7777777910232544 \n",
            "\n",
            "\n",
            "best val loss 0.5788 -> 0.5777\n",
            "\n",
            "Starting epoch 25 / 300\n"
          ]
        },
        {
          "output_type": "stream",
          "name": "stderr",
          "text": [
            "avg train loss: 0.5205: 100%|██████████| 1/1 [00:00<00:00, 29.82it/s]\n",
            "avg val loss: 0.5767: 100%|██████████| 1/1 [00:00<00:00, 124.43it/s]\n"
          ]
        },
        {
          "output_type": "stream",
          "name": "stdout",
          "text": [
            "---  Accuracy : 0.7777777910232544 \n",
            "\n",
            "\n",
            "best val loss 0.5777 -> 0.5767\n",
            "\n",
            "Starting epoch 26 / 300\n"
          ]
        },
        {
          "output_type": "stream",
          "name": "stderr",
          "text": [
            "avg train loss: 0.5194: 100%|██████████| 1/1 [00:00<00:00, 23.73it/s]\n",
            "avg val loss: 0.5757: 100%|██████████| 1/1 [00:00<00:00, 118.87it/s]\n"
          ]
        },
        {
          "output_type": "stream",
          "name": "stdout",
          "text": [
            "---  Accuracy : 0.7777777910232544 \n",
            "\n",
            "\n",
            "best val loss 0.5767 -> 0.5757\n",
            "\n",
            "Starting epoch 27 / 300\n"
          ]
        },
        {
          "output_type": "stream",
          "name": "stderr",
          "text": [
            "avg train loss: 0.5183: 100%|██████████| 1/1 [00:00<00:00, 26.87it/s]\n",
            "avg val loss: 0.5748: 100%|██████████| 1/1 [00:00<00:00, 157.16it/s]\n"
          ]
        },
        {
          "output_type": "stream",
          "name": "stdout",
          "text": [
            "---  Accuracy : 0.7777777910232544 \n",
            "\n",
            "\n",
            "best val loss 0.5757 -> 0.5748\n",
            "\n",
            "Starting epoch 28 / 300\n"
          ]
        },
        {
          "output_type": "stream",
          "name": "stderr",
          "text": [
            "avg train loss: 0.5172: 100%|██████████| 1/1 [00:00<00:00, 22.24it/s]\n",
            "avg val loss: 0.5739: 100%|██████████| 1/1 [00:00<00:00, 76.37it/s]\n"
          ]
        },
        {
          "output_type": "stream",
          "name": "stdout",
          "text": [
            "---  Accuracy : 0.7777777910232544 \n",
            "\n",
            "\n",
            "best val loss 0.5748 -> 0.5739\n",
            "\n",
            "Starting epoch 29 / 300\n"
          ]
        },
        {
          "output_type": "stream",
          "name": "stderr",
          "text": [
            "avg train loss: 0.5161: 100%|██████████| 1/1 [00:00<00:00, 24.87it/s]\n",
            "avg val loss: 0.5731: 100%|██████████| 1/1 [00:00<00:00, 101.68it/s]\n"
          ]
        },
        {
          "output_type": "stream",
          "name": "stdout",
          "text": [
            "---  Accuracy : 0.7777777910232544 \n",
            "\n",
            "\n",
            "best val loss 0.5739 -> 0.5731\n",
            "\n",
            "Starting epoch 30 / 300\n"
          ]
        },
        {
          "output_type": "stream",
          "name": "stderr",
          "text": [
            "avg train loss: 0.5149: 100%|██████████| 1/1 [00:00<00:00, 25.05it/s]\n",
            "avg val loss: 0.5723: 100%|██████████| 1/1 [00:00<00:00, 148.23it/s]\n"
          ]
        },
        {
          "output_type": "stream",
          "name": "stdout",
          "text": [
            "---  Accuracy : 0.7777777910232544 \n",
            "\n",
            "\n",
            "best val loss 0.5731 -> 0.5723\n",
            "\n",
            "Starting epoch 31 / 300\n"
          ]
        },
        {
          "output_type": "stream",
          "name": "stderr",
          "text": [
            "avg train loss: 0.5138: 100%|██████████| 1/1 [00:00<00:00, 28.06it/s]\n",
            "avg val loss: 0.5714: 100%|██████████| 1/1 [00:00<00:00, 93.05it/s]\n"
          ]
        },
        {
          "output_type": "stream",
          "name": "stdout",
          "text": [
            "---  Accuracy : 0.7777777910232544 \n",
            "\n",
            "\n",
            "best val loss 0.5723 -> 0.5714\n",
            "\n",
            "Starting epoch 32 / 300\n"
          ]
        },
        {
          "output_type": "stream",
          "name": "stderr",
          "text": [
            "avg train loss: 0.5127: 100%|██████████| 1/1 [00:00<00:00, 23.31it/s]\n",
            "avg val loss: 0.5704: 100%|██████████| 1/1 [00:00<00:00, 77.58it/s]\n"
          ]
        },
        {
          "output_type": "stream",
          "name": "stdout",
          "text": [
            "---  Accuracy : 0.7777777910232544 \n",
            "\n",
            "\n",
            "best val loss 0.5714 -> 0.5704\n",
            "\n",
            "Starting epoch 33 / 300\n"
          ]
        },
        {
          "output_type": "stream",
          "name": "stderr",
          "text": [
            "avg train loss: 0.5115: 100%|██████████| 1/1 [00:00<00:00, 34.26it/s]\n",
            "avg val loss: 0.5694: 100%|██████████| 1/1 [00:00<00:00, 111.20it/s]\n"
          ]
        },
        {
          "output_type": "stream",
          "name": "stdout",
          "text": [
            "---  Accuracy : 0.7777777910232544 \n",
            "\n",
            "\n",
            "best val loss 0.5704 -> 0.5694\n",
            "\n",
            "Starting epoch 34 / 300\n"
          ]
        },
        {
          "output_type": "stream",
          "name": "stderr",
          "text": [
            "avg train loss: 0.5104: 100%|██████████| 1/1 [00:00<00:00, 27.16it/s]\n",
            "avg val loss: 0.5684: 100%|██████████| 1/1 [00:00<00:00, 112.97it/s]\n"
          ]
        },
        {
          "output_type": "stream",
          "name": "stdout",
          "text": [
            "---  Accuracy : 0.7777777910232544 \n",
            "\n",
            "\n",
            "best val loss 0.5694 -> 0.5684\n",
            "\n",
            "Starting epoch 35 / 300\n"
          ]
        },
        {
          "output_type": "stream",
          "name": "stderr",
          "text": [
            "avg train loss: 0.5092: 100%|██████████| 1/1 [00:00<00:00, 22.52it/s]\n",
            "avg val loss: 0.5674: 100%|██████████| 1/1 [00:00<00:00, 125.94it/s]\n"
          ]
        },
        {
          "output_type": "stream",
          "name": "stdout",
          "text": [
            "---  Accuracy : 0.7777777910232544 \n",
            "\n",
            "\n",
            "best val loss 0.5684 -> 0.5674\n",
            "\n",
            "Starting epoch 36 / 300\n"
          ]
        },
        {
          "output_type": "stream",
          "name": "stderr",
          "text": [
            "avg train loss: 0.5081: 100%|██████████| 1/1 [00:00<00:00, 36.55it/s]\n",
            "avg val loss: 0.5664: 100%|██████████| 1/1 [00:00<00:00, 125.17it/s]\n"
          ]
        },
        {
          "output_type": "stream",
          "name": "stdout",
          "text": [
            "---  Accuracy : 0.7777777910232544 \n",
            "\n",
            "\n",
            "best val loss 0.5674 -> 0.5664\n",
            "\n",
            "Starting epoch 37 / 300\n"
          ]
        },
        {
          "output_type": "stream",
          "name": "stderr",
          "text": [
            "avg train loss: 0.5069: 100%|██████████| 1/1 [00:00<00:00, 24.36it/s]\n",
            "avg val loss: 0.5654: 100%|██████████| 1/1 [00:00<00:00, 133.49it/s]\n"
          ]
        },
        {
          "output_type": "stream",
          "name": "stdout",
          "text": [
            "---  Accuracy : 0.7777777910232544 \n",
            "\n",
            "\n",
            "best val loss 0.5664 -> 0.5654\n",
            "\n",
            "Starting epoch 38 / 300\n"
          ]
        },
        {
          "output_type": "stream",
          "name": "stderr",
          "text": [
            "avg train loss: 0.5058: 100%|██████████| 1/1 [00:00<00:00, 27.66it/s]\n",
            "avg val loss: 0.5645: 100%|██████████| 1/1 [00:00<00:00, 75.71it/s]\n"
          ]
        },
        {
          "output_type": "stream",
          "name": "stdout",
          "text": [
            "---  Accuracy : 0.7777777910232544 \n",
            "\n",
            "\n",
            "best val loss 0.5654 -> 0.5645\n",
            "\n",
            "Starting epoch 39 / 300\n"
          ]
        },
        {
          "output_type": "stream",
          "name": "stderr",
          "text": [
            "avg train loss: 0.5047: 100%|██████████| 1/1 [00:00<00:00, 36.40it/s]\n",
            "avg val loss: 0.5636: 100%|██████████| 1/1 [00:00<00:00, 108.01it/s]\n"
          ]
        },
        {
          "output_type": "stream",
          "name": "stdout",
          "text": [
            "---  Accuracy : 0.7777777910232544 \n",
            "\n",
            "\n",
            "best val loss 0.5645 -> 0.5636\n",
            "\n",
            "Starting epoch 40 / 300\n"
          ]
        },
        {
          "output_type": "stream",
          "name": "stderr",
          "text": [
            "avg train loss: 0.5035: 100%|██████████| 1/1 [00:00<00:00, 28.66it/s]\n",
            "avg val loss: 0.5627: 100%|██████████| 1/1 [00:00<00:00, 97.44it/s]\n"
          ]
        },
        {
          "output_type": "stream",
          "name": "stdout",
          "text": [
            "---  Accuracy : 0.7777777910232544 \n",
            "\n",
            "\n",
            "best val loss 0.5636 -> 0.5627\n",
            "\n",
            "Starting epoch 41 / 300\n"
          ]
        },
        {
          "output_type": "stream",
          "name": "stderr",
          "text": [
            "avg train loss: 0.5023: 100%|██████████| 1/1 [00:00<00:00, 24.62it/s]\n",
            "avg val loss: 0.5618: 100%|██████████| 1/1 [00:00<00:00, 137.50it/s]\n"
          ]
        },
        {
          "output_type": "stream",
          "name": "stdout",
          "text": [
            "---  Accuracy : 0.7777777910232544 \n",
            "\n",
            "\n",
            "best val loss 0.5627 -> 0.5618\n",
            "\n",
            "Starting epoch 42 / 300\n"
          ]
        },
        {
          "output_type": "stream",
          "name": "stderr",
          "text": [
            "avg train loss: 0.5012: 100%|██████████| 1/1 [00:00<00:00, 28.68it/s]\n",
            "avg val loss: 0.5609: 100%|██████████| 1/1 [00:00<00:00, 99.58it/s]\n"
          ]
        },
        {
          "output_type": "stream",
          "name": "stdout",
          "text": [
            "---  Accuracy : 0.7777777910232544 \n",
            "\n",
            "\n",
            "best val loss 0.5618 -> 0.5609\n",
            "\n",
            "Starting epoch 43 / 300\n"
          ]
        },
        {
          "output_type": "stream",
          "name": "stderr",
          "text": [
            "avg train loss: 0.5000: 100%|██████████| 1/1 [00:00<00:00, 34.00it/s]\n",
            "avg val loss: 0.5600: 100%|██████████| 1/1 [00:00<00:00, 119.66it/s]\n"
          ]
        },
        {
          "output_type": "stream",
          "name": "stdout",
          "text": [
            "---  Accuracy : 0.7777777910232544 \n",
            "\n",
            "\n",
            "best val loss 0.5609 -> 0.5600\n",
            "\n",
            "Starting epoch 44 / 300\n"
          ]
        },
        {
          "output_type": "stream",
          "name": "stderr",
          "text": [
            "avg train loss: 0.4989: 100%|██████████| 1/1 [00:00<00:00, 21.50it/s]\n",
            "avg val loss: 0.5590: 100%|██████████| 1/1 [00:00<00:00, 77.63it/s]\n"
          ]
        },
        {
          "output_type": "stream",
          "name": "stdout",
          "text": [
            "---  Accuracy : 0.7777777910232544 \n",
            "\n",
            "\n",
            "best val loss 0.5600 -> 0.5590\n",
            "\n",
            "Starting epoch 45 / 300\n"
          ]
        },
        {
          "output_type": "stream",
          "name": "stderr",
          "text": [
            "avg train loss: 0.4977: 100%|██████████| 1/1 [00:00<00:00, 35.44it/s]\n",
            "avg val loss: 0.5580: 100%|██████████| 1/1 [00:00<00:00, 111.12it/s]\n"
          ]
        },
        {
          "output_type": "stream",
          "name": "stdout",
          "text": [
            "---  Accuracy : 0.7777777910232544 \n",
            "\n",
            "\n",
            "best val loss 0.5590 -> 0.5580\n",
            "\n",
            "Starting epoch 46 / 300\n"
          ]
        },
        {
          "output_type": "stream",
          "name": "stderr",
          "text": [
            "avg train loss: 0.4966: 100%|██████████| 1/1 [00:00<00:00, 27.59it/s]\n",
            "avg val loss: 0.5570: 100%|██████████| 1/1 [00:00<00:00, 92.74it/s]\n"
          ]
        },
        {
          "output_type": "stream",
          "name": "stdout",
          "text": [
            "---  Accuracy : 0.7777777910232544 \n",
            "\n",
            "\n",
            "best val loss 0.5580 -> 0.5570\n",
            "\n",
            "Starting epoch 47 / 300\n"
          ]
        },
        {
          "output_type": "stream",
          "name": "stderr",
          "text": [
            "avg train loss: 0.4954: 100%|██████████| 1/1 [00:00<00:00, 28.71it/s]\n",
            "avg val loss: 0.5561: 100%|██████████| 1/1 [00:00<00:00, 95.82it/s]\n"
          ]
        },
        {
          "output_type": "stream",
          "name": "stdout",
          "text": [
            "---  Accuracy : 0.7777777910232544 \n",
            "\n",
            "\n",
            "best val loss 0.5570 -> 0.5561\n",
            "\n",
            "Starting epoch 48 / 300\n"
          ]
        },
        {
          "output_type": "stream",
          "name": "stderr",
          "text": [
            "avg train loss: 0.4943: 100%|██████████| 1/1 [00:00<00:00, 28.58it/s]\n",
            "avg val loss: 0.5551: 100%|██████████| 1/1 [00:00<00:00, 136.12it/s]\n"
          ]
        },
        {
          "output_type": "stream",
          "name": "stdout",
          "text": [
            "---  Accuracy : 0.7777777910232544 \n",
            "\n",
            "\n",
            "best val loss 0.5561 -> 0.5551\n",
            "\n",
            "Starting epoch 49 / 300\n"
          ]
        },
        {
          "output_type": "stream",
          "name": "stderr",
          "text": [
            "avg train loss: 0.4931: 100%|██████████| 1/1 [00:00<00:00, 28.40it/s]\n",
            "avg val loss: 0.5542: 100%|██████████| 1/1 [00:00<00:00, 135.52it/s]\n"
          ]
        },
        {
          "output_type": "stream",
          "name": "stdout",
          "text": [
            "---  Accuracy : 0.7777777910232544 \n",
            "\n",
            "\n",
            "best val loss 0.5551 -> 0.5542\n",
            "\n",
            "Starting epoch 50 / 300\n"
          ]
        },
        {
          "output_type": "stream",
          "name": "stderr",
          "text": [
            "avg train loss: 0.4920: 100%|██████████| 1/1 [00:00<00:00, 25.51it/s]\n",
            "avg val loss: 0.5533: 100%|██████████| 1/1 [00:00<00:00, 128.55it/s]\n"
          ]
        },
        {
          "output_type": "stream",
          "name": "stdout",
          "text": [
            "---  Accuracy : 0.7777777910232544 \n",
            "\n",
            "\n",
            "best val loss 0.5542 -> 0.5533\n",
            "\n",
            "Starting epoch 51 / 300\n"
          ]
        },
        {
          "output_type": "stream",
          "name": "stderr",
          "text": [
            "avg train loss: 0.4908: 100%|██████████| 1/1 [00:00<00:00, 28.38it/s]\n",
            "avg val loss: 0.5524: 100%|██████████| 1/1 [00:00<00:00, 132.84it/s]\n"
          ]
        },
        {
          "output_type": "stream",
          "name": "stdout",
          "text": [
            "---  Accuracy : 0.7777777910232544 \n",
            "\n",
            "\n",
            "best val loss 0.5533 -> 0.5524\n",
            "\n",
            "Starting epoch 52 / 300\n"
          ]
        },
        {
          "output_type": "stream",
          "name": "stderr",
          "text": [
            "avg train loss: 0.4897: 100%|██████████| 1/1 [00:00<00:00, 26.33it/s]\n",
            "avg val loss: 0.5515: 100%|██████████| 1/1 [00:00<00:00, 114.60it/s]\n"
          ]
        },
        {
          "output_type": "stream",
          "name": "stdout",
          "text": [
            "---  Accuracy : 0.7777777910232544 \n",
            "\n",
            "\n",
            "best val loss 0.5524 -> 0.5515\n",
            "\n",
            "Starting epoch 53 / 300\n"
          ]
        },
        {
          "output_type": "stream",
          "name": "stderr",
          "text": [
            "avg train loss: 0.4885: 100%|██████████| 1/1 [00:00<00:00, 26.08it/s]\n",
            "avg val loss: 0.5505: 100%|██████████| 1/1 [00:00<00:00, 100.98it/s]\n"
          ]
        },
        {
          "output_type": "stream",
          "name": "stdout",
          "text": [
            "---  Accuracy : 0.7777777910232544 \n",
            "\n",
            "\n",
            "best val loss 0.5515 -> 0.5505\n",
            "\n",
            "Starting epoch 54 / 300\n"
          ]
        },
        {
          "output_type": "stream",
          "name": "stderr",
          "text": [
            "avg train loss: 0.4874: 100%|██████████| 1/1 [00:00<00:00, 30.25it/s]\n",
            "avg val loss: 0.5496: 100%|██████████| 1/1 [00:00<00:00, 93.32it/s]\n"
          ]
        },
        {
          "output_type": "stream",
          "name": "stdout",
          "text": [
            "---  Accuracy : 0.7777777910232544 \n",
            "\n",
            "\n",
            "best val loss 0.5505 -> 0.5496\n",
            "\n",
            "Starting epoch 55 / 300\n"
          ]
        },
        {
          "output_type": "stream",
          "name": "stderr",
          "text": [
            "avg train loss: 0.4862: 100%|██████████| 1/1 [00:00<00:00, 27.31it/s]\n",
            "avg val loss: 0.5486: 100%|██████████| 1/1 [00:00<00:00, 106.80it/s]\n"
          ]
        },
        {
          "output_type": "stream",
          "name": "stdout",
          "text": [
            "---  Accuracy : 0.7777777910232544 \n",
            "\n",
            "\n",
            "best val loss 0.5496 -> 0.5486\n",
            "\n",
            "Starting epoch 56 / 300\n"
          ]
        },
        {
          "output_type": "stream",
          "name": "stderr",
          "text": [
            "avg train loss: 0.4851: 100%|██████████| 1/1 [00:00<00:00, 19.68it/s]\n",
            "avg val loss: 0.5476: 100%|██████████| 1/1 [00:00<00:00, 114.69it/s]\n"
          ]
        },
        {
          "output_type": "stream",
          "name": "stdout",
          "text": [
            "---  Accuracy : 0.7777777910232544 \n",
            "\n",
            "\n",
            "best val loss 0.5486 -> 0.5476\n",
            "\n",
            "Starting epoch 57 / 300\n"
          ]
        },
        {
          "output_type": "stream",
          "name": "stderr",
          "text": [
            "avg train loss: 0.4839: 100%|██████████| 1/1 [00:00<00:00, 24.95it/s]\n",
            "avg val loss: 0.5467: 100%|██████████| 1/1 [00:00<00:00, 125.94it/s]\n"
          ]
        },
        {
          "output_type": "stream",
          "name": "stdout",
          "text": [
            "---  Accuracy : 0.7777777910232544 \n",
            "\n",
            "\n",
            "best val loss 0.5476 -> 0.5467\n",
            "\n",
            "Starting epoch 58 / 300\n"
          ]
        },
        {
          "output_type": "stream",
          "name": "stderr",
          "text": [
            "avg train loss: 0.4828: 100%|██████████| 1/1 [00:00<00:00, 25.11it/s]\n",
            "avg val loss: 0.5457: 100%|██████████| 1/1 [00:00<00:00, 91.36it/s]\n"
          ]
        },
        {
          "output_type": "stream",
          "name": "stdout",
          "text": [
            "---  Accuracy : 0.7777777910232544 \n",
            "\n",
            "\n",
            "best val loss 0.5467 -> 0.5457\n",
            "\n",
            "Starting epoch 59 / 300\n"
          ]
        },
        {
          "output_type": "stream",
          "name": "stderr",
          "text": [
            "avg train loss: 0.4816: 100%|██████████| 1/1 [00:00<00:00, 23.40it/s]\n",
            "avg val loss: 0.5448: 100%|██████████| 1/1 [00:00<00:00, 91.39it/s]\n"
          ]
        },
        {
          "output_type": "stream",
          "name": "stdout",
          "text": [
            "---  Accuracy : 0.7777777910232544 \n",
            "\n",
            "\n",
            "best val loss 0.5457 -> 0.5448\n",
            "\n",
            "Starting epoch 60 / 300\n"
          ]
        },
        {
          "output_type": "stream",
          "name": "stderr",
          "text": [
            "avg train loss: 0.4805: 100%|██████████| 1/1 [00:00<00:00, 26.28it/s]\n",
            "avg val loss: 0.5439: 100%|██████████| 1/1 [00:00<00:00, 117.49it/s]\n"
          ]
        },
        {
          "output_type": "stream",
          "name": "stdout",
          "text": [
            "---  Accuracy : 0.7777777910232544 \n",
            "\n",
            "\n",
            "best val loss 0.5448 -> 0.5439\n",
            "\n",
            "Starting epoch 61 / 300\n"
          ]
        },
        {
          "output_type": "stream",
          "name": "stderr",
          "text": [
            "avg train loss: 0.4793: 100%|██████████| 1/1 [00:00<00:00, 24.98it/s]\n",
            "avg val loss: 0.5429: 100%|██████████| 1/1 [00:00<00:00, 125.21it/s]\n"
          ]
        },
        {
          "output_type": "stream",
          "name": "stdout",
          "text": [
            "---  Accuracy : 0.7777777910232544 \n",
            "\n",
            "\n",
            "best val loss 0.5439 -> 0.5429\n",
            "\n",
            "Starting epoch 62 / 300\n"
          ]
        },
        {
          "output_type": "stream",
          "name": "stderr",
          "text": [
            "avg train loss: 0.4782: 100%|██████████| 1/1 [00:00<00:00, 28.00it/s]\n",
            "avg val loss: 0.5420: 100%|██████████| 1/1 [00:00<00:00, 101.38it/s]\n"
          ]
        },
        {
          "output_type": "stream",
          "name": "stdout",
          "text": [
            "---  Accuracy : 0.7777777910232544 \n",
            "\n",
            "\n",
            "best val loss 0.5429 -> 0.5420\n",
            "\n",
            "Starting epoch 63 / 300\n"
          ]
        },
        {
          "output_type": "stream",
          "name": "stderr",
          "text": [
            "avg train loss: 0.4770: 100%|██████████| 1/1 [00:00<00:00, 23.66it/s]\n",
            "avg val loss: 0.5411: 100%|██████████| 1/1 [00:00<00:00, 113.88it/s]\n"
          ]
        },
        {
          "output_type": "stream",
          "name": "stdout",
          "text": [
            "---  Accuracy : 0.7777777910232544 \n",
            "\n",
            "\n",
            "best val loss 0.5420 -> 0.5411\n",
            "\n",
            "Starting epoch 64 / 300\n"
          ]
        },
        {
          "output_type": "stream",
          "name": "stderr",
          "text": [
            "avg train loss: 0.4759: 100%|██████████| 1/1 [00:00<00:00, 21.41it/s]\n",
            "avg val loss: 0.5401: 100%|██████████| 1/1 [00:00<00:00, 155.18it/s]\n"
          ]
        },
        {
          "output_type": "stream",
          "name": "stdout",
          "text": [
            "---  Accuracy : 0.7777777910232544 \n",
            "\n",
            "\n",
            "best val loss 0.5411 -> 0.5401\n",
            "\n",
            "Starting epoch 65 / 300\n"
          ]
        },
        {
          "output_type": "stream",
          "name": "stderr",
          "text": [
            "avg train loss: 0.4747: 100%|██████████| 1/1 [00:00<00:00, 22.08it/s]\n",
            "avg val loss: 0.5392: 100%|██████████| 1/1 [00:00<00:00, 126.95it/s]\n"
          ]
        },
        {
          "output_type": "stream",
          "name": "stdout",
          "text": [
            "---  Accuracy : 0.7777777910232544 \n",
            "\n",
            "\n",
            "best val loss 0.5401 -> 0.5392\n",
            "\n",
            "Starting epoch 66 / 300\n"
          ]
        },
        {
          "output_type": "stream",
          "name": "stderr",
          "text": [
            "avg train loss: 0.4736: 100%|██████████| 1/1 [00:00<00:00, 22.35it/s]\n",
            "avg val loss: 0.5382: 100%|██████████| 1/1 [00:00<00:00, 117.55it/s]\n"
          ]
        },
        {
          "output_type": "stream",
          "name": "stdout",
          "text": [
            "---  Accuracy : 0.7777777910232544 \n",
            "\n",
            "\n",
            "best val loss 0.5392 -> 0.5382\n",
            "\n",
            "Starting epoch 67 / 300\n"
          ]
        },
        {
          "output_type": "stream",
          "name": "stderr",
          "text": [
            "avg train loss: 0.4725: 100%|██████████| 1/1 [00:00<00:00, 22.09it/s]\n",
            "avg val loss: 0.5373: 100%|██████████| 1/1 [00:00<00:00, 83.40it/s]\n"
          ]
        },
        {
          "output_type": "stream",
          "name": "stdout",
          "text": [
            "---  Accuracy : 0.7777777910232544 \n",
            "\n",
            "\n",
            "best val loss 0.5382 -> 0.5373\n",
            "\n",
            "Starting epoch 68 / 300\n"
          ]
        },
        {
          "output_type": "stream",
          "name": "stderr",
          "text": [
            "avg train loss: 0.4713: 100%|██████████| 1/1 [00:00<00:00, 21.74it/s]\n",
            "avg val loss: 0.5363: 100%|██████████| 1/1 [00:00<00:00, 98.72it/s]\n"
          ]
        },
        {
          "output_type": "stream",
          "name": "stdout",
          "text": [
            "---  Accuracy : 0.7777777910232544 \n",
            "\n",
            "\n",
            "best val loss 0.5373 -> 0.5363\n",
            "\n",
            "Starting epoch 69 / 300\n"
          ]
        },
        {
          "output_type": "stream",
          "name": "stderr",
          "text": [
            "avg train loss: 0.4702: 100%|██████████| 1/1 [00:00<00:00, 20.97it/s]\n",
            "avg val loss: 0.5354: 100%|██████████| 1/1 [00:00<00:00, 110.07it/s]\n"
          ]
        },
        {
          "output_type": "stream",
          "name": "stdout",
          "text": [
            "---  Accuracy : 0.7777777910232544 \n",
            "\n",
            "\n",
            "best val loss 0.5363 -> 0.5354\n",
            "\n",
            "Starting epoch 70 / 300\n"
          ]
        },
        {
          "output_type": "stream",
          "name": "stderr",
          "text": [
            "avg train loss: 0.4690: 100%|██████████| 1/1 [00:00<00:00, 19.21it/s]\n",
            "avg val loss: 0.5345: 100%|██████████| 1/1 [00:00<00:00, 107.58it/s]\n"
          ]
        },
        {
          "output_type": "stream",
          "name": "stdout",
          "text": [
            "---  Accuracy : 0.7777777910232544 \n",
            "\n",
            "\n",
            "best val loss 0.5354 -> 0.5345\n",
            "\n",
            "Starting epoch 71 / 300\n"
          ]
        },
        {
          "output_type": "stream",
          "name": "stderr",
          "text": [
            "avg train loss: 0.4679: 100%|██████████| 1/1 [00:00<00:00, 24.01it/s]\n",
            "avg val loss: 0.5335: 100%|██████████| 1/1 [00:00<00:00, 70.11it/s]\n"
          ]
        },
        {
          "output_type": "stream",
          "name": "stdout",
          "text": [
            "---  Accuracy : 0.7777777910232544 \n",
            "\n",
            "\n",
            "best val loss 0.5345 -> 0.5335\n",
            "\n",
            "Starting epoch 72 / 300\n"
          ]
        },
        {
          "output_type": "stream",
          "name": "stderr",
          "text": [
            "avg train loss: 0.4667: 100%|██████████| 1/1 [00:00<00:00, 22.66it/s]\n",
            "avg val loss: 0.5326: 100%|██████████| 1/1 [00:00<00:00, 105.87it/s]\n"
          ]
        },
        {
          "output_type": "stream",
          "name": "stdout",
          "text": [
            "---  Accuracy : 0.7777777910232544 \n",
            "\n",
            "\n",
            "best val loss 0.5335 -> 0.5326\n",
            "\n",
            "Starting epoch 73 / 300\n"
          ]
        },
        {
          "output_type": "stream",
          "name": "stderr",
          "text": [
            "avg train loss: 0.4656: 100%|██████████| 1/1 [00:00<00:00, 23.60it/s]\n",
            "avg val loss: 0.5317: 100%|██████████| 1/1 [00:00<00:00, 122.69it/s]\n"
          ]
        },
        {
          "output_type": "stream",
          "name": "stdout",
          "text": [
            "---  Accuracy : 0.7777777910232544 \n",
            "\n",
            "\n",
            "best val loss 0.5326 -> 0.5317\n",
            "\n",
            "Starting epoch 74 / 300\n"
          ]
        },
        {
          "output_type": "stream",
          "name": "stderr",
          "text": [
            "avg train loss: 0.4644: 100%|██████████| 1/1 [00:00<00:00, 27.29it/s]\n",
            "avg val loss: 0.5308: 100%|██████████| 1/1 [00:00<00:00, 130.49it/s]\n"
          ]
        },
        {
          "output_type": "stream",
          "name": "stdout",
          "text": [
            "---  Accuracy : 0.7777777910232544 \n",
            "\n",
            "\n",
            "best val loss 0.5317 -> 0.5308\n",
            "\n",
            "Starting epoch 75 / 300\n"
          ]
        },
        {
          "output_type": "stream",
          "name": "stderr",
          "text": [
            "avg train loss: 0.4633: 100%|██████████| 1/1 [00:00<00:00, 26.43it/s]\n",
            "avg val loss: 0.5298: 100%|██████████| 1/1 [00:00<00:00, 124.36it/s]\n"
          ]
        },
        {
          "output_type": "stream",
          "name": "stdout",
          "text": [
            "---  Accuracy : 0.7777777910232544 \n",
            "\n",
            "\n",
            "best val loss 0.5308 -> 0.5298\n",
            "\n",
            "Starting epoch 76 / 300\n"
          ]
        },
        {
          "output_type": "stream",
          "name": "stderr",
          "text": [
            "avg train loss: 0.4621: 100%|██████████| 1/1 [00:00<00:00, 23.68it/s]\n",
            "avg val loss: 0.5289: 100%|██████████| 1/1 [00:00<00:00, 103.72it/s]\n"
          ]
        },
        {
          "output_type": "stream",
          "name": "stdout",
          "text": [
            "---  Accuracy : 0.7777777910232544 \n",
            "\n",
            "\n",
            "best val loss 0.5298 -> 0.5289\n",
            "\n",
            "Starting epoch 77 / 300\n"
          ]
        },
        {
          "output_type": "stream",
          "name": "stderr",
          "text": [
            "avg train loss: 0.4610: 100%|██████████| 1/1 [00:00<00:00, 28.01it/s]\n",
            "avg val loss: 0.5280: 100%|██████████| 1/1 [00:00<00:00, 130.92it/s]\n"
          ]
        },
        {
          "output_type": "stream",
          "name": "stdout",
          "text": [
            "---  Accuracy : 0.7777777910232544 \n",
            "\n",
            "\n",
            "best val loss 0.5289 -> 0.5280\n",
            "\n",
            "Starting epoch 78 / 300\n"
          ]
        },
        {
          "output_type": "stream",
          "name": "stderr",
          "text": [
            "avg train loss: 0.4598: 100%|██████████| 1/1 [00:00<00:00, 24.77it/s]\n",
            "avg val loss: 0.5271: 100%|██████████| 1/1 [00:00<00:00, 120.13it/s]\n"
          ]
        },
        {
          "output_type": "stream",
          "name": "stdout",
          "text": [
            "---  Accuracy : 0.7777777910232544 \n",
            "\n",
            "\n",
            "best val loss 0.5280 -> 0.5271\n",
            "\n",
            "Starting epoch 79 / 300\n"
          ]
        },
        {
          "output_type": "stream",
          "name": "stderr",
          "text": [
            "avg train loss: 0.4587: 100%|██████████| 1/1 [00:00<00:00, 22.24it/s]\n",
            "avg val loss: 0.5261: 100%|██████████| 1/1 [00:00<00:00, 143.35it/s]\n"
          ]
        },
        {
          "output_type": "stream",
          "name": "stdout",
          "text": [
            "---  Accuracy : 0.7777777910232544 \n",
            "\n",
            "\n",
            "best val loss 0.5271 -> 0.5261\n",
            "\n",
            "Starting epoch 80 / 300\n"
          ]
        },
        {
          "output_type": "stream",
          "name": "stderr",
          "text": [
            "avg train loss: 0.4575: 100%|██████████| 1/1 [00:00<00:00, 27.57it/s]\n",
            "avg val loss: 0.5252: 100%|██████████| 1/1 [00:00<00:00, 127.71it/s]\n"
          ]
        },
        {
          "output_type": "stream",
          "name": "stdout",
          "text": [
            "---  Accuracy : 0.7777777910232544 \n",
            "\n",
            "\n",
            "best val loss 0.5261 -> 0.5252\n",
            "\n",
            "Starting epoch 81 / 300\n"
          ]
        },
        {
          "output_type": "stream",
          "name": "stderr",
          "text": [
            "avg train loss: 0.4564: 100%|██████████| 1/1 [00:00<00:00, 24.56it/s]\n",
            "avg val loss: 0.5243: 100%|██████████| 1/1 [00:00<00:00, 134.94it/s]\n"
          ]
        },
        {
          "output_type": "stream",
          "name": "stdout",
          "text": [
            "---  Accuracy : 0.7777777910232544 \n",
            "\n",
            "\n",
            "best val loss 0.5252 -> 0.5243\n",
            "\n",
            "Starting epoch 82 / 300\n"
          ]
        },
        {
          "output_type": "stream",
          "name": "stderr",
          "text": [
            "avg train loss: 0.4552: 100%|██████████| 1/1 [00:00<00:00, 24.21it/s]\n",
            "avg val loss: 0.5234: 100%|██████████| 1/1 [00:00<00:00, 122.05it/s]\n"
          ]
        },
        {
          "output_type": "stream",
          "name": "stdout",
          "text": [
            "---  Accuracy : 0.7777777910232544 \n",
            "\n",
            "\n",
            "best val loss 0.5243 -> 0.5234\n",
            "\n",
            "Starting epoch 83 / 300\n"
          ]
        },
        {
          "output_type": "stream",
          "name": "stderr",
          "text": [
            "avg train loss: 0.4541: 100%|██████████| 1/1 [00:00<00:00, 25.21it/s]\n",
            "avg val loss: 0.5225: 100%|██████████| 1/1 [00:00<00:00, 135.92it/s]\n"
          ]
        },
        {
          "output_type": "stream",
          "name": "stdout",
          "text": [
            "---  Accuracy : 0.7777777910232544 \n",
            "\n",
            "\n",
            "best val loss 0.5234 -> 0.5225\n",
            "\n",
            "Starting epoch 84 / 300\n"
          ]
        },
        {
          "output_type": "stream",
          "name": "stderr",
          "text": [
            "avg train loss: 0.4529: 100%|██████████| 1/1 [00:00<00:00, 27.94it/s]\n",
            "avg val loss: 0.5216: 100%|██████████| 1/1 [00:00<00:00, 115.91it/s]\n"
          ]
        },
        {
          "output_type": "stream",
          "name": "stdout",
          "text": [
            "---  Accuracy : 0.7777777910232544 \n",
            "\n",
            "\n",
            "best val loss 0.5225 -> 0.5216\n",
            "\n",
            "Starting epoch 85 / 300\n"
          ]
        },
        {
          "output_type": "stream",
          "name": "stderr",
          "text": [
            "avg train loss: 0.4518: 100%|██████████| 1/1 [00:00<00:00, 21.70it/s]\n",
            "avg val loss: 0.5207: 100%|██████████| 1/1 [00:00<00:00, 116.61it/s]\n"
          ]
        },
        {
          "output_type": "stream",
          "name": "stdout",
          "text": [
            "---  Accuracy : 0.7777777910232544 \n",
            "\n",
            "\n",
            "best val loss 0.5216 -> 0.5207\n",
            "\n",
            "Starting epoch 86 / 300\n"
          ]
        },
        {
          "output_type": "stream",
          "name": "stderr",
          "text": [
            "avg train loss: 0.4506: 100%|██████████| 1/1 [00:00<00:00, 27.94it/s]\n",
            "avg val loss: 0.5198: 100%|██████████| 1/1 [00:00<00:00, 118.17it/s]\n"
          ]
        },
        {
          "output_type": "stream",
          "name": "stdout",
          "text": [
            "---  Accuracy : 0.7777777910232544 \n",
            "\n",
            "\n",
            "best val loss 0.5207 -> 0.5198\n",
            "\n",
            "Starting epoch 87 / 300\n"
          ]
        },
        {
          "output_type": "stream",
          "name": "stderr",
          "text": [
            "avg train loss: 0.4495: 100%|██████████| 1/1 [00:00<00:00, 24.53it/s]\n",
            "avg val loss: 0.5189: 100%|██████████| 1/1 [00:00<00:00, 108.88it/s]\n"
          ]
        },
        {
          "output_type": "stream",
          "name": "stdout",
          "text": [
            "---  Accuracy : 0.7777777910232544 \n",
            "\n",
            "\n",
            "best val loss 0.5198 -> 0.5189\n",
            "\n",
            "Starting epoch 88 / 300\n"
          ]
        },
        {
          "output_type": "stream",
          "name": "stderr",
          "text": [
            "avg train loss: 0.4483: 100%|██████████| 1/1 [00:00<00:00, 20.06it/s]\n",
            "avg val loss: 0.5179: 100%|██████████| 1/1 [00:00<00:00, 118.82it/s]\n"
          ]
        },
        {
          "output_type": "stream",
          "name": "stdout",
          "text": [
            "---  Accuracy : 0.7777777910232544 \n",
            "\n",
            "\n",
            "best val loss 0.5189 -> 0.5179\n",
            "\n",
            "Starting epoch 89 / 300\n"
          ]
        },
        {
          "output_type": "stream",
          "name": "stderr",
          "text": [
            "avg train loss: 0.4472: 100%|██████████| 1/1 [00:00<00:00, 22.85it/s]\n",
            "avg val loss: 0.5170: 100%|██████████| 1/1 [00:00<00:00, 114.45it/s]\n"
          ]
        },
        {
          "output_type": "stream",
          "name": "stdout",
          "text": [
            "---  Accuracy : 0.7777777910232544 \n",
            "\n",
            "\n",
            "best val loss 0.5179 -> 0.5170\n",
            "\n",
            "Starting epoch 90 / 300\n"
          ]
        },
        {
          "output_type": "stream",
          "name": "stderr",
          "text": [
            "avg train loss: 0.4460: 100%|██████████| 1/1 [00:00<00:00, 24.99it/s]\n",
            "avg val loss: 0.5161: 100%|██████████| 1/1 [00:00<00:00, 129.11it/s]\n"
          ]
        },
        {
          "output_type": "stream",
          "name": "stdout",
          "text": [
            "---  Accuracy : 0.7777777910232544 \n",
            "\n",
            "\n",
            "best val loss 0.5170 -> 0.5161\n",
            "\n",
            "Starting epoch 91 / 300\n"
          ]
        },
        {
          "output_type": "stream",
          "name": "stderr",
          "text": [
            "avg train loss: 0.4449: 100%|██████████| 1/1 [00:00<00:00, 22.53it/s]\n",
            "avg val loss: 0.5152: 100%|██████████| 1/1 [00:00<00:00, 114.65it/s]\n"
          ]
        },
        {
          "output_type": "stream",
          "name": "stdout",
          "text": [
            "---  Accuracy : 0.7777777910232544 \n",
            "\n",
            "\n",
            "best val loss 0.5161 -> 0.5152\n",
            "\n",
            "Starting epoch 92 / 300\n"
          ]
        },
        {
          "output_type": "stream",
          "name": "stderr",
          "text": [
            "avg train loss: 0.4437: 100%|██████████| 1/1 [00:00<00:00, 23.09it/s]\n",
            "avg val loss: 0.5143: 100%|██████████| 1/1 [00:00<00:00, 120.60it/s]\n"
          ]
        },
        {
          "output_type": "stream",
          "name": "stdout",
          "text": [
            "---  Accuracy : 0.7777777910232544 \n",
            "\n",
            "\n",
            "best val loss 0.5152 -> 0.5143\n",
            "\n",
            "Starting epoch 93 / 300\n"
          ]
        },
        {
          "output_type": "stream",
          "name": "stderr",
          "text": [
            "avg train loss: 0.4426: 100%|██████████| 1/1 [00:00<00:00, 26.33it/s]\n",
            "avg val loss: 0.5134: 100%|██████████| 1/1 [00:00<00:00, 125.23it/s]\n"
          ]
        },
        {
          "output_type": "stream",
          "name": "stdout",
          "text": [
            "---  Accuracy : 0.7777777910232544 \n",
            "\n",
            "\n",
            "best val loss 0.5143 -> 0.5134\n",
            "\n",
            "Starting epoch 94 / 300\n"
          ]
        },
        {
          "output_type": "stream",
          "name": "stderr",
          "text": [
            "avg train loss: 0.4414: 100%|██████████| 1/1 [00:00<00:00, 24.70it/s]\n",
            "avg val loss: 0.5125: 100%|██████████| 1/1 [00:00<00:00, 156.77it/s]\n"
          ]
        },
        {
          "output_type": "stream",
          "name": "stdout",
          "text": [
            "---  Accuracy : 0.7777777910232544 \n",
            "\n",
            "\n",
            "best val loss 0.5134 -> 0.5125\n",
            "\n",
            "Starting epoch 95 / 300\n"
          ]
        },
        {
          "output_type": "stream",
          "name": "stderr",
          "text": [
            "avg train loss: 0.4402: 100%|██████████| 1/1 [00:00<00:00, 24.49it/s]\n",
            "avg val loss: 0.5117: 100%|██████████| 1/1 [00:00<00:00, 128.87it/s]\n"
          ]
        },
        {
          "output_type": "stream",
          "name": "stdout",
          "text": [
            "---  Accuracy : 0.7777777910232544 \n",
            "\n",
            "\n",
            "best val loss 0.5125 -> 0.5117\n",
            "\n",
            "Starting epoch 96 / 300\n"
          ]
        },
        {
          "output_type": "stream",
          "name": "stderr",
          "text": [
            "avg train loss: 0.4391: 100%|██████████| 1/1 [00:00<00:00, 24.34it/s]\n",
            "avg val loss: 0.5108: 100%|██████████| 1/1 [00:00<00:00, 131.64it/s]\n"
          ]
        },
        {
          "output_type": "stream",
          "name": "stdout",
          "text": [
            "---  Accuracy : 0.7777777910232544 \n",
            "\n",
            "\n",
            "best val loss 0.5117 -> 0.5108\n",
            "\n",
            "Starting epoch 97 / 300\n"
          ]
        },
        {
          "output_type": "stream",
          "name": "stderr",
          "text": [
            "avg train loss: 0.4379: 100%|██████████| 1/1 [00:00<00:00, 24.56it/s]\n",
            "avg val loss: 0.5099: 100%|██████████| 1/1 [00:00<00:00, 120.44it/s]\n"
          ]
        },
        {
          "output_type": "stream",
          "name": "stdout",
          "text": [
            "---  Accuracy : 0.7777777910232544 \n",
            "\n",
            "\n",
            "best val loss 0.5108 -> 0.5099\n",
            "\n",
            "Starting epoch 98 / 300\n"
          ]
        },
        {
          "output_type": "stream",
          "name": "stderr",
          "text": [
            "avg train loss: 0.4368: 100%|██████████| 1/1 [00:00<00:00, 25.24it/s]\n",
            "avg val loss: 0.5090: 100%|██████████| 1/1 [00:00<00:00, 122.44it/s]\n"
          ]
        },
        {
          "output_type": "stream",
          "name": "stdout",
          "text": [
            "---  Accuracy : 0.7777777910232544 \n",
            "\n",
            "\n",
            "best val loss 0.5099 -> 0.5090\n",
            "\n",
            "Starting epoch 99 / 300\n"
          ]
        },
        {
          "output_type": "stream",
          "name": "stderr",
          "text": [
            "avg train loss: 0.4356: 100%|██████████| 1/1 [00:00<00:00, 25.85it/s]\n",
            "avg val loss: 0.5081: 100%|██████████| 1/1 [00:00<00:00, 98.18it/s]\n"
          ]
        },
        {
          "output_type": "stream",
          "name": "stdout",
          "text": [
            "---  Accuracy : 0.7777777910232544 \n",
            "\n",
            "\n",
            "best val loss 0.5090 -> 0.5081\n",
            "\n",
            "Starting epoch 100 / 300\n"
          ]
        },
        {
          "output_type": "stream",
          "name": "stderr",
          "text": [
            "avg train loss: 0.4344: 100%|██████████| 1/1 [00:00<00:00, 23.79it/s]\n",
            "avg val loss: 0.5072: 100%|██████████| 1/1 [00:00<00:00, 111.99it/s]\n"
          ]
        },
        {
          "output_type": "stream",
          "name": "stdout",
          "text": [
            "---  Accuracy : 0.7777777910232544 \n",
            "\n",
            "\n",
            "best val loss 0.5081 -> 0.5072\n",
            "\n",
            "Starting epoch 101 / 300\n"
          ]
        },
        {
          "output_type": "stream",
          "name": "stderr",
          "text": [
            "avg train loss: 0.4333: 100%|██████████| 1/1 [00:00<00:00, 20.28it/s]\n",
            "avg val loss: 0.5063: 100%|██████████| 1/1 [00:00<00:00, 105.40it/s]\n"
          ]
        },
        {
          "output_type": "stream",
          "name": "stdout",
          "text": [
            "---  Accuracy : 0.7777777910232544 \n",
            "\n",
            "\n",
            "best val loss 0.5072 -> 0.5063\n",
            "\n",
            "Starting epoch 102 / 300\n"
          ]
        },
        {
          "output_type": "stream",
          "name": "stderr",
          "text": [
            "avg train loss: 0.4321: 100%|██████████| 1/1 [00:00<00:00, 17.40it/s]\n",
            "avg val loss: 0.5054: 100%|██████████| 1/1 [00:00<00:00, 96.49it/s]\n"
          ]
        },
        {
          "output_type": "stream",
          "name": "stdout",
          "text": [
            "---  Accuracy : 0.7777777910232544 \n",
            "\n",
            "\n",
            "best val loss 0.5063 -> 0.5054\n",
            "\n",
            "Starting epoch 103 / 300\n"
          ]
        },
        {
          "output_type": "stream",
          "name": "stderr",
          "text": [
            "avg train loss: 0.4310: 100%|██████████| 1/1 [00:00<00:00, 22.40it/s]\n",
            "avg val loss: 0.5045: 100%|██████████| 1/1 [00:00<00:00, 117.51it/s]\n"
          ]
        },
        {
          "output_type": "stream",
          "name": "stdout",
          "text": [
            "---  Accuracy : 0.7777777910232544 \n",
            "\n",
            "\n",
            "best val loss 0.5054 -> 0.5045\n",
            "\n",
            "Starting epoch 104 / 300\n"
          ]
        },
        {
          "output_type": "stream",
          "name": "stderr",
          "text": [
            "avg train loss: 0.4298: 100%|██████████| 1/1 [00:00<00:00, 23.47it/s]\n",
            "avg val loss: 0.5036: 100%|██████████| 1/1 [00:00<00:00, 107.71it/s]\n"
          ]
        },
        {
          "output_type": "stream",
          "name": "stdout",
          "text": [
            "---  Accuracy : 0.7777777910232544 \n",
            "\n",
            "\n",
            "best val loss 0.5045 -> 0.5036\n",
            "\n",
            "Starting epoch 105 / 300\n"
          ]
        },
        {
          "output_type": "stream",
          "name": "stderr",
          "text": [
            "avg train loss: 0.4286: 100%|██████████| 1/1 [00:00<00:00, 22.62it/s]\n",
            "avg val loss: 0.5027: 100%|██████████| 1/1 [00:00<00:00, 101.40it/s]\n"
          ]
        },
        {
          "output_type": "stream",
          "name": "stdout",
          "text": [
            "---  Accuracy : 0.7777777910232544 \n",
            "\n",
            "\n",
            "best val loss 0.5036 -> 0.5027\n",
            "\n",
            "Starting epoch 106 / 300\n"
          ]
        },
        {
          "output_type": "stream",
          "name": "stderr",
          "text": [
            "avg train loss: 0.4275: 100%|██████████| 1/1 [00:00<00:00, 22.82it/s]\n",
            "avg val loss: 0.5018: 100%|██████████| 1/1 [00:00<00:00, 111.74it/s]\n"
          ]
        },
        {
          "output_type": "stream",
          "name": "stdout",
          "text": [
            "---  Accuracy : 0.7777777910232544 \n",
            "\n",
            "\n",
            "best val loss 0.5027 -> 0.5018\n",
            "\n",
            "Starting epoch 107 / 300\n"
          ]
        },
        {
          "output_type": "stream",
          "name": "stderr",
          "text": [
            "avg train loss: 0.4263: 100%|██████████| 1/1 [00:00<00:00, 25.77it/s]\n",
            "avg val loss: 0.5009: 100%|██████████| 1/1 [00:00<00:00, 109.14it/s]\n"
          ]
        },
        {
          "output_type": "stream",
          "name": "stdout",
          "text": [
            "---  Accuracy : 0.7777777910232544 \n",
            "\n",
            "\n",
            "best val loss 0.5018 -> 0.5009\n",
            "\n",
            "Starting epoch 108 / 300\n"
          ]
        },
        {
          "output_type": "stream",
          "name": "stderr",
          "text": [
            "avg train loss: 0.4252: 100%|██████████| 1/1 [00:00<00:00, 24.68it/s]\n",
            "avg val loss: 0.5000: 100%|██████████| 1/1 [00:00<00:00, 114.41it/s]\n"
          ]
        },
        {
          "output_type": "stream",
          "name": "stdout",
          "text": [
            "---  Accuracy : 0.7777777910232544 \n",
            "\n",
            "\n",
            "best val loss 0.5009 -> 0.5000\n",
            "\n",
            "Starting epoch 109 / 300\n"
          ]
        },
        {
          "output_type": "stream",
          "name": "stderr",
          "text": [
            "avg train loss: 0.4240: 100%|██████████| 1/1 [00:00<00:00, 24.97it/s]\n",
            "avg val loss: 0.4991: 100%|██████████| 1/1 [00:00<00:00, 94.06it/s]\n"
          ]
        },
        {
          "output_type": "stream",
          "name": "stdout",
          "text": [
            "---  Accuracy : 0.7777777910232544 \n",
            "\n",
            "\n",
            "best val loss 0.5000 -> 0.4991\n",
            "\n",
            "Starting epoch 110 / 300\n"
          ]
        },
        {
          "output_type": "stream",
          "name": "stderr",
          "text": [
            "avg train loss: 0.4228: 100%|██████████| 1/1 [00:00<00:00, 21.31it/s]\n",
            "avg val loss: 0.4982: 100%|██████████| 1/1 [00:00<00:00, 104.61it/s]\n"
          ]
        },
        {
          "output_type": "stream",
          "name": "stdout",
          "text": [
            "---  Accuracy : 0.7777777910232544 \n",
            "\n",
            "\n",
            "best val loss 0.4991 -> 0.4982\n",
            "\n",
            "Starting epoch 111 / 300\n"
          ]
        },
        {
          "output_type": "stream",
          "name": "stderr",
          "text": [
            "avg train loss: 0.4217: 100%|██████████| 1/1 [00:00<00:00, 20.21it/s]\n",
            "avg val loss: 0.4973: 100%|██████████| 1/1 [00:00<00:00, 134.35it/s]\n"
          ]
        },
        {
          "output_type": "stream",
          "name": "stdout",
          "text": [
            "---  Accuracy : 0.7777777910232544 \n",
            "\n",
            "\n",
            "best val loss 0.4982 -> 0.4973\n",
            "\n",
            "Starting epoch 112 / 300\n"
          ]
        },
        {
          "output_type": "stream",
          "name": "stderr",
          "text": [
            "avg train loss: 0.4205: 100%|██████████| 1/1 [00:00<00:00, 23.74it/s]\n",
            "avg val loss: 0.4964: 100%|██████████| 1/1 [00:00<00:00, 104.15it/s]\n"
          ]
        },
        {
          "output_type": "stream",
          "name": "stdout",
          "text": [
            "---  Accuracy : 0.7777777910232544 \n",
            "\n",
            "\n",
            "best val loss 0.4973 -> 0.4964\n",
            "\n",
            "Starting epoch 113 / 300\n"
          ]
        },
        {
          "output_type": "stream",
          "name": "stderr",
          "text": [
            "avg train loss: 0.4194: 100%|██████████| 1/1 [00:00<00:00, 24.89it/s]\n",
            "avg val loss: 0.4955: 100%|██████████| 1/1 [00:00<00:00, 123.81it/s]\n"
          ]
        },
        {
          "output_type": "stream",
          "name": "stdout",
          "text": [
            "---  Accuracy : 0.7777777910232544 \n",
            "\n",
            "\n",
            "best val loss 0.4964 -> 0.4955\n",
            "\n",
            "Starting epoch 114 / 300\n"
          ]
        },
        {
          "output_type": "stream",
          "name": "stderr",
          "text": [
            "avg train loss: 0.4182: 100%|██████████| 1/1 [00:00<00:00, 24.68it/s]\n",
            "avg val loss: 0.4945: 100%|██████████| 1/1 [00:00<00:00, 89.74it/s]\n"
          ]
        },
        {
          "output_type": "stream",
          "name": "stdout",
          "text": [
            "---  Accuracy : 0.7777777910232544 \n",
            "\n",
            "\n",
            "best val loss 0.4955 -> 0.4945\n",
            "\n",
            "Starting epoch 115 / 300\n"
          ]
        },
        {
          "output_type": "stream",
          "name": "stderr",
          "text": [
            "avg train loss: 0.4170: 100%|██████████| 1/1 [00:00<00:00, 21.76it/s]\n",
            "avg val loss: 0.4936: 100%|██████████| 1/1 [00:00<00:00, 106.75it/s]\n"
          ]
        },
        {
          "output_type": "stream",
          "name": "stdout",
          "text": [
            "---  Accuracy : 0.7777777910232544 \n",
            "\n",
            "\n",
            "best val loss 0.4945 -> 0.4936\n",
            "\n",
            "Starting epoch 116 / 300\n"
          ]
        },
        {
          "output_type": "stream",
          "name": "stderr",
          "text": [
            "avg train loss: 0.4159: 100%|██████████| 1/1 [00:00<00:00, 24.59it/s]\n",
            "avg val loss: 0.4927: 100%|██████████| 1/1 [00:00<00:00, 100.19it/s]\n"
          ]
        },
        {
          "output_type": "stream",
          "name": "stdout",
          "text": [
            "---  Accuracy : 0.7777777910232544 \n",
            "\n",
            "\n",
            "best val loss 0.4936 -> 0.4927\n",
            "\n",
            "Starting epoch 117 / 300\n"
          ]
        },
        {
          "output_type": "stream",
          "name": "stderr",
          "text": [
            "avg train loss: 0.4147: 100%|██████████| 1/1 [00:00<00:00, 23.46it/s]\n",
            "avg val loss: 0.4918: 100%|██████████| 1/1 [00:00<00:00, 111.20it/s]\n"
          ]
        },
        {
          "output_type": "stream",
          "name": "stdout",
          "text": [
            "---  Accuracy : 0.7777777910232544 \n",
            "\n",
            "\n",
            "best val loss 0.4927 -> 0.4918\n",
            "\n",
            "Starting epoch 118 / 300\n"
          ]
        },
        {
          "output_type": "stream",
          "name": "stderr",
          "text": [
            "avg train loss: 0.4135: 100%|██████████| 1/1 [00:00<00:00, 23.65it/s]\n",
            "avg val loss: 0.4909: 100%|██████████| 1/1 [00:00<00:00, 110.83it/s]\n"
          ]
        },
        {
          "output_type": "stream",
          "name": "stdout",
          "text": [
            "---  Accuracy : 0.7777777910232544 \n",
            "\n",
            "\n",
            "best val loss 0.4918 -> 0.4909\n",
            "\n",
            "Starting epoch 119 / 300\n"
          ]
        },
        {
          "output_type": "stream",
          "name": "stderr",
          "text": [
            "avg train loss: 0.4124: 100%|██████████| 1/1 [00:00<00:00, 22.41it/s]\n",
            "avg val loss: 0.4900: 100%|██████████| 1/1 [00:00<00:00, 83.83it/s]\n"
          ]
        },
        {
          "output_type": "stream",
          "name": "stdout",
          "text": [
            "---  Accuracy : 0.7777777910232544 \n",
            "\n",
            "\n",
            "best val loss 0.4909 -> 0.4900\n",
            "\n",
            "Starting epoch 120 / 300\n"
          ]
        },
        {
          "output_type": "stream",
          "name": "stderr",
          "text": [
            "avg train loss: 0.4112: 100%|██████████| 1/1 [00:00<00:00, 21.20it/s]\n",
            "avg val loss: 0.4891: 100%|██████████| 1/1 [00:00<00:00, 111.35it/s]\n"
          ]
        },
        {
          "output_type": "stream",
          "name": "stdout",
          "text": [
            "---  Accuracy : 0.7777777910232544 \n",
            "\n",
            "\n",
            "best val loss 0.4900 -> 0.4891\n",
            "\n",
            "Starting epoch 121 / 300\n"
          ]
        },
        {
          "output_type": "stream",
          "name": "stderr",
          "text": [
            "avg train loss: 0.4101: 100%|██████████| 1/1 [00:00<00:00, 23.91it/s]\n",
            "avg val loss: 0.4882: 100%|██████████| 1/1 [00:00<00:00, 119.57it/s]\n"
          ]
        },
        {
          "output_type": "stream",
          "name": "stdout",
          "text": [
            "---  Accuracy : 0.7777777910232544 \n",
            "\n",
            "\n",
            "best val loss 0.4891 -> 0.4882\n",
            "\n",
            "Starting epoch 122 / 300\n"
          ]
        },
        {
          "output_type": "stream",
          "name": "stderr",
          "text": [
            "avg train loss: 0.4089: 100%|██████████| 1/1 [00:00<00:00, 23.62it/s]\n",
            "avg val loss: 0.4873: 100%|██████████| 1/1 [00:00<00:00, 116.20it/s]\n"
          ]
        },
        {
          "output_type": "stream",
          "name": "stdout",
          "text": [
            "---  Accuracy : 0.7777777910232544 \n",
            "\n",
            "\n",
            "best val loss 0.4882 -> 0.4873\n",
            "\n",
            "Starting epoch 123 / 300\n"
          ]
        },
        {
          "output_type": "stream",
          "name": "stderr",
          "text": [
            "avg train loss: 0.4078: 100%|██████████| 1/1 [00:00<00:00, 25.38it/s]\n",
            "avg val loss: 0.4864: 100%|██████████| 1/1 [00:00<00:00, 123.16it/s]\n"
          ]
        },
        {
          "output_type": "stream",
          "name": "stdout",
          "text": [
            "---  Accuracy : 0.7777777910232544 \n",
            "\n",
            "\n",
            "best val loss 0.4873 -> 0.4864\n",
            "\n",
            "Starting epoch 124 / 300\n"
          ]
        },
        {
          "output_type": "stream",
          "name": "stderr",
          "text": [
            "avg train loss: 0.4066: 100%|██████████| 1/1 [00:00<00:00, 22.66it/s]\n",
            "avg val loss: 0.4854: 100%|██████████| 1/1 [00:00<00:00, 121.89it/s]\n"
          ]
        },
        {
          "output_type": "stream",
          "name": "stdout",
          "text": [
            "---  Accuracy : 0.7777777910232544 \n",
            "\n",
            "\n",
            "best val loss 0.4864 -> 0.4854\n",
            "\n",
            "Starting epoch 125 / 300\n"
          ]
        },
        {
          "output_type": "stream",
          "name": "stderr",
          "text": [
            "avg train loss: 0.4054: 100%|██████████| 1/1 [00:00<00:00, 24.17it/s]\n",
            "avg val loss: 0.4845: 100%|██████████| 1/1 [00:00<00:00, 105.87it/s]\n"
          ]
        },
        {
          "output_type": "stream",
          "name": "stdout",
          "text": [
            "---  Accuracy : 0.7777777910232544 \n",
            "\n",
            "\n",
            "best val loss 0.4854 -> 0.4845\n",
            "\n",
            "Starting epoch 126 / 300\n"
          ]
        },
        {
          "output_type": "stream",
          "name": "stderr",
          "text": [
            "avg train loss: 0.4043: 100%|██████████| 1/1 [00:00<00:00, 26.40it/s]\n",
            "avg val loss: 0.4836: 100%|██████████| 1/1 [00:00<00:00, 131.36it/s]\n"
          ]
        },
        {
          "output_type": "stream",
          "name": "stdout",
          "text": [
            "---  Accuracy : 0.7777777910232544 \n",
            "\n",
            "\n",
            "best val loss 0.4845 -> 0.4836\n",
            "\n",
            "Starting epoch 127 / 300\n"
          ]
        },
        {
          "output_type": "stream",
          "name": "stderr",
          "text": [
            "avg train loss: 0.4031: 100%|██████████| 1/1 [00:00<00:00, 25.90it/s]\n",
            "avg val loss: 0.4827: 100%|██████████| 1/1 [00:00<00:00, 127.64it/s]\n"
          ]
        },
        {
          "output_type": "stream",
          "name": "stdout",
          "text": [
            "---  Accuracy : 0.7777777910232544 \n",
            "\n",
            "\n",
            "best val loss 0.4836 -> 0.4827\n",
            "\n",
            "Starting epoch 128 / 300\n"
          ]
        },
        {
          "output_type": "stream",
          "name": "stderr",
          "text": [
            "avg train loss: 0.4020: 100%|██████████| 1/1 [00:00<00:00, 24.94it/s]\n",
            "avg val loss: 0.4818: 100%|██████████| 1/1 [00:00<00:00, 118.37it/s]\n"
          ]
        },
        {
          "output_type": "stream",
          "name": "stdout",
          "text": [
            "---  Accuracy : 0.7777777910232544 \n",
            "\n",
            "\n",
            "best val loss 0.4827 -> 0.4818\n",
            "\n",
            "Starting epoch 129 / 300\n"
          ]
        },
        {
          "output_type": "stream",
          "name": "stderr",
          "text": [
            "avg train loss: 0.4008: 100%|██████████| 1/1 [00:00<00:00, 24.35it/s]\n",
            "avg val loss: 0.4809: 100%|██████████| 1/1 [00:00<00:00, 115.03it/s]\n"
          ]
        },
        {
          "output_type": "stream",
          "name": "stdout",
          "text": [
            "---  Accuracy : 0.8888888955116272 \n",
            "\n",
            "\n",
            "best val loss 0.4818 -> 0.4809\n",
            "\n",
            "Starting epoch 130 / 300\n"
          ]
        },
        {
          "output_type": "stream",
          "name": "stderr",
          "text": [
            "avg train loss: 0.3997: 100%|██████████| 1/1 [00:00<00:00, 24.20it/s]\n",
            "avg val loss: 0.4799: 100%|██████████| 1/1 [00:00<00:00, 124.66it/s]\n"
          ]
        },
        {
          "output_type": "stream",
          "name": "stdout",
          "text": [
            "---  Accuracy : 0.8888888955116272 \n",
            "\n",
            "\n",
            "best val loss 0.4809 -> 0.4799\n",
            "\n",
            "Starting epoch 131 / 300\n"
          ]
        },
        {
          "output_type": "stream",
          "name": "stderr",
          "text": [
            "avg train loss: 0.3985: 100%|██████████| 1/1 [00:00<00:00, 22.23it/s]\n",
            "avg val loss: 0.4790: 100%|██████████| 1/1 [00:00<00:00, 130.51it/s]\n"
          ]
        },
        {
          "output_type": "stream",
          "name": "stdout",
          "text": [
            "---  Accuracy : 0.8888888955116272 \n",
            "\n",
            "\n",
            "best val loss 0.4799 -> 0.4790\n",
            "\n",
            "Starting epoch 132 / 300\n"
          ]
        },
        {
          "output_type": "stream",
          "name": "stderr",
          "text": [
            "avg train loss: 0.3974: 100%|██████████| 1/1 [00:00<00:00, 23.68it/s]\n",
            "avg val loss: 0.4781: 100%|██████████| 1/1 [00:00<00:00, 105.58it/s]\n"
          ]
        },
        {
          "output_type": "stream",
          "name": "stdout",
          "text": [
            "---  Accuracy : 0.8888888955116272 \n",
            "\n",
            "\n",
            "best val loss 0.4790 -> 0.4781\n",
            "\n",
            "Starting epoch 133 / 300\n"
          ]
        },
        {
          "output_type": "stream",
          "name": "stderr",
          "text": [
            "avg train loss: 0.3962: 100%|██████████| 1/1 [00:00<00:00, 24.54it/s]\n",
            "avg val loss: 0.4772: 100%|██████████| 1/1 [00:00<00:00, 122.13it/s]\n"
          ]
        },
        {
          "output_type": "stream",
          "name": "stdout",
          "text": [
            "---  Accuracy : 1.0 \n",
            "\n",
            "\n",
            "best val loss 0.4781 -> 0.4772\n",
            "\n",
            "Starting epoch 134 / 300\n"
          ]
        },
        {
          "output_type": "stream",
          "name": "stderr",
          "text": [
            "avg train loss: 0.3951: 100%|██████████| 1/1 [00:00<00:00, 23.92it/s]\n",
            "avg val loss: 0.4763: 100%|██████████| 1/1 [00:00<00:00, 111.62it/s]\n"
          ]
        },
        {
          "output_type": "stream",
          "name": "stdout",
          "text": [
            "---  Accuracy : 1.0 \n",
            "\n",
            "\n",
            "best val loss 0.4772 -> 0.4763\n",
            "\n",
            "Starting epoch 135 / 300\n"
          ]
        },
        {
          "output_type": "stream",
          "name": "stderr",
          "text": [
            "avg train loss: 0.3939: 100%|██████████| 1/1 [00:00<00:00, 24.35it/s]\n",
            "avg val loss: 0.4754: 100%|██████████| 1/1 [00:00<00:00, 129.37it/s]\n"
          ]
        },
        {
          "output_type": "stream",
          "name": "stdout",
          "text": [
            "---  Accuracy : 1.0 \n",
            "\n",
            "\n",
            "best val loss 0.4763 -> 0.4754\n",
            "\n",
            "Starting epoch 136 / 300\n"
          ]
        },
        {
          "output_type": "stream",
          "name": "stderr",
          "text": [
            "avg train loss: 0.3928: 100%|██████████| 1/1 [00:00<00:00, 24.10it/s]\n",
            "avg val loss: 0.4744: 100%|██████████| 1/1 [00:00<00:00, 121.42it/s]\n"
          ]
        },
        {
          "output_type": "stream",
          "name": "stdout",
          "text": [
            "---  Accuracy : 1.0 \n",
            "\n",
            "\n",
            "best val loss 0.4754 -> 0.4744\n",
            "\n",
            "Starting epoch 137 / 300\n"
          ]
        },
        {
          "output_type": "stream",
          "name": "stderr",
          "text": [
            "avg train loss: 0.3916: 100%|██████████| 1/1 [00:00<00:00, 25.10it/s]\n",
            "avg val loss: 0.4735: 100%|██████████| 1/1 [00:00<00:00, 117.27it/s]\n"
          ]
        },
        {
          "output_type": "stream",
          "name": "stdout",
          "text": [
            "---  Accuracy : 1.0 \n",
            "\n",
            "\n",
            "best val loss 0.4744 -> 0.4735\n",
            "\n",
            "Starting epoch 138 / 300\n"
          ]
        },
        {
          "output_type": "stream",
          "name": "stderr",
          "text": [
            "avg train loss: 0.3905: 100%|██████████| 1/1 [00:00<00:00, 25.82it/s]\n",
            "avg val loss: 0.4726: 100%|██████████| 1/1 [00:00<00:00, 124.52it/s]\n"
          ]
        },
        {
          "output_type": "stream",
          "name": "stdout",
          "text": [
            "---  Accuracy : 1.0 \n",
            "\n",
            "\n",
            "best val loss 0.4735 -> 0.4726\n",
            "\n",
            "Starting epoch 139 / 300\n"
          ]
        },
        {
          "output_type": "stream",
          "name": "stderr",
          "text": [
            "avg train loss: 0.3893: 100%|██████████| 1/1 [00:00<00:00, 24.60it/s]\n",
            "avg val loss: 0.4717: 100%|██████████| 1/1 [00:00<00:00, 117.11it/s]\n"
          ]
        },
        {
          "output_type": "stream",
          "name": "stdout",
          "text": [
            "---  Accuracy : 1.0 \n",
            "\n",
            "\n",
            "best val loss 0.4726 -> 0.4717\n",
            "\n",
            "Starting epoch 140 / 300\n"
          ]
        },
        {
          "output_type": "stream",
          "name": "stderr",
          "text": [
            "avg train loss: 0.3882: 100%|██████████| 1/1 [00:00<00:00, 22.44it/s]\n",
            "avg val loss: 0.4708: 100%|██████████| 1/1 [00:00<00:00, 139.81it/s]\n"
          ]
        },
        {
          "output_type": "stream",
          "name": "stdout",
          "text": [
            "---  Accuracy : 1.0 \n",
            "\n",
            "\n",
            "best val loss 0.4717 -> 0.4708\n",
            "\n",
            "Starting epoch 141 / 300\n"
          ]
        },
        {
          "output_type": "stream",
          "name": "stderr",
          "text": [
            "avg train loss: 0.3870: 100%|██████████| 1/1 [00:00<00:00, 20.90it/s]\n",
            "avg val loss: 0.4699: 100%|██████████| 1/1 [00:00<00:00, 118.32it/s]\n"
          ]
        },
        {
          "output_type": "stream",
          "name": "stdout",
          "text": [
            "---  Accuracy : 1.0 \n",
            "\n",
            "\n",
            "best val loss 0.4708 -> 0.4699\n",
            "\n",
            "Starting epoch 142 / 300\n"
          ]
        },
        {
          "output_type": "stream",
          "name": "stderr",
          "text": [
            "avg train loss: 0.3859: 100%|██████████| 1/1 [00:00<00:00, 23.82it/s]\n",
            "avg val loss: 0.4690: 100%|██████████| 1/1 [00:00<00:00, 146.41it/s]\n"
          ]
        },
        {
          "output_type": "stream",
          "name": "stdout",
          "text": [
            "---  Accuracy : 1.0 \n",
            "\n",
            "\n",
            "best val loss 0.4699 -> 0.4690\n",
            "\n",
            "Starting epoch 143 / 300\n"
          ]
        },
        {
          "output_type": "stream",
          "name": "stderr",
          "text": [
            "avg train loss: 0.3848: 100%|██████████| 1/1 [00:00<00:00, 24.25it/s]\n",
            "avg val loss: 0.4680: 100%|██████████| 1/1 [00:00<00:00, 104.82it/s]\n"
          ]
        },
        {
          "output_type": "stream",
          "name": "stdout",
          "text": [
            "---  Accuracy : 1.0 \n",
            "\n",
            "\n",
            "best val loss 0.4690 -> 0.4680\n",
            "\n",
            "Starting epoch 144 / 300\n"
          ]
        },
        {
          "output_type": "stream",
          "name": "stderr",
          "text": [
            "avg train loss: 0.3836: 100%|██████████| 1/1 [00:00<00:00, 26.87it/s]\n",
            "avg val loss: 0.4671: 100%|██████████| 1/1 [00:00<00:00, 114.02it/s]\n"
          ]
        },
        {
          "output_type": "stream",
          "name": "stdout",
          "text": [
            "---  Accuracy : 1.0 \n",
            "\n",
            "\n",
            "best val loss 0.4680 -> 0.4671\n",
            "\n",
            "Starting epoch 145 / 300\n"
          ]
        },
        {
          "output_type": "stream",
          "name": "stderr",
          "text": [
            "avg train loss: 0.3825: 100%|██████████| 1/1 [00:00<00:00, 24.73it/s]\n",
            "avg val loss: 0.4662: 100%|██████████| 1/1 [00:00<00:00, 77.43it/s]\n"
          ]
        },
        {
          "output_type": "stream",
          "name": "stdout",
          "text": [
            "---  Accuracy : 1.0 \n",
            "\n",
            "\n",
            "best val loss 0.4671 -> 0.4662\n",
            "\n",
            "Starting epoch 146 / 300\n"
          ]
        },
        {
          "output_type": "stream",
          "name": "stderr",
          "text": [
            "avg train loss: 0.3814: 100%|██████████| 1/1 [00:00<00:00, 18.48it/s]\n",
            "avg val loss: 0.4653: 100%|██████████| 1/1 [00:00<00:00, 90.72it/s]\n"
          ]
        },
        {
          "output_type": "stream",
          "name": "stdout",
          "text": [
            "---  Accuracy : 1.0 \n",
            "\n",
            "\n",
            "best val loss 0.4662 -> 0.4653\n",
            "\n",
            "Starting epoch 147 / 300\n"
          ]
        },
        {
          "output_type": "stream",
          "name": "stderr",
          "text": [
            "avg train loss: 0.3802: 100%|██████████| 1/1 [00:00<00:00, 23.09it/s]\n",
            "avg val loss: 0.4644: 100%|██████████| 1/1 [00:00<00:00, 142.19it/s]\n"
          ]
        },
        {
          "output_type": "stream",
          "name": "stdout",
          "text": [
            "---  Accuracy : 1.0 \n",
            "\n",
            "\n",
            "best val loss 0.4653 -> 0.4644\n",
            "\n",
            "Starting epoch 148 / 300\n"
          ]
        },
        {
          "output_type": "stream",
          "name": "stderr",
          "text": [
            "avg train loss: 0.3791: 100%|██████████| 1/1 [00:00<00:00, 24.12it/s]\n",
            "avg val loss: 0.4635: 100%|██████████| 1/1 [00:00<00:00, 104.44it/s]\n"
          ]
        },
        {
          "output_type": "stream",
          "name": "stdout",
          "text": [
            "---  Accuracy : 1.0 \n",
            "\n",
            "\n",
            "best val loss 0.4644 -> 0.4635\n",
            "\n",
            "Starting epoch 149 / 300\n"
          ]
        },
        {
          "output_type": "stream",
          "name": "stderr",
          "text": [
            "avg train loss: 0.3780: 100%|██████████| 1/1 [00:00<00:00, 21.94it/s]\n",
            "avg val loss: 0.4626: 100%|██████████| 1/1 [00:00<00:00, 76.91it/s]\n"
          ]
        },
        {
          "output_type": "stream",
          "name": "stdout",
          "text": [
            "---  Accuracy : 1.0 \n",
            "\n",
            "\n",
            "best val loss 0.4635 -> 0.4626\n",
            "\n",
            "Starting epoch 150 / 300\n"
          ]
        },
        {
          "output_type": "stream",
          "name": "stderr",
          "text": [
            "avg train loss: 0.3768: 100%|██████████| 1/1 [00:00<00:00, 24.78it/s]\n",
            "avg val loss: 0.4617: 100%|██████████| 1/1 [00:00<00:00, 111.65it/s]\n"
          ]
        },
        {
          "output_type": "stream",
          "name": "stdout",
          "text": [
            "---  Accuracy : 1.0 \n",
            "\n",
            "\n",
            "best val loss 0.4626 -> 0.4617\n",
            "\n",
            "Starting epoch 151 / 300\n"
          ]
        },
        {
          "output_type": "stream",
          "name": "stderr",
          "text": [
            "avg train loss: 0.3757: 100%|██████████| 1/1 [00:00<00:00, 23.94it/s]\n",
            "avg val loss: 0.4608: 100%|██████████| 1/1 [00:00<00:00, 119.54it/s]\n"
          ]
        },
        {
          "output_type": "stream",
          "name": "stdout",
          "text": [
            "---  Accuracy : 1.0 \n",
            "\n",
            "\n",
            "best val loss 0.4617 -> 0.4608\n",
            "\n",
            "Starting epoch 152 / 300\n"
          ]
        },
        {
          "output_type": "stream",
          "name": "stderr",
          "text": [
            "avg train loss: 0.3746: 100%|██████████| 1/1 [00:00<00:00, 25.05it/s]\n",
            "avg val loss: 0.4599: 100%|██████████| 1/1 [00:00<00:00, 109.95it/s]\n"
          ]
        },
        {
          "output_type": "stream",
          "name": "stdout",
          "text": [
            "---  Accuracy : 1.0 \n",
            "\n",
            "\n",
            "best val loss 0.4608 -> 0.4599\n",
            "\n",
            "Starting epoch 153 / 300\n"
          ]
        },
        {
          "output_type": "stream",
          "name": "stderr",
          "text": [
            "avg train loss: 0.3734: 100%|██████████| 1/1 [00:00<00:00, 25.04it/s]\n",
            "avg val loss: 0.4589: 100%|██████████| 1/1 [00:00<00:00, 117.88it/s]\n"
          ]
        },
        {
          "output_type": "stream",
          "name": "stdout",
          "text": [
            "---  Accuracy : 1.0 \n",
            "\n",
            "\n",
            "best val loss 0.4599 -> 0.4589\n",
            "\n",
            "Starting epoch 154 / 300\n"
          ]
        },
        {
          "output_type": "stream",
          "name": "stderr",
          "text": [
            "avg train loss: 0.3723: 100%|██████████| 1/1 [00:00<00:00, 25.44it/s]\n",
            "avg val loss: 0.4580: 100%|██████████| 1/1 [00:00<00:00, 128.44it/s]\n"
          ]
        },
        {
          "output_type": "stream",
          "name": "stdout",
          "text": [
            "---  Accuracy : 1.0 \n",
            "\n",
            "\n",
            "best val loss 0.4589 -> 0.4580\n",
            "\n",
            "Starting epoch 155 / 300\n"
          ]
        },
        {
          "output_type": "stream",
          "name": "stderr",
          "text": [
            "avg train loss: 0.3712: 100%|██████████| 1/1 [00:00<00:00, 25.36it/s]\n",
            "avg val loss: 0.4571: 100%|██████████| 1/1 [00:00<00:00, 114.39it/s]\n"
          ]
        },
        {
          "output_type": "stream",
          "name": "stdout",
          "text": [
            "---  Accuracy : 1.0 \n",
            "\n",
            "\n",
            "best val loss 0.4580 -> 0.4571\n",
            "\n",
            "Starting epoch 156 / 300\n"
          ]
        },
        {
          "output_type": "stream",
          "name": "stderr",
          "text": [
            "avg train loss: 0.3701: 100%|██████████| 1/1 [00:00<00:00, 25.66it/s]\n",
            "avg val loss: 0.4562: 100%|██████████| 1/1 [00:00<00:00, 110.53it/s]\n"
          ]
        },
        {
          "output_type": "stream",
          "name": "stdout",
          "text": [
            "---  Accuracy : 1.0 \n",
            "\n",
            "\n",
            "best val loss 0.4571 -> 0.4562\n",
            "\n",
            "Starting epoch 157 / 300\n"
          ]
        },
        {
          "output_type": "stream",
          "name": "stderr",
          "text": [
            "avg train loss: 0.3690: 100%|██████████| 1/1 [00:00<00:00, 24.68it/s]\n",
            "avg val loss: 0.4553: 100%|██████████| 1/1 [00:00<00:00, 116.94it/s]\n"
          ]
        },
        {
          "output_type": "stream",
          "name": "stdout",
          "text": [
            "---  Accuracy : 1.0 \n",
            "\n",
            "\n",
            "best val loss 0.4562 -> 0.4553\n",
            "\n",
            "Starting epoch 158 / 300\n"
          ]
        },
        {
          "output_type": "stream",
          "name": "stderr",
          "text": [
            "avg train loss: 0.3678: 100%|██████████| 1/1 [00:00<00:00, 22.93it/s]\n",
            "avg val loss: 0.4544: 100%|██████████| 1/1 [00:00<00:00, 113.77it/s]\n"
          ]
        },
        {
          "output_type": "stream",
          "name": "stdout",
          "text": [
            "---  Accuracy : 1.0 \n",
            "\n",
            "\n",
            "best val loss 0.4553 -> 0.4544\n",
            "\n",
            "Starting epoch 159 / 300\n"
          ]
        },
        {
          "output_type": "stream",
          "name": "stderr",
          "text": [
            "avg train loss: 0.3667: 100%|██████████| 1/1 [00:00<00:00, 23.19it/s]\n",
            "avg val loss: 0.4535: 100%|██████████| 1/1 [00:00<00:00, 128.71it/s]\n"
          ]
        },
        {
          "output_type": "stream",
          "name": "stdout",
          "text": [
            "---  Accuracy : 1.0 \n",
            "\n",
            "\n",
            "best val loss 0.4544 -> 0.4535\n",
            "\n",
            "Starting epoch 160 / 300\n"
          ]
        },
        {
          "output_type": "stream",
          "name": "stderr",
          "text": [
            "avg train loss: 0.3656: 100%|██████████| 1/1 [00:00<00:00, 23.00it/s]\n",
            "avg val loss: 0.4526: 100%|██████████| 1/1 [00:00<00:00, 123.51it/s]\n"
          ]
        },
        {
          "output_type": "stream",
          "name": "stdout",
          "text": [
            "---  Accuracy : 1.0 \n",
            "\n",
            "\n",
            "best val loss 0.4535 -> 0.4526\n",
            "\n",
            "Starting epoch 161 / 300\n"
          ]
        },
        {
          "output_type": "stream",
          "name": "stderr",
          "text": [
            "avg train loss: 0.3645: 100%|██████████| 1/1 [00:00<00:00, 23.17it/s]\n",
            "avg val loss: 0.4517: 100%|██████████| 1/1 [00:00<00:00, 115.98it/s]\n"
          ]
        },
        {
          "output_type": "stream",
          "name": "stdout",
          "text": [
            "---  Accuracy : 1.0 \n",
            "\n",
            "\n",
            "best val loss 0.4526 -> 0.4517\n",
            "\n",
            "Starting epoch 162 / 300\n"
          ]
        },
        {
          "output_type": "stream",
          "name": "stderr",
          "text": [
            "avg train loss: 0.3634: 100%|██████████| 1/1 [00:00<00:00, 20.94it/s]\n",
            "avg val loss: 0.4508: 100%|██████████| 1/1 [00:00<00:00, 102.61it/s]\n"
          ]
        },
        {
          "output_type": "stream",
          "name": "stdout",
          "text": [
            "---  Accuracy : 1.0 \n",
            "\n",
            "\n",
            "best val loss 0.4517 -> 0.4508\n",
            "\n",
            "Starting epoch 163 / 300\n"
          ]
        },
        {
          "output_type": "stream",
          "name": "stderr",
          "text": [
            "avg train loss: 0.3623: 100%|██████████| 1/1 [00:00<00:00, 24.53it/s]\n",
            "avg val loss: 0.4500: 100%|██████████| 1/1 [00:00<00:00, 125.65it/s]\n"
          ]
        },
        {
          "output_type": "stream",
          "name": "stdout",
          "text": [
            "---  Accuracy : 1.0 \n",
            "\n",
            "\n",
            "best val loss 0.4508 -> 0.4500\n",
            "\n",
            "Starting epoch 164 / 300\n"
          ]
        },
        {
          "output_type": "stream",
          "name": "stderr",
          "text": [
            "avg train loss: 0.3612: 100%|██████████| 1/1 [00:00<00:00, 21.02it/s]\n",
            "avg val loss: 0.4491: 100%|██████████| 1/1 [00:00<00:00, 103.02it/s]\n"
          ]
        },
        {
          "output_type": "stream",
          "name": "stdout",
          "text": [
            "---  Accuracy : 1.0 \n",
            "\n",
            "\n",
            "best val loss 0.4500 -> 0.4491\n",
            "\n",
            "Starting epoch 165 / 300\n"
          ]
        },
        {
          "output_type": "stream",
          "name": "stderr",
          "text": [
            "avg train loss: 0.3601: 100%|██████████| 1/1 [00:00<00:00, 24.51it/s]\n",
            "avg val loss: 0.4482: 100%|██████████| 1/1 [00:00<00:00, 113.63it/s]\n"
          ]
        },
        {
          "output_type": "stream",
          "name": "stdout",
          "text": [
            "---  Accuracy : 1.0 \n",
            "\n",
            "\n",
            "best val loss 0.4491 -> 0.4482\n",
            "\n",
            "Starting epoch 166 / 300\n"
          ]
        },
        {
          "output_type": "stream",
          "name": "stderr",
          "text": [
            "avg train loss: 0.3590: 100%|██████████| 1/1 [00:00<00:00, 23.16it/s]\n",
            "avg val loss: 0.4473: 100%|██████████| 1/1 [00:00<00:00, 112.95it/s]\n"
          ]
        },
        {
          "output_type": "stream",
          "name": "stdout",
          "text": [
            "---  Accuracy : 1.0 \n",
            "\n",
            "\n",
            "best val loss 0.4482 -> 0.4473\n",
            "\n",
            "Starting epoch 167 / 300\n"
          ]
        },
        {
          "output_type": "stream",
          "name": "stderr",
          "text": [
            "avg train loss: 0.3579: 100%|██████████| 1/1 [00:00<00:00, 19.53it/s]\n",
            "avg val loss: 0.4464: 100%|██████████| 1/1 [00:00<00:00, 114.18it/s]\n"
          ]
        },
        {
          "output_type": "stream",
          "name": "stdout",
          "text": [
            "---  Accuracy : 1.0 \n",
            "\n",
            "\n",
            "best val loss 0.4473 -> 0.4464\n",
            "\n",
            "Starting epoch 168 / 300\n"
          ]
        },
        {
          "output_type": "stream",
          "name": "stderr",
          "text": [
            "avg train loss: 0.3568: 100%|██████████| 1/1 [00:00<00:00, 22.86it/s]\n",
            "avg val loss: 0.4455: 100%|██████████| 1/1 [00:00<00:00, 114.45it/s]\n"
          ]
        },
        {
          "output_type": "stream",
          "name": "stdout",
          "text": [
            "---  Accuracy : 1.0 \n",
            "\n",
            "\n",
            "best val loss 0.4464 -> 0.4455\n",
            "\n",
            "Starting epoch 169 / 300\n"
          ]
        },
        {
          "output_type": "stream",
          "name": "stderr",
          "text": [
            "avg train loss: 0.3557: 100%|██████████| 1/1 [00:00<00:00, 25.07it/s]\n",
            "avg val loss: 0.4446: 100%|██████████| 1/1 [00:00<00:00, 122.07it/s]\n"
          ]
        },
        {
          "output_type": "stream",
          "name": "stdout",
          "text": [
            "---  Accuracy : 1.0 \n",
            "\n",
            "\n",
            "best val loss 0.4455 -> 0.4446\n",
            "\n",
            "Starting epoch 170 / 300\n"
          ]
        },
        {
          "output_type": "stream",
          "name": "stderr",
          "text": [
            "avg train loss: 0.3546: 100%|██████████| 1/1 [00:00<00:00, 24.95it/s]\n",
            "avg val loss: 0.4437: 100%|██████████| 1/1 [00:00<00:00, 115.80it/s]\n"
          ]
        },
        {
          "output_type": "stream",
          "name": "stdout",
          "text": [
            "---  Accuracy : 1.0 \n",
            "\n",
            "\n",
            "best val loss 0.4446 -> 0.4437\n",
            "\n",
            "Starting epoch 171 / 300\n"
          ]
        },
        {
          "output_type": "stream",
          "name": "stderr",
          "text": [
            "avg train loss: 0.3535: 100%|██████████| 1/1 [00:00<00:00, 23.54it/s]\n",
            "avg val loss: 0.4429: 100%|██████████| 1/1 [00:00<00:00, 105.59it/s]\n"
          ]
        },
        {
          "output_type": "stream",
          "name": "stdout",
          "text": [
            "---  Accuracy : 1.0 \n",
            "\n",
            "\n",
            "best val loss 0.4437 -> 0.4429\n",
            "\n",
            "Starting epoch 172 / 300\n"
          ]
        },
        {
          "output_type": "stream",
          "name": "stderr",
          "text": [
            "avg train loss: 0.3524: 100%|██████████| 1/1 [00:00<00:00, 22.22it/s]\n",
            "avg val loss: 0.4420: 100%|██████████| 1/1 [00:00<00:00, 114.14it/s]\n"
          ]
        },
        {
          "output_type": "stream",
          "name": "stdout",
          "text": [
            "---  Accuracy : 1.0 \n",
            "\n",
            "\n",
            "best val loss 0.4429 -> 0.4420\n",
            "\n",
            "Starting epoch 173 / 300\n"
          ]
        },
        {
          "output_type": "stream",
          "name": "stderr",
          "text": [
            "avg train loss: 0.3513: 100%|██████████| 1/1 [00:00<00:00, 22.05it/s]\n",
            "avg val loss: 0.4411: 100%|██████████| 1/1 [00:00<00:00, 117.81it/s]\n"
          ]
        },
        {
          "output_type": "stream",
          "name": "stdout",
          "text": [
            "---  Accuracy : 1.0 \n",
            "\n",
            "\n",
            "best val loss 0.4420 -> 0.4411\n",
            "\n",
            "Starting epoch 174 / 300\n"
          ]
        },
        {
          "output_type": "stream",
          "name": "stderr",
          "text": [
            "avg train loss: 0.3502: 100%|██████████| 1/1 [00:00<00:00, 23.67it/s]\n",
            "avg val loss: 0.4402: 100%|██████████| 1/1 [00:00<00:00, 110.85it/s]\n"
          ]
        },
        {
          "output_type": "stream",
          "name": "stdout",
          "text": [
            "---  Accuracy : 1.0 \n",
            "\n",
            "\n",
            "best val loss 0.4411 -> 0.4402\n",
            "\n",
            "Starting epoch 175 / 300\n"
          ]
        },
        {
          "output_type": "stream",
          "name": "stderr",
          "text": [
            "avg train loss: 0.3492: 100%|██████████| 1/1 [00:00<00:00, 25.18it/s]\n",
            "avg val loss: 0.4394: 100%|██████████| 1/1 [00:00<00:00, 112.76it/s]\n"
          ]
        },
        {
          "output_type": "stream",
          "name": "stdout",
          "text": [
            "---  Accuracy : 1.0 \n",
            "\n",
            "\n",
            "best val loss 0.4402 -> 0.4394\n",
            "\n",
            "Starting epoch 176 / 300\n"
          ]
        },
        {
          "output_type": "stream",
          "name": "stderr",
          "text": [
            "avg train loss: 0.3481: 100%|██████████| 1/1 [00:00<00:00, 21.30it/s]\n",
            "avg val loss: 0.4385: 100%|██████████| 1/1 [00:00<00:00, 79.27it/s]\n"
          ]
        },
        {
          "output_type": "stream",
          "name": "stdout",
          "text": [
            "---  Accuracy : 1.0 \n",
            "\n",
            "\n",
            "best val loss 0.4394 -> 0.4385\n",
            "\n",
            "Starting epoch 177 / 300\n"
          ]
        },
        {
          "output_type": "stream",
          "name": "stderr",
          "text": [
            "avg train loss: 0.3470: 100%|██████████| 1/1 [00:00<00:00, 20.95it/s]\n",
            "avg val loss: 0.4376: 100%|██████████| 1/1 [00:00<00:00, 122.69it/s]\n"
          ]
        },
        {
          "output_type": "stream",
          "name": "stdout",
          "text": [
            "---  Accuracy : 1.0 \n",
            "\n",
            "\n",
            "best val loss 0.4385 -> 0.4376\n",
            "\n",
            "Starting epoch 178 / 300\n"
          ]
        },
        {
          "output_type": "stream",
          "name": "stderr",
          "text": [
            "avg train loss: 0.3459: 100%|██████████| 1/1 [00:00<00:00, 24.82it/s]\n",
            "avg val loss: 0.4368: 100%|██████████| 1/1 [00:00<00:00, 88.11it/s]\n"
          ]
        },
        {
          "output_type": "stream",
          "name": "stdout",
          "text": [
            "---  Accuracy : 1.0 \n",
            "\n",
            "\n",
            "best val loss 0.4376 -> 0.4368\n",
            "\n",
            "Starting epoch 179 / 300\n"
          ]
        },
        {
          "output_type": "stream",
          "name": "stderr",
          "text": [
            "avg train loss: 0.3448: 100%|██████████| 1/1 [00:00<00:00, 22.12it/s]\n",
            "avg val loss: 0.4359: 100%|██████████| 1/1 [00:00<00:00, 107.63it/s]\n"
          ]
        },
        {
          "output_type": "stream",
          "name": "stdout",
          "text": [
            "---  Accuracy : 1.0 \n",
            "\n",
            "\n",
            "best val loss 0.4368 -> 0.4359\n",
            "\n",
            "Starting epoch 180 / 300\n"
          ]
        },
        {
          "output_type": "stream",
          "name": "stderr",
          "text": [
            "avg train loss: 0.3438: 100%|██████████| 1/1 [00:00<00:00, 23.44it/s]\n",
            "avg val loss: 0.4351: 100%|██████████| 1/1 [00:00<00:00, 118.51it/s]\n"
          ]
        },
        {
          "output_type": "stream",
          "name": "stdout",
          "text": [
            "---  Accuracy : 1.0 \n",
            "\n",
            "\n",
            "best val loss 0.4359 -> 0.4351\n",
            "\n",
            "Starting epoch 181 / 300\n"
          ]
        },
        {
          "output_type": "stream",
          "name": "stderr",
          "text": [
            "avg train loss: 0.3427: 100%|██████████| 1/1 [00:00<00:00, 24.93it/s]\n",
            "avg val loss: 0.4342: 100%|██████████| 1/1 [00:00<00:00, 108.57it/s]\n"
          ]
        },
        {
          "output_type": "stream",
          "name": "stdout",
          "text": [
            "---  Accuracy : 1.0 \n",
            "\n",
            "\n",
            "best val loss 0.4351 -> 0.4342\n",
            "\n",
            "Starting epoch 182 / 300\n"
          ]
        },
        {
          "output_type": "stream",
          "name": "stderr",
          "text": [
            "avg train loss: 0.3416: 100%|██████████| 1/1 [00:00<00:00, 23.17it/s]\n",
            "avg val loss: 0.4333: 100%|██████████| 1/1 [00:00<00:00, 113.05it/s]\n"
          ]
        },
        {
          "output_type": "stream",
          "name": "stdout",
          "text": [
            "---  Accuracy : 1.0 \n",
            "\n",
            "\n",
            "best val loss 0.4342 -> 0.4333\n",
            "\n",
            "Starting epoch 183 / 300\n"
          ]
        },
        {
          "output_type": "stream",
          "name": "stderr",
          "text": [
            "avg train loss: 0.3406: 100%|██████████| 1/1 [00:00<00:00, 19.32it/s]\n",
            "avg val loss: 0.4325: 100%|██████████| 1/1 [00:00<00:00, 122.57it/s]\n"
          ]
        },
        {
          "output_type": "stream",
          "name": "stdout",
          "text": [
            "---  Accuracy : 1.0 \n",
            "\n",
            "\n",
            "best val loss 0.4333 -> 0.4325\n",
            "\n",
            "Starting epoch 184 / 300\n"
          ]
        },
        {
          "output_type": "stream",
          "name": "stderr",
          "text": [
            "avg train loss: 0.3395: 100%|██████████| 1/1 [00:00<00:00, 23.12it/s]\n",
            "avg val loss: 0.4316: 100%|██████████| 1/1 [00:00<00:00, 121.43it/s]\n"
          ]
        },
        {
          "output_type": "stream",
          "name": "stdout",
          "text": [
            "---  Accuracy : 1.0 \n",
            "\n",
            "\n",
            "best val loss 0.4325 -> 0.4316\n",
            "\n",
            "Starting epoch 185 / 300\n"
          ]
        },
        {
          "output_type": "stream",
          "name": "stderr",
          "text": [
            "avg train loss: 0.3384: 100%|██████████| 1/1 [00:00<00:00, 25.36it/s]\n",
            "avg val loss: 0.4308: 100%|██████████| 1/1 [00:00<00:00, 101.50it/s]\n"
          ]
        },
        {
          "output_type": "stream",
          "name": "stdout",
          "text": [
            "---  Accuracy : 1.0 \n",
            "\n",
            "\n",
            "best val loss 0.4316 -> 0.4308\n",
            "\n",
            "Starting epoch 186 / 300\n"
          ]
        },
        {
          "output_type": "stream",
          "name": "stderr",
          "text": [
            "avg train loss: 0.3374: 100%|██████████| 1/1 [00:00<00:00, 25.48it/s]\n",
            "avg val loss: 0.4300: 100%|██████████| 1/1 [00:00<00:00, 121.62it/s]\n"
          ]
        },
        {
          "output_type": "stream",
          "name": "stdout",
          "text": [
            "---  Accuracy : 1.0 \n",
            "\n",
            "\n",
            "best val loss 0.4308 -> 0.4300\n",
            "\n",
            "Starting epoch 187 / 300\n"
          ]
        },
        {
          "output_type": "stream",
          "name": "stderr",
          "text": [
            "avg train loss: 0.3363: 100%|██████████| 1/1 [00:00<00:00, 26.45it/s]\n",
            "avg val loss: 0.4291: 100%|██████████| 1/1 [00:00<00:00, 131.37it/s]\n"
          ]
        },
        {
          "output_type": "stream",
          "name": "stdout",
          "text": [
            "---  Accuracy : 1.0 \n",
            "\n",
            "\n",
            "best val loss 0.4300 -> 0.4291\n",
            "\n",
            "Starting epoch 188 / 300\n"
          ]
        },
        {
          "output_type": "stream",
          "name": "stderr",
          "text": [
            "avg train loss: 0.3353: 100%|██████████| 1/1 [00:00<00:00, 22.15it/s]\n",
            "avg val loss: 0.4283: 100%|██████████| 1/1 [00:00<00:00, 101.40it/s]\n"
          ]
        },
        {
          "output_type": "stream",
          "name": "stdout",
          "text": [
            "---  Accuracy : 1.0 \n",
            "\n",
            "\n",
            "best val loss 0.4291 -> 0.4283\n",
            "\n",
            "Starting epoch 189 / 300\n"
          ]
        },
        {
          "output_type": "stream",
          "name": "stderr",
          "text": [
            "avg train loss: 0.3342: 100%|██████████| 1/1 [00:00<00:00, 21.72it/s]\n",
            "avg val loss: 0.4274: 100%|██████████| 1/1 [00:00<00:00, 139.49it/s]\n"
          ]
        },
        {
          "output_type": "stream",
          "name": "stdout",
          "text": [
            "---  Accuracy : 1.0 \n",
            "\n",
            "\n",
            "best val loss 0.4283 -> 0.4274\n",
            "\n",
            "Starting epoch 190 / 300\n"
          ]
        },
        {
          "output_type": "stream",
          "name": "stderr",
          "text": [
            "avg train loss: 0.3332: 100%|██████████| 1/1 [00:00<00:00, 22.05it/s]\n",
            "avg val loss: 0.4266: 100%|██████████| 1/1 [00:00<00:00, 129.85it/s]\n"
          ]
        },
        {
          "output_type": "stream",
          "name": "stdout",
          "text": [
            "---  Accuracy : 1.0 \n",
            "\n",
            "\n",
            "best val loss 0.4274 -> 0.4266\n",
            "\n",
            "Starting epoch 191 / 300\n"
          ]
        },
        {
          "output_type": "stream",
          "name": "stderr",
          "text": [
            "avg train loss: 0.3321: 100%|██████████| 1/1 [00:00<00:00, 24.26it/s]\n",
            "avg val loss: 0.4258: 100%|██████████| 1/1 [00:00<00:00, 129.79it/s]\n"
          ]
        },
        {
          "output_type": "stream",
          "name": "stdout",
          "text": [
            "---  Accuracy : 1.0 \n",
            "\n",
            "\n",
            "best val loss 0.4266 -> 0.4258\n",
            "\n",
            "Starting epoch 192 / 300\n"
          ]
        },
        {
          "output_type": "stream",
          "name": "stderr",
          "text": [
            "avg train loss: 0.3311: 100%|██████████| 1/1 [00:00<00:00, 19.63it/s]\n",
            "avg val loss: 0.4249: 100%|██████████| 1/1 [00:00<00:00, 95.65it/s]\n"
          ]
        },
        {
          "output_type": "stream",
          "name": "stdout",
          "text": [
            "---  Accuracy : 1.0 \n",
            "\n",
            "\n",
            "best val loss 0.4258 -> 0.4249\n",
            "\n",
            "Starting epoch 193 / 300\n"
          ]
        },
        {
          "output_type": "stream",
          "name": "stderr",
          "text": [
            "avg train loss: 0.3300: 100%|██████████| 1/1 [00:00<00:00, 22.85it/s]\n",
            "avg val loss: 0.4241: 100%|██████████| 1/1 [00:00<00:00, 132.73it/s]\n"
          ]
        },
        {
          "output_type": "stream",
          "name": "stdout",
          "text": [
            "---  Accuracy : 1.0 \n",
            "\n",
            "\n",
            "best val loss 0.4249 -> 0.4241\n",
            "\n",
            "Starting epoch 194 / 300\n"
          ]
        },
        {
          "output_type": "stream",
          "name": "stderr",
          "text": [
            "avg train loss: 0.3290: 100%|██████████| 1/1 [00:00<00:00, 22.93it/s]\n",
            "avg val loss: 0.4233: 100%|██████████| 1/1 [00:00<00:00, 127.48it/s]\n"
          ]
        },
        {
          "output_type": "stream",
          "name": "stdout",
          "text": [
            "---  Accuracy : 1.0 \n",
            "\n",
            "\n",
            "best val loss 0.4241 -> 0.4233\n",
            "\n",
            "Starting epoch 195 / 300\n"
          ]
        },
        {
          "output_type": "stream",
          "name": "stderr",
          "text": [
            "avg train loss: 0.3279: 100%|██████████| 1/1 [00:00<00:00, 25.22it/s]\n",
            "avg val loss: 0.4225: 100%|██████████| 1/1 [00:00<00:00, 139.43it/s]\n"
          ]
        },
        {
          "output_type": "stream",
          "name": "stdout",
          "text": [
            "---  Accuracy : 1.0 \n",
            "\n",
            "\n",
            "best val loss 0.4233 -> 0.4225\n",
            "\n",
            "Starting epoch 196 / 300\n"
          ]
        },
        {
          "output_type": "stream",
          "name": "stderr",
          "text": [
            "avg train loss: 0.3269: 100%|██████████| 1/1 [00:00<00:00, 23.78it/s]\n",
            "avg val loss: 0.4217: 100%|██████████| 1/1 [00:00<00:00, 118.07it/s]\n"
          ]
        },
        {
          "output_type": "stream",
          "name": "stdout",
          "text": [
            "---  Accuracy : 1.0 \n",
            "\n",
            "\n",
            "best val loss 0.4225 -> 0.4217\n",
            "\n",
            "Starting epoch 197 / 300\n"
          ]
        },
        {
          "output_type": "stream",
          "name": "stderr",
          "text": [
            "avg train loss: 0.3259: 100%|██████████| 1/1 [00:00<00:00, 24.70it/s]\n",
            "avg val loss: 0.4209: 100%|██████████| 1/1 [00:00<00:00, 121.66it/s]\n"
          ]
        },
        {
          "output_type": "stream",
          "name": "stdout",
          "text": [
            "---  Accuracy : 1.0 \n",
            "\n",
            "\n",
            "best val loss 0.4217 -> 0.4209\n",
            "\n",
            "Starting epoch 198 / 300\n"
          ]
        },
        {
          "output_type": "stream",
          "name": "stderr",
          "text": [
            "avg train loss: 0.3248: 100%|██████████| 1/1 [00:00<00:00, 23.48it/s]\n",
            "avg val loss: 0.4200: 100%|██████████| 1/1 [00:00<00:00, 111.15it/s]\n"
          ]
        },
        {
          "output_type": "stream",
          "name": "stdout",
          "text": [
            "---  Accuracy : 1.0 \n",
            "\n",
            "\n",
            "best val loss 0.4209 -> 0.4200\n",
            "\n",
            "Starting epoch 199 / 300\n"
          ]
        },
        {
          "output_type": "stream",
          "name": "stderr",
          "text": [
            "avg train loss: 0.3238: 100%|██████████| 1/1 [00:00<00:00, 23.65it/s]\n",
            "avg val loss: 0.4192: 100%|██████████| 1/1 [00:00<00:00, 118.82it/s]\n"
          ]
        },
        {
          "output_type": "stream",
          "name": "stdout",
          "text": [
            "---  Accuracy : 1.0 \n",
            "\n",
            "\n",
            "best val loss 0.4200 -> 0.4192\n",
            "\n",
            "Starting epoch 200 / 300\n"
          ]
        },
        {
          "output_type": "stream",
          "name": "stderr",
          "text": [
            "avg train loss: 0.3228: 100%|██████████| 1/1 [00:00<00:00, 25.94it/s]\n",
            "avg val loss: 0.4184: 100%|██████████| 1/1 [00:00<00:00, 119.86it/s]\n"
          ]
        },
        {
          "output_type": "stream",
          "name": "stdout",
          "text": [
            "---  Accuracy : 1.0 \n",
            "\n",
            "\n",
            "best val loss 0.4192 -> 0.4184\n",
            "\n",
            "Starting epoch 201 / 300\n"
          ]
        },
        {
          "output_type": "stream",
          "name": "stderr",
          "text": [
            "avg train loss: 0.3217: 100%|██████████| 1/1 [00:00<00:00, 25.31it/s]\n",
            "avg val loss: 0.4176: 100%|██████████| 1/1 [00:00<00:00, 116.68it/s]\n"
          ]
        },
        {
          "output_type": "stream",
          "name": "stdout",
          "text": [
            "---  Accuracy : 1.0 \n",
            "\n",
            "\n",
            "best val loss 0.4184 -> 0.4176\n",
            "\n",
            "Starting epoch 202 / 300\n"
          ]
        },
        {
          "output_type": "stream",
          "name": "stderr",
          "text": [
            "avg train loss: 0.3207: 100%|██████████| 1/1 [00:00<00:00, 22.30it/s]\n",
            "avg val loss: 0.4168: 100%|██████████| 1/1 [00:00<00:00, 120.40it/s]\n"
          ]
        },
        {
          "output_type": "stream",
          "name": "stdout",
          "text": [
            "---  Accuracy : 1.0 \n",
            "\n",
            "\n",
            "best val loss 0.4176 -> 0.4168\n",
            "\n",
            "Starting epoch 203 / 300\n"
          ]
        },
        {
          "output_type": "stream",
          "name": "stderr",
          "text": [
            "avg train loss: 0.3197: 100%|██████████| 1/1 [00:00<00:00, 24.12it/s]\n",
            "avg val loss: 0.4160: 100%|██████████| 1/1 [00:00<00:00, 117.07it/s]\n"
          ]
        },
        {
          "output_type": "stream",
          "name": "stdout",
          "text": [
            "---  Accuracy : 1.0 \n",
            "\n",
            "\n",
            "best val loss 0.4168 -> 0.4160\n",
            "\n",
            "Starting epoch 204 / 300\n"
          ]
        },
        {
          "output_type": "stream",
          "name": "stderr",
          "text": [
            "avg train loss: 0.3187: 100%|██████████| 1/1 [00:00<00:00, 23.71it/s]\n",
            "avg val loss: 0.4153: 100%|██████████| 1/1 [00:00<00:00, 131.33it/s]\n"
          ]
        },
        {
          "output_type": "stream",
          "name": "stdout",
          "text": [
            "---  Accuracy : 1.0 \n",
            "\n",
            "\n",
            "best val loss 0.4160 -> 0.4153\n",
            "\n",
            "Starting epoch 205 / 300\n"
          ]
        },
        {
          "output_type": "stream",
          "name": "stderr",
          "text": [
            "avg train loss: 0.3176: 100%|██████████| 1/1 [00:00<00:00, 25.76it/s]\n",
            "avg val loss: 0.4145: 100%|██████████| 1/1 [00:00<00:00, 118.51it/s]\n"
          ]
        },
        {
          "output_type": "stream",
          "name": "stdout",
          "text": [
            "---  Accuracy : 1.0 \n",
            "\n",
            "\n",
            "best val loss 0.4153 -> 0.4145\n",
            "\n",
            "Starting epoch 206 / 300\n"
          ]
        },
        {
          "output_type": "stream",
          "name": "stderr",
          "text": [
            "avg train loss: 0.3166: 100%|██████████| 1/1 [00:00<00:00, 23.73it/s]\n",
            "avg val loss: 0.4137: 100%|██████████| 1/1 [00:00<00:00, 115.87it/s]\n"
          ]
        },
        {
          "output_type": "stream",
          "name": "stdout",
          "text": [
            "---  Accuracy : 1.0 \n",
            "\n",
            "\n",
            "best val loss 0.4145 -> 0.4137\n",
            "\n",
            "Starting epoch 207 / 300\n"
          ]
        },
        {
          "output_type": "stream",
          "name": "stderr",
          "text": [
            "avg train loss: 0.3156: 100%|██████████| 1/1 [00:00<00:00, 24.50it/s]\n",
            "avg val loss: 0.4129: 100%|██████████| 1/1 [00:00<00:00, 130.60it/s]\n"
          ]
        },
        {
          "output_type": "stream",
          "name": "stdout",
          "text": [
            "---  Accuracy : 1.0 \n",
            "\n",
            "\n",
            "best val loss 0.4137 -> 0.4129\n",
            "\n",
            "Starting epoch 208 / 300\n"
          ]
        },
        {
          "output_type": "stream",
          "name": "stderr",
          "text": [
            "avg train loss: 0.3146: 100%|██████████| 1/1 [00:00<00:00, 16.94it/s]\n",
            "avg val loss: 0.4121: 100%|██████████| 1/1 [00:00<00:00, 99.97it/s]\n"
          ]
        },
        {
          "output_type": "stream",
          "name": "stdout",
          "text": [
            "---  Accuracy : 1.0 \n",
            "\n",
            "\n",
            "best val loss 0.4129 -> 0.4121\n",
            "\n",
            "Starting epoch 209 / 300\n"
          ]
        },
        {
          "output_type": "stream",
          "name": "stderr",
          "text": [
            "avg train loss: 0.3136: 100%|██████████| 1/1 [00:00<00:00, 16.01it/s]\n",
            "avg val loss: 0.4114: 100%|██████████| 1/1 [00:00<00:00, 120.79it/s]\n"
          ]
        },
        {
          "output_type": "stream",
          "name": "stdout",
          "text": [
            "---  Accuracy : 1.0 \n",
            "\n",
            "\n",
            "best val loss 0.4121 -> 0.4114\n",
            "\n",
            "Starting epoch 210 / 300\n"
          ]
        },
        {
          "output_type": "stream",
          "name": "stderr",
          "text": [
            "avg train loss: 0.3126: 100%|██████████| 1/1 [00:00<00:00, 16.87it/s]\n",
            "avg val loss: 0.4106: 100%|██████████| 1/1 [00:00<00:00, 107.71it/s]\n"
          ]
        },
        {
          "output_type": "stream",
          "name": "stdout",
          "text": [
            "---  Accuracy : 1.0 \n",
            "\n",
            "\n",
            "best val loss 0.4114 -> 0.4106\n",
            "\n",
            "Starting epoch 211 / 300\n"
          ]
        },
        {
          "output_type": "stream",
          "name": "stderr",
          "text": [
            "avg train loss: 0.3116: 100%|██████████| 1/1 [00:00<00:00, 18.02it/s]\n",
            "avg val loss: 0.4098: 100%|██████████| 1/1 [00:00<00:00, 123.90it/s]\n"
          ]
        },
        {
          "output_type": "stream",
          "name": "stdout",
          "text": [
            "---  Accuracy : 1.0 \n",
            "\n",
            "\n",
            "best val loss 0.4106 -> 0.4098\n",
            "\n",
            "Starting epoch 212 / 300\n"
          ]
        },
        {
          "output_type": "stream",
          "name": "stderr",
          "text": [
            "avg train loss: 0.3106: 100%|██████████| 1/1 [00:00<00:00, 20.25it/s]\n",
            "avg val loss: 0.4090: 100%|██████████| 1/1 [00:00<00:00, 122.47it/s]\n"
          ]
        },
        {
          "output_type": "stream",
          "name": "stdout",
          "text": [
            "---  Accuracy : 1.0 \n",
            "\n",
            "\n",
            "best val loss 0.4098 -> 0.4090\n",
            "\n",
            "Starting epoch 213 / 300\n"
          ]
        },
        {
          "output_type": "stream",
          "name": "stderr",
          "text": [
            "avg train loss: 0.3096: 100%|██████████| 1/1 [00:00<00:00, 16.68it/s]\n",
            "avg val loss: 0.4083: 100%|██████████| 1/1 [00:00<00:00, 108.88it/s]\n"
          ]
        },
        {
          "output_type": "stream",
          "name": "stdout",
          "text": [
            "---  Accuracy : 1.0 \n",
            "\n",
            "\n",
            "best val loss 0.4090 -> 0.4083\n",
            "\n",
            "Starting epoch 214 / 300\n"
          ]
        },
        {
          "output_type": "stream",
          "name": "stderr",
          "text": [
            "avg train loss: 0.3086: 100%|██████████| 1/1 [00:00<00:00, 24.37it/s]\n",
            "avg val loss: 0.4075: 100%|██████████| 1/1 [00:00<00:00, 138.77it/s]\n"
          ]
        },
        {
          "output_type": "stream",
          "name": "stdout",
          "text": [
            "---  Accuracy : 1.0 \n",
            "\n",
            "\n",
            "best val loss 0.4083 -> 0.4075\n",
            "\n",
            "Starting epoch 215 / 300\n"
          ]
        },
        {
          "output_type": "stream",
          "name": "stderr",
          "text": [
            "avg train loss: 0.3076: 100%|██████████| 1/1 [00:00<00:00, 24.84it/s]\n",
            "avg val loss: 0.4068: 100%|██████████| 1/1 [00:00<00:00, 132.41it/s]\n"
          ]
        },
        {
          "output_type": "stream",
          "name": "stdout",
          "text": [
            "---  Accuracy : 1.0 \n",
            "\n",
            "\n",
            "best val loss 0.4075 -> 0.4068\n",
            "\n",
            "Starting epoch 216 / 300\n"
          ]
        },
        {
          "output_type": "stream",
          "name": "stderr",
          "text": [
            "avg train loss: 0.3066: 100%|██████████| 1/1 [00:00<00:00, 26.92it/s]\n",
            "avg val loss: 0.4060: 100%|██████████| 1/1 [00:00<00:00, 121.82it/s]\n"
          ]
        },
        {
          "output_type": "stream",
          "name": "stdout",
          "text": [
            "---  Accuracy : 1.0 \n",
            "\n",
            "\n",
            "best val loss 0.4068 -> 0.4060\n",
            "\n",
            "Starting epoch 217 / 300\n"
          ]
        },
        {
          "output_type": "stream",
          "name": "stderr",
          "text": [
            "avg train loss: 0.3056: 100%|██████████| 1/1 [00:00<00:00, 25.69it/s]\n",
            "avg val loss: 0.4053: 100%|██████████| 1/1 [00:00<00:00, 123.98it/s]\n"
          ]
        },
        {
          "output_type": "stream",
          "name": "stdout",
          "text": [
            "---  Accuracy : 1.0 \n",
            "\n",
            "\n",
            "best val loss 0.4060 -> 0.4053\n",
            "\n",
            "Starting epoch 218 / 300\n"
          ]
        },
        {
          "output_type": "stream",
          "name": "stderr",
          "text": [
            "avg train loss: 0.3046: 100%|██████████| 1/1 [00:00<00:00, 26.51it/s]\n",
            "avg val loss: 0.4045: 100%|██████████| 1/1 [00:00<00:00, 109.09it/s]\n"
          ]
        },
        {
          "output_type": "stream",
          "name": "stdout",
          "text": [
            "---  Accuracy : 1.0 \n",
            "\n",
            "\n",
            "best val loss 0.4053 -> 0.4045\n",
            "\n",
            "Starting epoch 219 / 300\n"
          ]
        },
        {
          "output_type": "stream",
          "name": "stderr",
          "text": [
            "avg train loss: 0.3036: 100%|██████████| 1/1 [00:00<00:00, 26.78it/s]\n",
            "avg val loss: 0.4038: 100%|██████████| 1/1 [00:00<00:00, 77.42it/s]\n"
          ]
        },
        {
          "output_type": "stream",
          "name": "stdout",
          "text": [
            "---  Accuracy : 1.0 \n",
            "\n",
            "\n",
            "best val loss 0.4045 -> 0.4038\n",
            "\n",
            "Starting epoch 220 / 300\n"
          ]
        },
        {
          "output_type": "stream",
          "name": "stderr",
          "text": [
            "avg train loss: 0.3026: 100%|██████████| 1/1 [00:00<00:00, 23.45it/s]\n",
            "avg val loss: 0.4030: 100%|██████████| 1/1 [00:00<00:00, 147.15it/s]\n"
          ]
        },
        {
          "output_type": "stream",
          "name": "stdout",
          "text": [
            "---  Accuracy : 1.0 \n",
            "\n",
            "\n",
            "best val loss 0.4038 -> 0.4030\n",
            "\n",
            "Starting epoch 221 / 300\n"
          ]
        },
        {
          "output_type": "stream",
          "name": "stderr",
          "text": [
            "avg train loss: 0.3016: 100%|██████████| 1/1 [00:00<00:00, 21.02it/s]\n",
            "avg val loss: 0.4023: 100%|██████████| 1/1 [00:00<00:00, 103.65it/s]\n"
          ]
        },
        {
          "output_type": "stream",
          "name": "stdout",
          "text": [
            "---  Accuracy : 1.0 \n",
            "\n",
            "\n",
            "best val loss 0.4030 -> 0.4023\n",
            "\n",
            "Starting epoch 222 / 300\n"
          ]
        },
        {
          "output_type": "stream",
          "name": "stderr",
          "text": [
            "avg train loss: 0.3006: 100%|██████████| 1/1 [00:00<00:00, 21.23it/s]\n",
            "avg val loss: 0.4016: 100%|██████████| 1/1 [00:00<00:00, 121.65it/s]\n"
          ]
        },
        {
          "output_type": "stream",
          "name": "stdout",
          "text": [
            "---  Accuracy : 1.0 \n",
            "\n",
            "\n",
            "best val loss 0.4023 -> 0.4016\n",
            "\n",
            "Starting epoch 223 / 300\n"
          ]
        },
        {
          "output_type": "stream",
          "name": "stderr",
          "text": [
            "avg train loss: 0.2997: 100%|██████████| 1/1 [00:00<00:00, 19.54it/s]\n",
            "avg val loss: 0.4008: 100%|██████████| 1/1 [00:00<00:00, 89.12it/s]\n"
          ]
        },
        {
          "output_type": "stream",
          "name": "stdout",
          "text": [
            "---  Accuracy : 1.0 \n",
            "\n",
            "\n",
            "best val loss 0.4016 -> 0.4008\n",
            "\n",
            "Starting epoch 224 / 300\n"
          ]
        },
        {
          "output_type": "stream",
          "name": "stderr",
          "text": [
            "avg train loss: 0.2987: 100%|██████████| 1/1 [00:00<00:00, 16.01it/s]\n",
            "avg val loss: 0.4001: 100%|██████████| 1/1 [00:00<00:00, 122.67it/s]\n"
          ]
        },
        {
          "output_type": "stream",
          "name": "stdout",
          "text": [
            "---  Accuracy : 1.0 \n",
            "\n",
            "\n",
            "best val loss 0.4008 -> 0.4001\n",
            "\n",
            "Starting epoch 225 / 300\n"
          ]
        },
        {
          "output_type": "stream",
          "name": "stderr",
          "text": [
            "avg train loss: 0.2977: 100%|██████████| 1/1 [00:00<00:00, 15.89it/s]\n",
            "avg val loss: 0.3994: 100%|██████████| 1/1 [00:00<00:00, 112.18it/s]\n"
          ]
        },
        {
          "output_type": "stream",
          "name": "stdout",
          "text": [
            "---  Accuracy : 1.0 \n",
            "\n",
            "\n",
            "best val loss 0.4001 -> 0.3994\n",
            "\n",
            "Starting epoch 226 / 300\n"
          ]
        },
        {
          "output_type": "stream",
          "name": "stderr",
          "text": [
            "avg train loss: 0.2967: 100%|██████████| 1/1 [00:00<00:00, 18.58it/s]\n",
            "avg val loss: 0.3987: 100%|██████████| 1/1 [00:00<00:00, 105.42it/s]\n"
          ]
        },
        {
          "output_type": "stream",
          "name": "stdout",
          "text": [
            "---  Accuracy : 1.0 \n",
            "\n",
            "\n",
            "best val loss 0.3994 -> 0.3987\n",
            "\n",
            "Starting epoch 227 / 300\n"
          ]
        },
        {
          "output_type": "stream",
          "name": "stderr",
          "text": [
            "avg train loss: 0.2958: 100%|██████████| 1/1 [00:00<00:00, 15.25it/s]\n",
            "avg val loss: 0.3979: 100%|██████████| 1/1 [00:00<00:00, 88.51it/s]\n"
          ]
        },
        {
          "output_type": "stream",
          "name": "stdout",
          "text": [
            "---  Accuracy : 1.0 \n",
            "\n",
            "\n",
            "best val loss 0.3987 -> 0.3979\n",
            "\n",
            "Starting epoch 228 / 300\n"
          ]
        },
        {
          "output_type": "stream",
          "name": "stderr",
          "text": [
            "avg train loss: 0.2948: 100%|██████████| 1/1 [00:00<00:00, 15.76it/s]\n",
            "avg val loss: 0.3972: 100%|██████████| 1/1 [00:00<00:00, 108.87it/s]\n"
          ]
        },
        {
          "output_type": "stream",
          "name": "stdout",
          "text": [
            "---  Accuracy : 1.0 \n",
            "\n",
            "\n",
            "best val loss 0.3979 -> 0.3972\n",
            "\n",
            "Starting epoch 229 / 300\n"
          ]
        },
        {
          "output_type": "stream",
          "name": "stderr",
          "text": [
            "avg train loss: 0.2938: 100%|██████████| 1/1 [00:00<00:00, 14.74it/s]\n",
            "avg val loss: 0.3965: 100%|██████████| 1/1 [00:00<00:00, 98.96it/s]\n"
          ]
        },
        {
          "output_type": "stream",
          "name": "stdout",
          "text": [
            "---  Accuracy : 1.0 \n",
            "\n",
            "\n",
            "best val loss 0.3972 -> 0.3965\n",
            "\n",
            "Starting epoch 230 / 300\n"
          ]
        },
        {
          "output_type": "stream",
          "name": "stderr",
          "text": [
            "avg train loss: 0.2929: 100%|██████████| 1/1 [00:00<00:00, 16.17it/s]\n",
            "avg val loss: 0.3958: 100%|██████████| 1/1 [00:00<00:00, 96.07it/s]\n"
          ]
        },
        {
          "output_type": "stream",
          "name": "stdout",
          "text": [
            "---  Accuracy : 1.0 \n",
            "\n",
            "\n",
            "best val loss 0.3965 -> 0.3958\n",
            "\n",
            "Starting epoch 231 / 300\n"
          ]
        },
        {
          "output_type": "stream",
          "name": "stderr",
          "text": [
            "avg train loss: 0.2919: 100%|██████████| 1/1 [00:00<00:00, 16.76it/s]\n",
            "avg val loss: 0.3951: 100%|██████████| 1/1 [00:00<00:00, 144.36it/s]\n"
          ]
        },
        {
          "output_type": "stream",
          "name": "stdout",
          "text": [
            "---  Accuracy : 1.0 \n",
            "\n",
            "\n",
            "best val loss 0.3958 -> 0.3951\n",
            "\n",
            "Starting epoch 232 / 300\n"
          ]
        },
        {
          "output_type": "stream",
          "name": "stderr",
          "text": [
            "avg train loss: 0.2909: 100%|██████████| 1/1 [00:00<00:00, 21.34it/s]\n",
            "avg val loss: 0.3944: 100%|██████████| 1/1 [00:00<00:00, 111.88it/s]\n"
          ]
        },
        {
          "output_type": "stream",
          "name": "stdout",
          "text": [
            "---  Accuracy : 1.0 \n",
            "\n",
            "\n",
            "best val loss 0.3951 -> 0.3944\n",
            "\n",
            "Starting epoch 233 / 300\n"
          ]
        },
        {
          "output_type": "stream",
          "name": "stderr",
          "text": [
            "avg train loss: 0.2900: 100%|██████████| 1/1 [00:00<00:00, 23.51it/s]\n",
            "avg val loss: 0.3937: 100%|██████████| 1/1 [00:00<00:00, 106.61it/s]\n"
          ]
        },
        {
          "output_type": "stream",
          "name": "stdout",
          "text": [
            "---  Accuracy : 1.0 \n",
            "\n",
            "\n",
            "best val loss 0.3944 -> 0.3937\n",
            "\n",
            "Starting epoch 234 / 300\n"
          ]
        },
        {
          "output_type": "stream",
          "name": "stderr",
          "text": [
            "avg train loss: 0.2890: 100%|██████████| 1/1 [00:00<00:00, 21.24it/s]\n",
            "avg val loss: 0.3930: 100%|██████████| 1/1 [00:00<00:00, 106.21it/s]\n"
          ]
        },
        {
          "output_type": "stream",
          "name": "stdout",
          "text": [
            "---  Accuracy : 1.0 \n",
            "\n",
            "\n",
            "best val loss 0.3937 -> 0.3930\n",
            "\n",
            "Starting epoch 235 / 300\n"
          ]
        },
        {
          "output_type": "stream",
          "name": "stderr",
          "text": [
            "avg train loss: 0.2881: 100%|██████████| 1/1 [00:00<00:00, 23.44it/s]\n",
            "avg val loss: 0.3923: 100%|██████████| 1/1 [00:00<00:00, 117.28it/s]\n"
          ]
        },
        {
          "output_type": "stream",
          "name": "stdout",
          "text": [
            "---  Accuracy : 1.0 \n",
            "\n",
            "\n",
            "best val loss 0.3930 -> 0.3923\n",
            "\n",
            "Starting epoch 236 / 300\n"
          ]
        },
        {
          "output_type": "stream",
          "name": "stderr",
          "text": [
            "avg train loss: 0.2871: 100%|██████████| 1/1 [00:00<00:00, 24.52it/s]\n",
            "avg val loss: 0.3916: 100%|██████████| 1/1 [00:00<00:00, 93.67it/s]\n"
          ]
        },
        {
          "output_type": "stream",
          "name": "stdout",
          "text": [
            "---  Accuracy : 1.0 \n",
            "\n",
            "\n",
            "best val loss 0.3923 -> 0.3916\n",
            "\n",
            "Starting epoch 237 / 300\n"
          ]
        },
        {
          "output_type": "stream",
          "name": "stderr",
          "text": [
            "avg train loss: 0.2862: 100%|██████████| 1/1 [00:00<00:00, 23.54it/s]\n",
            "avg val loss: 0.3909: 100%|██████████| 1/1 [00:00<00:00, 153.69it/s]\n"
          ]
        },
        {
          "output_type": "stream",
          "name": "stdout",
          "text": [
            "---  Accuracy : 1.0 \n",
            "\n",
            "\n",
            "best val loss 0.3916 -> 0.3909\n",
            "\n",
            "Starting epoch 238 / 300\n"
          ]
        },
        {
          "output_type": "stream",
          "name": "stderr",
          "text": [
            "avg train loss: 0.2852: 100%|██████████| 1/1 [00:00<00:00, 24.17it/s]\n",
            "avg val loss: 0.3902: 100%|██████████| 1/1 [00:00<00:00, 60.97it/s]\n"
          ]
        },
        {
          "output_type": "stream",
          "name": "stdout",
          "text": [
            "---  Accuracy : 1.0 \n",
            "\n",
            "\n",
            "best val loss 0.3909 -> 0.3902\n",
            "\n",
            "Starting epoch 239 / 300\n"
          ]
        },
        {
          "output_type": "stream",
          "name": "stderr",
          "text": [
            "avg train loss: 0.2843: 100%|██████████| 1/1 [00:00<00:00, 21.54it/s]\n",
            "avg val loss: 0.3895: 100%|██████████| 1/1 [00:00<00:00, 103.90it/s]\n"
          ]
        },
        {
          "output_type": "stream",
          "name": "stdout",
          "text": [
            "---  Accuracy : 1.0 \n",
            "\n",
            "\n",
            "best val loss 0.3902 -> 0.3895\n",
            "\n",
            "Starting epoch 240 / 300\n"
          ]
        },
        {
          "output_type": "stream",
          "name": "stderr",
          "text": [
            "avg train loss: 0.2833: 100%|██████████| 1/1 [00:00<00:00, 18.63it/s]\n",
            "avg val loss: 0.3888: 100%|██████████| 1/1 [00:00<00:00, 137.17it/s]\n"
          ]
        },
        {
          "output_type": "stream",
          "name": "stdout",
          "text": [
            "---  Accuracy : 1.0 \n",
            "\n",
            "\n",
            "best val loss 0.3895 -> 0.3888\n",
            "\n",
            "Starting epoch 241 / 300\n"
          ]
        },
        {
          "output_type": "stream",
          "name": "stderr",
          "text": [
            "avg train loss: 0.2824: 100%|██████████| 1/1 [00:00<00:00, 18.54it/s]\n",
            "avg val loss: 0.3881: 100%|██████████| 1/1 [00:00<00:00, 129.55it/s]\n"
          ]
        },
        {
          "output_type": "stream",
          "name": "stdout",
          "text": [
            "---  Accuracy : 1.0 \n",
            "\n",
            "\n",
            "best val loss 0.3888 -> 0.3881\n",
            "\n",
            "Starting epoch 242 / 300\n"
          ]
        },
        {
          "output_type": "stream",
          "name": "stderr",
          "text": [
            "avg train loss: 0.2815: 100%|██████████| 1/1 [00:00<00:00, 18.13it/s]\n",
            "avg val loss: 0.3874: 100%|██████████| 1/1 [00:00<00:00, 116.16it/s]\n"
          ]
        },
        {
          "output_type": "stream",
          "name": "stdout",
          "text": [
            "---  Accuracy : 1.0 \n",
            "\n",
            "\n",
            "best val loss 0.3881 -> 0.3874\n",
            "\n",
            "Starting epoch 243 / 300\n"
          ]
        },
        {
          "output_type": "stream",
          "name": "stderr",
          "text": [
            "avg train loss: 0.2805: 100%|██████████| 1/1 [00:00<00:00, 16.66it/s]\n",
            "avg val loss: 0.3867: 100%|██████████| 1/1 [00:00<00:00, 115.15it/s]\n"
          ]
        },
        {
          "output_type": "stream",
          "name": "stdout",
          "text": [
            "---  Accuracy : 1.0 \n",
            "\n",
            "\n",
            "best val loss 0.3874 -> 0.3867\n",
            "\n",
            "Starting epoch 244 / 300\n"
          ]
        },
        {
          "output_type": "stream",
          "name": "stderr",
          "text": [
            "avg train loss: 0.2796: 100%|██████████| 1/1 [00:00<00:00, 16.67it/s]\n",
            "avg val loss: 0.3861: 100%|██████████| 1/1 [00:00<00:00, 89.63it/s]\n"
          ]
        },
        {
          "output_type": "stream",
          "name": "stdout",
          "text": [
            "---  Accuracy : 1.0 \n",
            "\n",
            "\n",
            "best val loss 0.3867 -> 0.3861\n",
            "\n",
            "Starting epoch 245 / 300\n"
          ]
        },
        {
          "output_type": "stream",
          "name": "stderr",
          "text": [
            "avg train loss: 0.2787: 100%|██████████| 1/1 [00:00<00:00, 17.67it/s]\n",
            "avg val loss: 0.3854: 100%|██████████| 1/1 [00:00<00:00, 139.26it/s]\n"
          ]
        },
        {
          "output_type": "stream",
          "name": "stdout",
          "text": [
            "---  Accuracy : 1.0 \n",
            "\n",
            "\n",
            "best val loss 0.3861 -> 0.3854\n",
            "\n",
            "Starting epoch 246 / 300\n"
          ]
        },
        {
          "output_type": "stream",
          "name": "stderr",
          "text": [
            "avg train loss: 0.2777: 100%|██████████| 1/1 [00:00<00:00, 25.03it/s]\n",
            "avg val loss: 0.3847: 100%|██████████| 1/1 [00:00<00:00, 131.05it/s]\n"
          ]
        },
        {
          "output_type": "stream",
          "name": "stdout",
          "text": [
            "---  Accuracy : 1.0 \n",
            "\n",
            "\n",
            "best val loss 0.3854 -> 0.3847\n",
            "\n",
            "Starting epoch 247 / 300\n"
          ]
        },
        {
          "output_type": "stream",
          "name": "stderr",
          "text": [
            "avg train loss: 0.2768: 100%|██████████| 1/1 [00:00<00:00, 22.95it/s]\n",
            "avg val loss: 0.3840: 100%|██████████| 1/1 [00:00<00:00, 106.56it/s]\n"
          ]
        },
        {
          "output_type": "stream",
          "name": "stdout",
          "text": [
            "---  Accuracy : 1.0 \n",
            "\n",
            "\n",
            "best val loss 0.3847 -> 0.3840\n",
            "\n",
            "Starting epoch 248 / 300\n"
          ]
        },
        {
          "output_type": "stream",
          "name": "stderr",
          "text": [
            "avg train loss: 0.2759: 100%|██████████| 1/1 [00:00<00:00, 27.41it/s]\n",
            "avg val loss: 0.3833: 100%|██████████| 1/1 [00:00<00:00, 113.23it/s]\n"
          ]
        },
        {
          "output_type": "stream",
          "name": "stdout",
          "text": [
            "---  Accuracy : 1.0 \n",
            "\n",
            "\n",
            "best val loss 0.3840 -> 0.3833\n",
            "\n",
            "Starting epoch 249 / 300\n"
          ]
        },
        {
          "output_type": "stream",
          "name": "stderr",
          "text": [
            "avg train loss: 0.2750: 100%|██████████| 1/1 [00:00<00:00, 27.44it/s]\n",
            "avg val loss: 0.3827: 100%|██████████| 1/1 [00:00<00:00, 90.97it/s]\n"
          ]
        },
        {
          "output_type": "stream",
          "name": "stdout",
          "text": [
            "---  Accuracy : 1.0 \n",
            "\n",
            "\n",
            "best val loss 0.3833 -> 0.3827\n",
            "\n",
            "Starting epoch 250 / 300\n"
          ]
        },
        {
          "output_type": "stream",
          "name": "stderr",
          "text": [
            "avg train loss: 0.2741: 100%|██████████| 1/1 [00:00<00:00, 24.20it/s]\n",
            "avg val loss: 0.3820: 100%|██████████| 1/1 [00:00<00:00, 114.68it/s]\n"
          ]
        },
        {
          "output_type": "stream",
          "name": "stdout",
          "text": [
            "---  Accuracy : 1.0 \n",
            "\n",
            "\n",
            "best val loss 0.3827 -> 0.3820\n",
            "\n",
            "Starting epoch 251 / 300\n"
          ]
        },
        {
          "output_type": "stream",
          "name": "stderr",
          "text": [
            "avg train loss: 0.2732: 100%|██████████| 1/1 [00:00<00:00, 27.17it/s]\n",
            "avg val loss: 0.3813: 100%|██████████| 1/1 [00:00<00:00, 114.25it/s]\n"
          ]
        },
        {
          "output_type": "stream",
          "name": "stdout",
          "text": [
            "---  Accuracy : 1.0 \n",
            "\n",
            "\n",
            "best val loss 0.3820 -> 0.3813\n",
            "\n",
            "Starting epoch 252 / 300\n"
          ]
        },
        {
          "output_type": "stream",
          "name": "stderr",
          "text": [
            "avg train loss: 0.2722: 100%|██████████| 1/1 [00:00<00:00, 26.00it/s]\n",
            "avg val loss: 0.3806: 100%|██████████| 1/1 [00:00<00:00, 144.57it/s]\n"
          ]
        },
        {
          "output_type": "stream",
          "name": "stdout",
          "text": [
            "---  Accuracy : 1.0 \n",
            "\n",
            "\n",
            "best val loss 0.3813 -> 0.3806\n",
            "\n",
            "Starting epoch 253 / 300\n"
          ]
        },
        {
          "output_type": "stream",
          "name": "stderr",
          "text": [
            "avg train loss: 0.2713: 100%|██████████| 1/1 [00:00<00:00, 28.67it/s]\n",
            "avg val loss: 0.3800: 100%|██████████| 1/1 [00:00<00:00, 145.92it/s]\n"
          ]
        },
        {
          "output_type": "stream",
          "name": "stdout",
          "text": [
            "---  Accuracy : 1.0 \n",
            "\n",
            "\n",
            "best val loss 0.3806 -> 0.3800\n",
            "\n",
            "Starting epoch 254 / 300\n"
          ]
        },
        {
          "output_type": "stream",
          "name": "stderr",
          "text": [
            "avg train loss: 0.2704: 100%|██████████| 1/1 [00:00<00:00, 25.82it/s]\n",
            "avg val loss: 0.3793: 100%|██████████| 1/1 [00:00<00:00, 112.32it/s]\n"
          ]
        },
        {
          "output_type": "stream",
          "name": "stdout",
          "text": [
            "---  Accuracy : 1.0 \n",
            "\n",
            "\n",
            "best val loss 0.3800 -> 0.3793\n",
            "\n",
            "Starting epoch 255 / 300\n"
          ]
        },
        {
          "output_type": "stream",
          "name": "stderr",
          "text": [
            "avg train loss: 0.2695: 100%|██████████| 1/1 [00:00<00:00, 23.07it/s]\n",
            "avg val loss: 0.3786: 100%|██████████| 1/1 [00:00<00:00, 116.72it/s]\n"
          ]
        },
        {
          "output_type": "stream",
          "name": "stdout",
          "text": [
            "---  Accuracy : 1.0 \n",
            "\n",
            "\n",
            "best val loss 0.3793 -> 0.3786\n",
            "\n",
            "Starting epoch 256 / 300\n"
          ]
        },
        {
          "output_type": "stream",
          "name": "stderr",
          "text": [
            "avg train loss: 0.2686: 100%|██████████| 1/1 [00:00<00:00, 27.78it/s]\n",
            "avg val loss: 0.3779: 100%|██████████| 1/1 [00:00<00:00, 129.42it/s]\n"
          ]
        },
        {
          "output_type": "stream",
          "name": "stdout",
          "text": [
            "---  Accuracy : 1.0 \n",
            "\n",
            "\n",
            "best val loss 0.3786 -> 0.3779\n",
            "\n",
            "Starting epoch 257 / 300\n"
          ]
        },
        {
          "output_type": "stream",
          "name": "stderr",
          "text": [
            "avg train loss: 0.2677: 100%|██████████| 1/1 [00:00<00:00, 24.32it/s]\n",
            "avg val loss: 0.3773: 100%|██████████| 1/1 [00:00<00:00, 115.73it/s]\n"
          ]
        },
        {
          "output_type": "stream",
          "name": "stdout",
          "text": [
            "---  Accuracy : 1.0 \n",
            "\n",
            "\n",
            "best val loss 0.3779 -> 0.3773\n",
            "\n",
            "Starting epoch 258 / 300\n"
          ]
        },
        {
          "output_type": "stream",
          "name": "stderr",
          "text": [
            "avg train loss: 0.2668: 100%|██████████| 1/1 [00:00<00:00, 24.06it/s]\n",
            "avg val loss: 0.3766: 100%|██████████| 1/1 [00:00<00:00, 87.82it/s]\n"
          ]
        },
        {
          "output_type": "stream",
          "name": "stdout",
          "text": [
            "---  Accuracy : 1.0 \n",
            "\n",
            "\n",
            "best val loss 0.3773 -> 0.3766\n",
            "\n",
            "Starting epoch 259 / 300\n"
          ]
        },
        {
          "output_type": "stream",
          "name": "stderr",
          "text": [
            "avg train loss: 0.2659: 100%|██████████| 1/1 [00:00<00:00, 23.66it/s]\n",
            "avg val loss: 0.3759: 100%|██████████| 1/1 [00:00<00:00, 135.72it/s]\n"
          ]
        },
        {
          "output_type": "stream",
          "name": "stdout",
          "text": [
            "---  Accuracy : 1.0 \n",
            "\n",
            "\n",
            "best val loss 0.3766 -> 0.3759\n",
            "\n",
            "Starting epoch 260 / 300\n"
          ]
        },
        {
          "output_type": "stream",
          "name": "stderr",
          "text": [
            "avg train loss: 0.2651: 100%|██████████| 1/1 [00:00<00:00, 24.62it/s]\n",
            "avg val loss: 0.3752: 100%|██████████| 1/1 [00:00<00:00, 134.67it/s]\n"
          ]
        },
        {
          "output_type": "stream",
          "name": "stdout",
          "text": [
            "---  Accuracy : 1.0 \n",
            "\n",
            "\n",
            "best val loss 0.3759 -> 0.3752\n",
            "\n",
            "Starting epoch 261 / 300\n"
          ]
        },
        {
          "output_type": "stream",
          "name": "stderr",
          "text": [
            "avg train loss: 0.2642: 100%|██████████| 1/1 [00:00<00:00, 24.07it/s]\n",
            "avg val loss: 0.3746: 100%|██████████| 1/1 [00:00<00:00, 114.97it/s]\n"
          ]
        },
        {
          "output_type": "stream",
          "name": "stdout",
          "text": [
            "---  Accuracy : 1.0 \n",
            "\n",
            "\n",
            "best val loss 0.3752 -> 0.3746\n",
            "\n",
            "Starting epoch 262 / 300\n"
          ]
        },
        {
          "output_type": "stream",
          "name": "stderr",
          "text": [
            "avg train loss: 0.2633: 100%|██████████| 1/1 [00:00<00:00, 24.07it/s]\n",
            "avg val loss: 0.3739: 100%|██████████| 1/1 [00:00<00:00, 118.52it/s]\n"
          ]
        },
        {
          "output_type": "stream",
          "name": "stdout",
          "text": [
            "---  Accuracy : 1.0 \n",
            "\n",
            "\n",
            "best val loss 0.3746 -> 0.3739\n",
            "\n",
            "Starting epoch 263 / 300\n"
          ]
        },
        {
          "output_type": "stream",
          "name": "stderr",
          "text": [
            "avg train loss: 0.2624: 100%|██████████| 1/1 [00:00<00:00, 25.07it/s]\n",
            "avg val loss: 0.3732: 100%|██████████| 1/1 [00:00<00:00, 114.33it/s]\n"
          ]
        },
        {
          "output_type": "stream",
          "name": "stdout",
          "text": [
            "---  Accuracy : 1.0 \n",
            "\n",
            "\n",
            "best val loss 0.3739 -> 0.3732\n",
            "\n",
            "Starting epoch 264 / 300\n"
          ]
        },
        {
          "output_type": "stream",
          "name": "stderr",
          "text": [
            "avg train loss: 0.2615: 100%|██████████| 1/1 [00:00<00:00, 28.39it/s]\n",
            "avg val loss: 0.3725: 100%|██████████| 1/1 [00:00<00:00, 131.93it/s]\n"
          ]
        },
        {
          "output_type": "stream",
          "name": "stdout",
          "text": [
            "---  Accuracy : 1.0 \n",
            "\n",
            "\n",
            "best val loss 0.3732 -> 0.3725\n",
            "\n",
            "Starting epoch 265 / 300\n"
          ]
        },
        {
          "output_type": "stream",
          "name": "stderr",
          "text": [
            "avg train loss: 0.2607: 100%|██████████| 1/1 [00:00<00:00, 29.39it/s]\n",
            "avg val loss: 0.3719: 100%|██████████| 1/1 [00:00<00:00, 104.18it/s]\n"
          ]
        },
        {
          "output_type": "stream",
          "name": "stdout",
          "text": [
            "---  Accuracy : 1.0 \n",
            "\n",
            "\n",
            "best val loss 0.3725 -> 0.3719\n",
            "\n",
            "Starting epoch 266 / 300\n"
          ]
        },
        {
          "output_type": "stream",
          "name": "stderr",
          "text": [
            "avg train loss: 0.2598: 100%|██████████| 1/1 [00:00<00:00, 28.57it/s]\n",
            "avg val loss: 0.3712: 100%|██████████| 1/1 [00:00<00:00, 133.82it/s]\n"
          ]
        },
        {
          "output_type": "stream",
          "name": "stdout",
          "text": [
            "---  Accuracy : 1.0 \n",
            "\n",
            "\n",
            "best val loss 0.3719 -> 0.3712\n",
            "\n",
            "Starting epoch 267 / 300\n"
          ]
        },
        {
          "output_type": "stream",
          "name": "stderr",
          "text": [
            "avg train loss: 0.2589: 100%|██████████| 1/1 [00:00<00:00, 28.64it/s]\n",
            "avg val loss: 0.3705: 100%|██████████| 1/1 [00:00<00:00, 141.65it/s]\n"
          ]
        },
        {
          "output_type": "stream",
          "name": "stdout",
          "text": [
            "---  Accuracy : 1.0 \n",
            "\n",
            "\n",
            "best val loss 0.3712 -> 0.3705\n",
            "\n",
            "Starting epoch 268 / 300\n"
          ]
        },
        {
          "output_type": "stream",
          "name": "stderr",
          "text": [
            "avg train loss: 0.2580: 100%|██████████| 1/1 [00:00<00:00, 14.06it/s]\n",
            "avg val loss: 0.3698: 100%|██████████| 1/1 [00:00<00:00, 121.35it/s]\n"
          ]
        },
        {
          "output_type": "stream",
          "name": "stdout",
          "text": [
            "---  Accuracy : 1.0 \n",
            "\n",
            "\n",
            "best val loss 0.3705 -> 0.3698\n",
            "\n",
            "Starting epoch 269 / 300\n"
          ]
        },
        {
          "output_type": "stream",
          "name": "stderr",
          "text": [
            "avg train loss: 0.2572: 100%|██████████| 1/1 [00:00<00:00, 19.89it/s]\n",
            "avg val loss: 0.3691: 100%|██████████| 1/1 [00:00<00:00, 109.69it/s]\n"
          ]
        },
        {
          "output_type": "stream",
          "name": "stdout",
          "text": [
            "---  Accuracy : 1.0 \n",
            "\n",
            "\n",
            "best val loss 0.3698 -> 0.3691\n",
            "\n",
            "Starting epoch 270 / 300\n"
          ]
        },
        {
          "output_type": "stream",
          "name": "stderr",
          "text": [
            "avg train loss: 0.2563: 100%|██████████| 1/1 [00:00<00:00, 27.11it/s]\n",
            "avg val loss: 0.3684: 100%|██████████| 1/1 [00:00<00:00, 132.31it/s]\n"
          ]
        },
        {
          "output_type": "stream",
          "name": "stdout",
          "text": [
            "---  Accuracy : 1.0 \n",
            "\n",
            "\n",
            "best val loss 0.3691 -> 0.3684\n",
            "\n",
            "Starting epoch 271 / 300\n"
          ]
        },
        {
          "output_type": "stream",
          "name": "stderr",
          "text": [
            "avg train loss: 0.2555: 100%|██████████| 1/1 [00:00<00:00, 25.49it/s]\n",
            "avg val loss: 0.3677: 100%|██████████| 1/1 [00:00<00:00, 129.34it/s]\n"
          ]
        },
        {
          "output_type": "stream",
          "name": "stdout",
          "text": [
            "---  Accuracy : 1.0 \n",
            "\n",
            "\n",
            "best val loss 0.3684 -> 0.3677\n",
            "\n",
            "Starting epoch 272 / 300\n"
          ]
        },
        {
          "output_type": "stream",
          "name": "stderr",
          "text": [
            "avg train loss: 0.2546: 100%|██████████| 1/1 [00:00<00:00, 23.86it/s]\n",
            "avg val loss: 0.3670: 100%|██████████| 1/1 [00:00<00:00, 122.22it/s]\n"
          ]
        },
        {
          "output_type": "stream",
          "name": "stdout",
          "text": [
            "---  Accuracy : 1.0 \n",
            "\n",
            "\n",
            "best val loss 0.3677 -> 0.3670\n",
            "\n",
            "Starting epoch 273 / 300\n"
          ]
        },
        {
          "output_type": "stream",
          "name": "stderr",
          "text": [
            "avg train loss: 0.2538: 100%|██████████| 1/1 [00:00<00:00, 24.64it/s]\n",
            "avg val loss: 0.3664: 100%|██████████| 1/1 [00:00<00:00, 127.09it/s]\n"
          ]
        },
        {
          "output_type": "stream",
          "name": "stdout",
          "text": [
            "---  Accuracy : 1.0 \n",
            "\n",
            "\n",
            "best val loss 0.3670 -> 0.3664\n",
            "\n",
            "Starting epoch 274 / 300\n"
          ]
        },
        {
          "output_type": "stream",
          "name": "stderr",
          "text": [
            "avg train loss: 0.2529: 100%|██████████| 1/1 [00:00<00:00, 21.92it/s]\n",
            "avg val loss: 0.3657: 100%|██████████| 1/1 [00:00<00:00, 156.24it/s]\n"
          ]
        },
        {
          "output_type": "stream",
          "name": "stdout",
          "text": [
            "---  Accuracy : 1.0 \n",
            "\n",
            "\n",
            "best val loss 0.3664 -> 0.3657\n",
            "\n",
            "Starting epoch 275 / 300\n"
          ]
        },
        {
          "output_type": "stream",
          "name": "stderr",
          "text": [
            "avg train loss: 0.2521: 100%|██████████| 1/1 [00:00<00:00, 26.04it/s]\n",
            "avg val loss: 0.3650: 100%|██████████| 1/1 [00:00<00:00, 122.89it/s]\n"
          ]
        },
        {
          "output_type": "stream",
          "name": "stdout",
          "text": [
            "---  Accuracy : 1.0 \n",
            "\n",
            "\n",
            "best val loss 0.3657 -> 0.3650\n",
            "\n",
            "Starting epoch 276 / 300\n"
          ]
        },
        {
          "output_type": "stream",
          "name": "stderr",
          "text": [
            "avg train loss: 0.2512: 100%|██████████| 1/1 [00:00<00:00, 20.21it/s]\n",
            "avg val loss: 0.3643: 100%|██████████| 1/1 [00:00<00:00, 143.96it/s]\n"
          ]
        },
        {
          "output_type": "stream",
          "name": "stdout",
          "text": [
            "---  Accuracy : 1.0 \n",
            "\n",
            "\n",
            "best val loss 0.3650 -> 0.3643\n",
            "\n",
            "Starting epoch 277 / 300\n"
          ]
        },
        {
          "output_type": "stream",
          "name": "stderr",
          "text": [
            "avg train loss: 0.2504: 100%|██████████| 1/1 [00:00<00:00, 27.12it/s]\n",
            "avg val loss: 0.3636: 100%|██████████| 1/1 [00:00<00:00, 109.24it/s]\n"
          ]
        },
        {
          "output_type": "stream",
          "name": "stdout",
          "text": [
            "---  Accuracy : 1.0 \n",
            "\n",
            "\n",
            "best val loss 0.3643 -> 0.3636\n",
            "\n",
            "Starting epoch 278 / 300\n"
          ]
        },
        {
          "output_type": "stream",
          "name": "stderr",
          "text": [
            "avg train loss: 0.2495: 100%|██████████| 1/1 [00:00<00:00, 23.16it/s]\n",
            "avg val loss: 0.3629: 100%|██████████| 1/1 [00:00<00:00, 133.65it/s]\n"
          ]
        },
        {
          "output_type": "stream",
          "name": "stdout",
          "text": [
            "---  Accuracy : 1.0 \n",
            "\n",
            "\n",
            "best val loss 0.3636 -> 0.3629\n",
            "\n",
            "Starting epoch 279 / 300\n"
          ]
        },
        {
          "output_type": "stream",
          "name": "stderr",
          "text": [
            "avg train loss: 0.2487: 100%|██████████| 1/1 [00:00<00:00, 29.27it/s]\n",
            "avg val loss: 0.3621: 100%|██████████| 1/1 [00:00<00:00, 154.16it/s]\n"
          ]
        },
        {
          "output_type": "stream",
          "name": "stdout",
          "text": [
            "---  Accuracy : 1.0 \n",
            "\n",
            "\n",
            "best val loss 0.3629 -> 0.3621\n",
            "\n",
            "Starting epoch 280 / 300\n"
          ]
        },
        {
          "output_type": "stream",
          "name": "stderr",
          "text": [
            "avg train loss: 0.2479: 100%|██████████| 1/1 [00:00<00:00, 23.17it/s]\n",
            "avg val loss: 0.3614: 100%|██████████| 1/1 [00:00<00:00, 136.22it/s]\n"
          ]
        },
        {
          "output_type": "stream",
          "name": "stdout",
          "text": [
            "---  Accuracy : 1.0 \n",
            "\n",
            "\n",
            "best val loss 0.3621 -> 0.3614\n",
            "\n",
            "Starting epoch 281 / 300\n"
          ]
        },
        {
          "output_type": "stream",
          "name": "stderr",
          "text": [
            "avg train loss: 0.2470: 100%|██████████| 1/1 [00:00<00:00, 28.94it/s]\n",
            "avg val loss: 0.3607: 100%|██████████| 1/1 [00:00<00:00, 110.77it/s]\n"
          ]
        },
        {
          "output_type": "stream",
          "name": "stdout",
          "text": [
            "---  Accuracy : 1.0 \n",
            "\n",
            "\n",
            "best val loss 0.3614 -> 0.3607\n",
            "\n",
            "Starting epoch 282 / 300\n"
          ]
        },
        {
          "output_type": "stream",
          "name": "stderr",
          "text": [
            "avg train loss: 0.2462: 100%|██████████| 1/1 [00:00<00:00, 29.68it/s]\n",
            "avg val loss: 0.3600: 100%|██████████| 1/1 [00:00<00:00, 94.22it/s]\n"
          ]
        },
        {
          "output_type": "stream",
          "name": "stdout",
          "text": [
            "---  Accuracy : 1.0 \n",
            "\n",
            "\n",
            "best val loss 0.3607 -> 0.3600\n",
            "\n",
            "Starting epoch 283 / 300\n"
          ]
        },
        {
          "output_type": "stream",
          "name": "stderr",
          "text": [
            "avg train loss: 0.2454: 100%|██████████| 1/1 [00:00<00:00, 26.22it/s]\n",
            "avg val loss: 0.3593: 100%|██████████| 1/1 [00:00<00:00, 101.09it/s]\n"
          ]
        },
        {
          "output_type": "stream",
          "name": "stdout",
          "text": [
            "---  Accuracy : 1.0 \n",
            "\n",
            "\n",
            "best val loss 0.3600 -> 0.3593\n",
            "\n",
            "Starting epoch 284 / 300\n"
          ]
        },
        {
          "output_type": "stream",
          "name": "stderr",
          "text": [
            "avg train loss: 0.2446: 100%|██████████| 1/1 [00:00<00:00, 16.70it/s]\n",
            "avg val loss: 0.3586: 100%|██████████| 1/1 [00:00<00:00, 119.61it/s]\n"
          ]
        },
        {
          "output_type": "stream",
          "name": "stdout",
          "text": [
            "---  Accuracy : 1.0 \n",
            "\n",
            "\n",
            "best val loss 0.3593 -> 0.3586\n",
            "\n",
            "Starting epoch 285 / 300\n"
          ]
        },
        {
          "output_type": "stream",
          "name": "stderr",
          "text": [
            "avg train loss: 0.2437: 100%|██████████| 1/1 [00:00<00:00, 17.46it/s]\n",
            "avg val loss: 0.3579: 100%|██████████| 1/1 [00:00<00:00, 117.91it/s]\n"
          ]
        },
        {
          "output_type": "stream",
          "name": "stdout",
          "text": [
            "---  Accuracy : 1.0 \n",
            "\n",
            "\n",
            "best val loss 0.3586 -> 0.3579\n",
            "\n",
            "Starting epoch 286 / 300\n"
          ]
        },
        {
          "output_type": "stream",
          "name": "stderr",
          "text": [
            "avg train loss: 0.2429: 100%|██████████| 1/1 [00:00<00:00, 18.01it/s]\n",
            "avg val loss: 0.3571: 100%|██████████| 1/1 [00:00<00:00, 123.65it/s]\n"
          ]
        },
        {
          "output_type": "stream",
          "name": "stdout",
          "text": [
            "---  Accuracy : 1.0 \n",
            "\n",
            "\n",
            "best val loss 0.3579 -> 0.3571\n",
            "\n",
            "Starting epoch 287 / 300\n"
          ]
        },
        {
          "output_type": "stream",
          "name": "stderr",
          "text": [
            "avg train loss: 0.2421: 100%|██████████| 1/1 [00:00<00:00, 18.50it/s]\n",
            "avg val loss: 0.3564: 100%|██████████| 1/1 [00:00<00:00, 114.81it/s]\n"
          ]
        },
        {
          "output_type": "stream",
          "name": "stdout",
          "text": [
            "---  Accuracy : 1.0 \n",
            "\n",
            "\n",
            "best val loss 0.3571 -> 0.3564\n",
            "\n",
            "Starting epoch 288 / 300\n"
          ]
        },
        {
          "output_type": "stream",
          "name": "stderr",
          "text": [
            "avg train loss: 0.2413: 100%|██████████| 1/1 [00:00<00:00, 23.13it/s]\n",
            "avg val loss: 0.3557: 100%|██████████| 1/1 [00:00<00:00, 98.90it/s]\n"
          ]
        },
        {
          "output_type": "stream",
          "name": "stdout",
          "text": [
            "---  Accuracy : 1.0 \n",
            "\n",
            "\n",
            "best val loss 0.3564 -> 0.3557\n",
            "\n",
            "Starting epoch 289 / 300\n"
          ]
        },
        {
          "output_type": "stream",
          "name": "stderr",
          "text": [
            "avg train loss: 0.2405: 100%|██████████| 1/1 [00:00<00:00, 20.66it/s]\n",
            "avg val loss: 0.3549: 100%|██████████| 1/1 [00:00<00:00, 156.05it/s]\n"
          ]
        },
        {
          "output_type": "stream",
          "name": "stdout",
          "text": [
            "---  Accuracy : 1.0 \n",
            "\n",
            "\n",
            "best val loss 0.3557 -> 0.3549\n",
            "\n",
            "Starting epoch 290 / 300\n"
          ]
        },
        {
          "output_type": "stream",
          "name": "stderr",
          "text": [
            "avg train loss: 0.2397: 100%|██████████| 1/1 [00:00<00:00, 23.10it/s]\n",
            "avg val loss: 0.3542: 100%|██████████| 1/1 [00:00<00:00, 96.65it/s]\n"
          ]
        },
        {
          "output_type": "stream",
          "name": "stdout",
          "text": [
            "---  Accuracy : 1.0 \n",
            "\n",
            "\n",
            "best val loss 0.3549 -> 0.3542\n",
            "\n",
            "Starting epoch 291 / 300\n"
          ]
        },
        {
          "output_type": "stream",
          "name": "stderr",
          "text": [
            "avg train loss: 0.2389: 100%|██████████| 1/1 [00:00<00:00, 26.11it/s]\n",
            "avg val loss: 0.3535: 100%|██████████| 1/1 [00:00<00:00, 128.20it/s]\n"
          ]
        },
        {
          "output_type": "stream",
          "name": "stdout",
          "text": [
            "---  Accuracy : 1.0 \n",
            "\n",
            "\n",
            "best val loss 0.3542 -> 0.3535\n",
            "\n",
            "Starting epoch 292 / 300\n"
          ]
        },
        {
          "output_type": "stream",
          "name": "stderr",
          "text": [
            "avg train loss: 0.2381: 100%|██████████| 1/1 [00:00<00:00, 23.26it/s]\n",
            "avg val loss: 0.3527: 100%|██████████| 1/1 [00:00<00:00, 129.03it/s]\n"
          ]
        },
        {
          "output_type": "stream",
          "name": "stdout",
          "text": [
            "---  Accuracy : 1.0 \n",
            "\n",
            "\n",
            "best val loss 0.3535 -> 0.3527\n",
            "\n",
            "Starting epoch 293 / 300\n"
          ]
        },
        {
          "output_type": "stream",
          "name": "stderr",
          "text": [
            "avg train loss: 0.2373: 100%|██████████| 1/1 [00:00<00:00, 26.91it/s]\n",
            "avg val loss: 0.3520: 100%|██████████| 1/1 [00:00<00:00, 153.00it/s]\n"
          ]
        },
        {
          "output_type": "stream",
          "name": "stdout",
          "text": [
            "---  Accuracy : 1.0 \n",
            "\n",
            "\n",
            "best val loss 0.3527 -> 0.3520\n",
            "\n",
            "Starting epoch 294 / 300\n"
          ]
        },
        {
          "output_type": "stream",
          "name": "stderr",
          "text": [
            "avg train loss: 0.2365: 100%|██████████| 1/1 [00:00<00:00, 29.52it/s]\n",
            "avg val loss: 0.3513: 100%|██████████| 1/1 [00:00<00:00, 147.23it/s]\n"
          ]
        },
        {
          "output_type": "stream",
          "name": "stdout",
          "text": [
            "---  Accuracy : 1.0 \n",
            "\n",
            "\n",
            "best val loss 0.3520 -> 0.3513\n",
            "\n",
            "Starting epoch 295 / 300\n"
          ]
        },
        {
          "output_type": "stream",
          "name": "stderr",
          "text": [
            "avg train loss: 0.2357: 100%|██████████| 1/1 [00:00<00:00, 29.56it/s]\n",
            "avg val loss: 0.3505: 100%|██████████| 1/1 [00:00<00:00, 152.44it/s]\n"
          ]
        },
        {
          "output_type": "stream",
          "name": "stdout",
          "text": [
            "---  Accuracy : 1.0 \n",
            "\n",
            "\n",
            "best val loss 0.3513 -> 0.3505\n",
            "\n",
            "Starting epoch 296 / 300\n"
          ]
        },
        {
          "output_type": "stream",
          "name": "stderr",
          "text": [
            "avg train loss: 0.2349: 100%|██████████| 1/1 [00:00<00:00, 26.83it/s]\n",
            "avg val loss: 0.3498: 100%|██████████| 1/1 [00:00<00:00, 137.27it/s]\n"
          ]
        },
        {
          "output_type": "stream",
          "name": "stdout",
          "text": [
            "---  Accuracy : 1.0 \n",
            "\n",
            "\n",
            "best val loss 0.3505 -> 0.3498\n",
            "\n",
            "Starting epoch 297 / 300\n"
          ]
        },
        {
          "output_type": "stream",
          "name": "stderr",
          "text": [
            "avg train loss: 0.2341: 100%|██████████| 1/1 [00:00<00:00, 25.68it/s]\n",
            "avg val loss: 0.3490: 100%|██████████| 1/1 [00:00<00:00, 124.59it/s]\n"
          ]
        },
        {
          "output_type": "stream",
          "name": "stdout",
          "text": [
            "---  Accuracy : 1.0 \n",
            "\n",
            "\n",
            "best val loss 0.3498 -> 0.3490\n",
            "\n",
            "Starting epoch 298 / 300\n"
          ]
        },
        {
          "output_type": "stream",
          "name": "stderr",
          "text": [
            "avg train loss: 0.2333: 100%|██████████| 1/1 [00:00<00:00, 14.10it/s]\n",
            "avg val loss: 0.3483: 100%|██████████| 1/1 [00:00<00:00, 141.58it/s]\n"
          ]
        },
        {
          "output_type": "stream",
          "name": "stdout",
          "text": [
            "---  Accuracy : 1.0 \n",
            "\n",
            "\n",
            "best val loss 0.3490 -> 0.3483\n",
            "\n",
            "Starting epoch 299 / 300\n"
          ]
        },
        {
          "output_type": "stream",
          "name": "stderr",
          "text": [
            "avg train loss: 0.2325: 100%|██████████| 1/1 [00:00<00:00, 22.16it/s]\n",
            "avg val loss: 0.3475: 100%|██████████| 1/1 [00:00<00:00, 126.06it/s]\n"
          ]
        },
        {
          "output_type": "stream",
          "name": "stdout",
          "text": [
            "---  Accuracy : 1.0 \n",
            "\n",
            "\n",
            "best val loss 0.3483 -> 0.3475\n",
            "\n",
            "Starting epoch 300 / 300\n"
          ]
        },
        {
          "output_type": "stream",
          "name": "stderr",
          "text": [
            "avg train loss: 0.2317: 100%|██████████| 1/1 [00:00<00:00, 26.55it/s]\n",
            "avg val loss: 0.3468: 100%|██████████| 1/1 [00:00<00:00, 143.54it/s]"
          ]
        },
        {
          "output_type": "stream",
          "name": "stdout",
          "text": [
            "---  Accuracy : 1.0 \n",
            "\n",
            "\n",
            "best val loss 0.3475 -> 0.3468\n"
          ]
        },
        {
          "output_type": "stream",
          "name": "stderr",
          "text": [
            "\n"
          ]
        },
        {
          "output_type": "execute_result",
          "data": {
            "text/plain": [
              "CommonSpatialFilterModel(\n",
              "  (spatial_filtering): Conv2d(1, 30, kernel_size=(64, 1), stride=(1, 1), bias=False)\n",
              "  (classifier): Sequential(\n",
              "    (0): Linear(in_features=30, out_features=2, bias=True)\n",
              "  )\n",
              ")"
            ]
          },
          "metadata": {},
          "execution_count": 20
        }
      ]
    }
  ]
}