{
  "nbformat": 4,
  "nbformat_minor": 0,
  "metadata": {
    "colab": {
      "provenance": [],
      "authorship_tag": "ABX9TyNUoA1+1faTgxmDu1MLDuW7",
      "include_colab_link": true
    },
    "kernelspec": {
      "name": "python3",
      "display_name": "Python 3"
    },
    "language_info": {
      "name": "python"
    }
  },
  "cells": [
    {
      "cell_type": "markdown",
      "metadata": {
        "id": "view-in-github",
        "colab_type": "text"
      },
      "source": [
        "<a href=\"https://colab.research.google.com/github/seongcho1/mnetest/blob/main/eegbci_training%2Bpredict00.ipynb\" target=\"_parent\"><img src=\"https://colab.research.google.com/assets/colab-badge.svg\" alt=\"Open In Colab\"/></a>"
      ]
    },
    {
      "cell_type": "code",
      "source": [
        "!pip install mne"
      ],
      "metadata": {
        "colab": {
          "base_uri": "https://localhost:8080/"
        },
        "id": "R0RTai3nulCP",
        "outputId": "c0c9a3e2-b8c7-4776-a2df-5eedc06ddff5"
      },
      "execution_count": 21,
      "outputs": [
        {
          "output_type": "stream",
          "name": "stdout",
          "text": [
            "Looking in indexes: https://pypi.org/simple, https://us-python.pkg.dev/colab-wheels/public/simple/\n",
            "Requirement already satisfied: mne in /usr/local/lib/python3.8/dist-packages (1.3.0)\n",
            "Requirement already satisfied: decorator in /usr/local/lib/python3.8/dist-packages (from mne) (4.4.2)\n",
            "Requirement already satisfied: scipy>=1.1.0 in /usr/local/lib/python3.8/dist-packages (from mne) (1.7.3)\n",
            "Requirement already satisfied: pooch>=1.5 in /usr/local/lib/python3.8/dist-packages (from mne) (1.6.0)\n",
            "Requirement already satisfied: packaging in /usr/local/lib/python3.8/dist-packages (from mne) (21.3)\n",
            "Requirement already satisfied: tqdm in /usr/local/lib/python3.8/dist-packages (from mne) (4.64.1)\n",
            "Requirement already satisfied: matplotlib in /usr/local/lib/python3.8/dist-packages (from mne) (3.2.2)\n",
            "Requirement already satisfied: jinja2 in /usr/local/lib/python3.8/dist-packages (from mne) (2.11.3)\n",
            "Requirement already satisfied: numpy>=1.15.4 in /usr/local/lib/python3.8/dist-packages (from mne) (1.21.6)\n",
            "Requirement already satisfied: requests>=2.19.0 in /usr/local/lib/python3.8/dist-packages (from pooch>=1.5->mne) (2.25.1)\n",
            "Requirement already satisfied: appdirs>=1.3.0 in /usr/local/lib/python3.8/dist-packages (from pooch>=1.5->mne) (1.4.4)\n",
            "Requirement already satisfied: pyparsing!=3.0.5,>=2.0.2 in /usr/local/lib/python3.8/dist-packages (from packaging->mne) (3.0.9)\n",
            "Requirement already satisfied: MarkupSafe>=0.23 in /usr/local/lib/python3.8/dist-packages (from jinja2->mne) (2.0.1)\n",
            "Requirement already satisfied: python-dateutil>=2.1 in /usr/local/lib/python3.8/dist-packages (from matplotlib->mne) (2.8.2)\n",
            "Requirement already satisfied: kiwisolver>=1.0.1 in /usr/local/lib/python3.8/dist-packages (from matplotlib->mne) (1.4.4)\n",
            "Requirement already satisfied: cycler>=0.10 in /usr/local/lib/python3.8/dist-packages (from matplotlib->mne) (0.11.0)\n",
            "Requirement already satisfied: six>=1.5 in /usr/local/lib/python3.8/dist-packages (from python-dateutil>=2.1->matplotlib->mne) (1.15.0)\n",
            "Requirement already satisfied: certifi>=2017.4.17 in /usr/local/lib/python3.8/dist-packages (from requests>=2.19.0->pooch>=1.5->mne) (2022.12.7)\n",
            "Requirement already satisfied: chardet<5,>=3.0.2 in /usr/local/lib/python3.8/dist-packages (from requests>=2.19.0->pooch>=1.5->mne) (4.0.0)\n",
            "Requirement already satisfied: idna<3,>=2.5 in /usr/local/lib/python3.8/dist-packages (from requests>=2.19.0->pooch>=1.5->mne) (2.10)\n",
            "Requirement already satisfied: urllib3<1.27,>=1.21.1 in /usr/local/lib/python3.8/dist-packages (from requests>=2.19.0->pooch>=1.5->mne) (1.24.3)\n"
          ]
        }
      ]
    },
    {
      "cell_type": "code",
      "source": [
        "import numpy as np\n",
        "import os\n",
        "import mne\n",
        "\n",
        "\n",
        "# from CSP import CSP  # use my own CSP\n",
        "from mne.decoding import CSP  # use mne CSP\n",
        "\n",
        "from mne.io import concatenate_raws, read_raw_edf\n",
        "from mne.datasets import eegbci\n",
        "from mne import events_from_annotations\n",
        "from mne.channels import make_standard_montage\n",
        "\n",
        "\n",
        "from sklearn.discriminant_analysis import LinearDiscriminantAnalysis as LDA\n",
        "from sklearn.model_selection import ShuffleSplit\n",
        "from sklearn.pipeline import Pipeline\n",
        "from sklearn.model_selection import cross_val_score\n",
        "from joblib import dump, load\n",
        "\n",
        "print(__doc__)"
      ],
      "metadata": {
        "id": "jAtiD8Ezudwa",
        "colab": {
          "base_uri": "https://localhost:8080/"
        },
        "outputId": "988ecaf1-a289-481e-e408-3677ccd74fdd"
      },
      "execution_count": 22,
      "outputs": [
        {
          "output_type": "stream",
          "name": "stdout",
          "text": [
            "Automatically created module for IPython interactive environment\n"
          ]
        }
      ]
    },
    {
      "cell_type": "code",
      "source": [
        "def get_data():\n",
        "\n",
        "    # #############################################################################\n",
        "    # # Set parameters and read data\n",
        "\n",
        "    # avoid classification of evoked responses by using epochs that start 1s after\n",
        "    # cue onset.\n",
        "\n",
        "    tmin, tmax = -1., 4.\n",
        "    event_id = dict(hands=2, feet=3)\n",
        "    subject = 1\n",
        "    runs = [6, 10, 14]  # motor imagery: hands vs feet\n",
        "\n",
        "    subjects = range(1, 2) #110\n",
        "    raw_fnames = []\n",
        "    for subject in subjects:\n",
        "      subject_raw_fnames = eegbci.load_data(subject, runs)\n",
        "      raw_fnames.extend(subject_raw_fnames)\n",
        "\n",
        "    #raw_fnames = eegbci.load_data(subject, runs)\n",
        "    raw = concatenate_raws([read_raw_edf(f, preload=True) for f in raw_fnames])\n",
        "    eegbci.standardize(raw)  # set channel names\n",
        "    montage = make_standard_montage('standard_1005')\n",
        "    raw.set_montage(montage)\n",
        "\n",
        "    # Apply band-pass filter\n",
        "    raw.filter(7., 30., fir_design='firwin', skip_by_annotation='edge')\n",
        "\n",
        "    events, _ = events_from_annotations(raw)\n",
        "\n",
        "    picks = pick_types(raw.info, meg=False, eeg=True, stim=False, eog=False,\n",
        "                       exclude='bads')\n",
        "\n",
        "    # Read epochs (train will be done only between 1 and 2s)\n",
        "    # Testing will be done with a running classifier\n",
        "    epochs = Epochs(raw, events, event_id, tmin, tmax, proj=True, picks=picks,\n",
        "                    baseline=None, preload=True)\n",
        "    epochs_train = epochs.copy().crop(tmin=1., tmax=2.)\n",
        "    labels = epochs.events[:, -1] - 2\n",
        "\n",
        "    return raw, epochs, epochs_train, labels\n",
        "\n",
        "\n",
        "# raw, epochs, epochs_train, labels = get_data()\n",
        "# print(epochs.get_data().shape, labels.shape)"
      ],
      "metadata": {
        "id": "OFbpZqL6uJ4A"
      },
      "execution_count": 23,
      "outputs": []
    },
    {
      "cell_type": "code",
      "source": [
        "DATA_DIR = \"mne_data\"\n",
        "SUBJECTS = [42]\n",
        "RUNS1 = [6, 10, 14]  # motor imagery: hands vs feet\n",
        "RUNS2 = [4, 8, 12]  # motor imagery: left hand vs right hand"
      ],
      "metadata": {
        "id": "B7FrAYno4TTR"
      },
      "execution_count": 24,
      "outputs": []
    },
    {
      "cell_type": "code",
      "source": [
        "def fetch_events(data_filtered, tmin=-1., tmax=4.):\n",
        "    event_ids = dict(T1=0, T2=1)\n",
        "    events, _ = events_from_annotations(data_filtered, event_id=event_ids)\n",
        "    picks = mne.pick_types(data_filtered.info, meg=False, eeg=True, stim=False, eog=False, exclude='bads')\n",
        "    epochs = mne.Epochs(data_filtered, events, event_ids, tmin, tmax, proj=True,\n",
        "                        picks=picks, baseline=None, preload=True)\n",
        "    labels = epochs.events[:, -1]\n",
        "    return labels, epochs\n",
        "\n",
        "\n",
        "def filter_data(raw, montage=make_standard_montage('standard_1020')):\n",
        "    data_filter = raw.copy()\n",
        "    data_filter.set_montage(montage)\n",
        "    data_filter.filter(7, 30, fir_design='firwin', skip_by_annotation='edge')\n",
        "    p = mne.viz.plot_raw(data_filter, scalings={\"eeg\": 75e-6})\n",
        "    return data_filter\n",
        "\n",
        "\n",
        "def prepare_data(raw, montage=make_standard_montage('standard_1020')):\n",
        "    raw.rename_channels(lambda x: x.strip('.'))\n",
        "    eegbci.standardize(raw)\n",
        "    raw.set_montage(montage)\n",
        "\n",
        "    # plot\n",
        "    montage = raw.get_montage()\n",
        "    p = montage.plot()\n",
        "    p = mne.viz.plot_raw(raw, scalings={\"eeg\": 75e-6})\n",
        "    return raw\n",
        "\n",
        "\n",
        "def fetch_data(raw_fnames, sfreq=None):\n",
        "    dataset = []\n",
        "    subject = []\n",
        "    for i, f in enumerate(raw_fnames):\n",
        "        if f.endswith(\".edf\") and int(f.split('R')[1].split(\".\")[0]) in RUNS1:\n",
        "            subject_data = mne.io.read_raw_edf(os.path.join(f\"{DATA_DIR}/{SUBJECTS[0]}\", f), preload=True)\n",
        "            if sfreq is None:\n",
        "                sfreq = subject_data.info[\"sfreq\"]\n",
        "            if subject_data.info[\"sfreq\"] == sfreq:\n",
        "                subject.append(subject_data)\n",
        "            else:\n",
        "                break\n",
        "    dataset.append(mne.concatenate_raws(subject))\n",
        "    raw = concatenate_raws(dataset)\n",
        "    return raw"
      ],
      "metadata": {
        "id": "0q_fQ5mq4Lrw"
      },
      "execution_count": 25,
      "outputs": []
    },
    {
      "cell_type": "code",
      "source": [
        "def raw_fnames():\n",
        "    raw_fnames = []\n",
        "    for subject in SUBJECTS:\n",
        "      subject_raw_fnames = eegbci.load_data(subject, RUNS1+RUNS2)\n",
        "      raw_fnames.extend(subject_raw_fnames) \n",
        "    return raw_fnames"
      ],
      "metadata": {
        "id": "jZJV8Urr9sb4"
      },
      "execution_count": 26,
      "outputs": []
    },
    {
      "cell_type": "code",
      "source": [
        "\n",
        "def training():\n",
        "\n",
        "    raw = filter_data(raw=prepare_data(raw=fetch_data(raw_fnames=raw_fnames())))\n",
        "    labels, epochs = fetch_events(filter_data(raw))\n",
        "\n",
        "    epochs_data_train = epochs.get_data()\n",
        "    lda_shrinkage = LDA(solver='lsqr', shrinkage='auto')\n",
        "    cv = ShuffleSplit(10, test_size=0.2, random_state=42)\n",
        "    csp = CSP()\n",
        "\n",
        "    clf = Pipeline([('CSP', csp), ('LDA', lda_shrinkage)])\n",
        "    scores_ldashrinkage = cross_val_score(clf, epochs_data_train, labels, cv=cv, n_jobs=1)\n",
        "    mean_scores_ldashrinkage, std_scores_ldashrinkage = np.mean(scores_ldashrinkage), np.std(scores_ldashrinkage)\n",
        "\n",
        "    class_balance = np.mean(labels == labels[0])\n",
        "    class_balance = max(class_balance, 1. - class_balance)\n",
        "    print(\"LDA SHRINKED Classification accuracy: %f / Chance level: %f\" % (np.mean(scores_ldashrinkage), class_balance))\n",
        "    print(f\"Mean Score Model {mean_scores_ldashrinkage}\")\n",
        "    print(f\"Std Score Model {std_scores_ldashrinkage}\")\n",
        "\n",
        "    # save pipeline\n",
        "    clf = clf.fit(epochs_data_train, labels)\n",
        "    dump(clf, \"final_model.joblib\")\n",
        "    print(\"model saved to final_model.joblib\")\n",
        "    pass\n",
        "\n",
        "#training()"
      ],
      "metadata": {
        "id": "L6CaKC8W4YsC"
      },
      "execution_count": 27,
      "outputs": []
    },
    {
      "cell_type": "code",
      "source": [
        "PREDICT_MODEL = \"final_model.joblib\"\n",
        "SUBJECTS = [2]\n",
        "\n",
        "def predict():\n",
        "    try:\n",
        "        clf = load(PREDICT_MODEL)\n",
        "    except FileNotFoundError as e:\n",
        "        raise Exception(f\"File not found: {PREDICT_MODEL}\")\n",
        "\n",
        "    # Fetch Data\n",
        "    raw = filter_data(raw=prepare_data(raw=fetch_data(raw_fnames=raw_fnames())))\n",
        "    labels, epochs = fetch_events(filter_data(raw))\n",
        "    epochs = epochs.get_data()\n",
        "\n",
        "    print(\"X shape= \", epochs.shape, \"y shape= \", labels.shape)\n",
        "\n",
        "    scores = []\n",
        "    for n in range(epochs.shape[0]):\n",
        "        pred = clf.predict(epochs[n:n + 1, :, :])\n",
        "        print(\"pred= \", pred, \"truth= \", labels[n:n + 1])\n",
        "        scores.append(1 - np.abs(pred[0] - labels[n:n + 1][0]))\n",
        "    print(\"Mean acc= \", np.mean(scores))\n",
        "\n",
        "#predict()"
      ],
      "metadata": {
        "id": "TP-yovQs8_MU"
      },
      "execution_count": 28,
      "outputs": []
    }
  ]
}